{
 "cells": [
  {
   "cell_type": "markdown",
   "metadata": {
    "toc": true
   },
   "source": [
    "<h1>Table of Contents<span class=\"tocSkip\"></span></h1>\n",
    "<div class=\"toc\" style=\"margin-top: 1em;\"><ul class=\"toc-item\"></ul></div>"
   ]
  },
  {
   "cell_type": "code",
   "execution_count": 57,
   "metadata": {
    "collapsed": true
   },
   "outputs": [],
   "source": [
    "%matplotlib inline\n",
    "import pandas as pd"
   ]
  },
  {
   "cell_type": "code",
   "execution_count": 58,
   "metadata": {
    "collapsed": true
   },
   "outputs": [],
   "source": [
    "EVENT_VARIABLES = ['DEATH_CHILD', 'DEATH_FATHER', 'DEATH_HH_PERSON',\n",
    "                   'DEATH_MOTHER', 'DEATH_PARTNER', 'DIVORCED',\n",
    "                   'HH_COMP_CHANGE', 'LAST_JOB_ENDED', 'SEPARATED']\n",
    "\n",
    "def inspect(df, event, row_cond=None):\n",
    "    related_columns = [i for i in df if event in i]\n",
    "    if row_cond is None:\n",
    "        return df.loc[:, ['ID', 'YEAR', 'MIGRATION_STATUS'] + related_columns]\n",
    "    else:\n",
    "        return df.loc[row_cond, ['ID', 'YEAR', 'MIGRATION_STATUS'] + related_columns]"
   ]
  },
  {
   "cell_type": "code",
   "execution_count": 59,
   "metadata": {
    "collapsed": true
   },
   "outputs": [],
   "source": [
    "df = pd.read_pickle('../../bld/out/data/panel.pkl')"
   ]
  },
  {
   "cell_type": "code",
   "execution_count": 61,
   "metadata": {},
   "outputs": [
    {
     "name": "stdout",
     "output_type": "stream",
     "text": [
      "<class 'pandas.core.frame.DataFrame'>\n",
      "Int64Index: 21371 entries, 0 to 9340\n",
      "Data columns (total 59 columns):\n",
      "AGE                                         21371 non-null int64\n",
      "EDUCATION_GROUPS_ISCED97                    21371 non-null object\n",
      "EMPLOYMENT_STATUS                           21371 non-null category\n",
      "EVENT_CHILD_DISORDER_COUNT                  21371 non-null float64\n",
      "EVENT_CHILD_DISORDER_COUNT_PREVIOUS         21371 non-null float64\n",
      "EVENT_CHILD_DISORDER_TIME_DIFF              21371 non-null float64\n",
      "EVENT_DEATH_CHILD_COUNT                     21371 non-null float64\n",
      "EVENT_DEATH_CHILD_COUNT_PREVIOUS            21371 non-null float64\n",
      "EVENT_DEATH_CHILD_TIME_DIFF                 21371 non-null float64\n",
      "EVENT_DEATH_FATHER_COUNT                    21371 non-null float64\n",
      "EVENT_DEATH_FATHER_COUNT_PREVIOUS           21371 non-null float64\n",
      "EVENT_DEATH_FATHER_TIME_DIFF                21371 non-null float64\n",
      "EVENT_DEATH_HH_PERSON_COUNT                 21371 non-null float64\n",
      "EVENT_DEATH_HH_PERSON_COUNT_PREVIOUS        21371 non-null float64\n",
      "EVENT_DEATH_HH_PERSON_TIME_DIFF             21371 non-null float64\n",
      "EVENT_DEATH_MOTHER_COUNT                    21371 non-null float64\n",
      "EVENT_DEATH_MOTHER_COUNT_PREVIOUS           21371 non-null float64\n",
      "EVENT_DEATH_MOTHER_TIME_DIFF                21371 non-null float64\n",
      "EVENT_DEATH_PARTNER_COUNT                   21371 non-null float64\n",
      "EVENT_DEATH_PARTNER_COUNT_PREVIOUS          21371 non-null float64\n",
      "EVENT_DEATH_PARTNER_TIME_DIFF               21371 non-null float64\n",
      "EVENT_DIVORCED_COUNT                        21371 non-null float64\n",
      "EVENT_DIVORCED_COUNT_PREVIOUS               21371 non-null float64\n",
      "EVENT_DIVORCED_TIME_DIFF                    21371 non-null float64\n",
      "EVENT_HH_COMP_CHANGE_COUNT                  21371 non-null float64\n",
      "EVENT_HH_COMP_CHANGE_COUNT_PREVIOUS         21371 non-null float64\n",
      "EVENT_HH_COMP_CHANGE_TIME_DIFF              21371 non-null float64\n",
      "EVENT_LAST_JOB_ENDED_COUNT                  21371 non-null float64\n",
      "EVENT_LAST_JOB_ENDED_COUNT_PREVIOUS         21371 non-null float64\n",
      "EVENT_LAST_JOB_ENDED_TIME_DIFF              21371 non-null float64\n",
      "EVENT_PREGNANCY_UNPLANNED_COUNT             21371 non-null float64\n",
      "EVENT_PREGNANCY_UNPLANNED_COUNT_PREVIOUS    21371 non-null float64\n",
      "EVENT_PREGNANCY_UNPLANNED_TIME_DIFF         21371 non-null float64\n",
      "EVENT_SEPARATED_COUNT                       21371 non-null float64\n",
      "EVENT_SEPARATED_COUNT_PREVIOUS              21371 non-null float64\n",
      "EVENT_SEPARATED_TIME_DIFF                   21371 non-null float64\n",
      "GENDER                                      21371 non-null category\n",
      "HH_NET_INCOME_YEAR                          21371 non-null float64\n",
      "ID                                          21371 non-null int64\n",
      "ID_HH                                       21371 non-null int64\n",
      "INT_MONTH                                   21371 non-null object\n",
      "INT_MONTH_2010                              12164 non-null object\n",
      "INT_MONTH_2015                              9207 non-null object\n",
      "LAST_JOB_ENDED_COUNT_FULL                   21371 non-null int64\n",
      "LEGALLY_HANDICAPPED_PERC_CHANGE             163 non-null float64\n",
      "MARITAL_STATUS                              21371 non-null category\n",
      "MIGRATION_STATUS                            21371 non-null bool\n",
      "YEAR                                        21371 non-null int64\n",
      "EVENT_CHILD_DISORDER                        21371 non-null bool\n",
      "EVENT_DEATH_CHILD                           21371 non-null bool\n",
      "EVENT_DEATH_FATHER                          21371 non-null bool\n",
      "EVENT_DEATH_HH_PERSON                       21371 non-null bool\n",
      "EVENT_DEATH_MOTHER                          21371 non-null bool\n",
      "EVENT_DEATH_PARTNER                         21371 non-null bool\n",
      "EVENT_DIVORCED                              21371 non-null bool\n",
      "EVENT_HH_COMP_CHANGE                        21371 non-null bool\n",
      "EVENT_LAST_JOB_ENDED                        21371 non-null bool\n",
      "EVENT_PREGNANCY_UNPLANNED                   21371 non-null bool\n",
      "EVENT_SEPARATED                             21371 non-null bool\n",
      "dtypes: bool(12), category(3), float64(35), int64(5), object(4)\n",
      "memory usage: 7.6+ MB\n"
     ]
    }
   ],
   "source": [
    "df."
   ]
  },
  {
   "cell_type": "code",
   "execution_count": null,
   "metadata": {
    "collapsed": true
   },
   "outputs": [],
   "source": []
  },
  {
   "cell_type": "code",
   "execution_count": null,
   "metadata": {
    "collapsed": true
   },
   "outputs": [],
   "source": []
  },
  {
   "cell_type": "code",
   "execution_count": null,
   "metadata": {
    "collapsed": true
   },
   "outputs": [],
   "source": []
  },
  {
   "cell_type": "code",
   "execution_count": 54,
   "metadata": {},
   "outputs": [
    {
     "data": {
      "text/plain": [
       "array([[<matplotlib.axes._subplots.AxesSubplot object at 0x000002B673FA1A20>,\n",
       "        <matplotlib.axes._subplots.AxesSubplot object at 0x000002B6708663C8>,\n",
       "        <matplotlib.axes._subplots.AxesSubplot object at 0x000002B67089B438>],\n",
       "       [<matplotlib.axes._subplots.AxesSubplot object at 0x000002B6708D6438>,\n",
       "        <matplotlib.axes._subplots.AxesSubplot object at 0x000002B670B12438>,\n",
       "        <matplotlib.axes._subplots.AxesSubplot object at 0x000002B670B12470>],\n",
       "       [<matplotlib.axes._subplots.AxesSubplot object at 0x000002B670B71F28>,\n",
       "        <matplotlib.axes._subplots.AxesSubplot object at 0x000002B670BB6438>,\n",
       "        <matplotlib.axes._subplots.AxesSubplot object at 0x000002B670BED978>]], dtype=object)"
      ]
     },
     "execution_count": 54,
     "metadata": {},
     "output_type": "execute_result"
    },
    {
     "data": {
      "image/png": "[encoded data removed]",
      "text/plain": [
       "<matplotlib.figure.Figure at 0x2b67059a588>"
      ]
     },
     "metadata": {},
     "output_type": "display_data"
    }
   ],
   "source": [
    "df[['EVENT_' + i + '_COUNT' for i in EVENT_VARIABLES]].hist(figsize=(16, 12))"
   ]
  },
  {
   "cell_type": "code",
   "execution_count": 25,
   "metadata": {},
   "outputs": [],
   "source": [
    "df['EVENT_ALL_COUNT'] = df[['EVENT_' + i + '_COUNT' for i in EVENT_VARIABLES]].sum(axis=1)"
   ]
  },
  {
   "cell_type": "code",
   "execution_count": 27,
   "metadata": {},
   "outputs": [
    {
     "data": {
      "text/plain": [
       "<matplotlib.axes._subplots.AxesSubplot at 0x2b673905c88>"
      ]
     },
     "execution_count": 27,
     "metadata": {},
     "output_type": "execute_result"
    },
    {
     "data": {
      "image/png": "[encoded data removed]",
      "text/plain": [
       "<matplotlib.figure.Figure at 0x2b6738e0a20>"
      ]
     },
     "metadata": {},
     "output_type": "display_data"
    }
   ],
   "source": [
    "df.EVENT_ALL_COUNT.hist()"
   ]
  },
  {
   "cell_type": "code",
   "execution_count": 28,
   "metadata": {},
   "outputs": [
    {
     "data": {
      "text/plain": [
       "14398"
      ]
     },
     "execution_count": 28,
     "metadata": {},
     "output_type": "execute_result"
    }
   ],
   "source": [
    "len(df.ID.unique())"
   ]
  },
  {
   "cell_type": "code",
   "execution_count": 29,
   "metadata": {},
   "outputs": [
    {
     "data": {
      "text/plain": [
       "(21668, 56)"
      ]
     },
     "execution_count": 29,
     "metadata": {},
     "output_type": "execute_result"
    }
   ],
   "source": [
    "df.shape"
   ]
  },
  {
   "cell_type": "code",
   "execution_count": 33,
   "metadata": {
    "collapsed": true
   },
   "outputs": [],
   "source": [
    "a = set(df.loc[df.YEAR == 2010, 'ID'])\n",
    "b = set(df.loc[df.YEAR == 2015, 'ID'])"
   ]
  },
  {
   "cell_type": "code",
   "execution_count": 36,
   "metadata": {},
   "outputs": [
    {
     "data": {
      "text/plain": [
       "7270"
      ]
     },
     "execution_count": 36,
     "metadata": {},
     "output_type": "execute_result"
    }
   ],
   "source": [
    "len(a & b)"
   ]
  },
  {
   "cell_type": "code",
   "execution_count": 56,
   "metadata": {},
   "outputs": [
    {
     "data": {
      "text/plain": [
       "array(['[6] higher education', '[3] middle vocational',\n",
       "       '[2] general elementary', '[5] higher vocational',\n",
       "       '[1] inadequately', '[4] vocational + Abi', '[0] in school'], dtype=object)"
      ]
     },
     "execution_count": 56,
     "metadata": {},
     "output_type": "execute_result"
    }
   ],
   "source": [
    "df.EDUCATION_GROUPS_ISCED97.unique()"
   ]
  },
  {
   "cell_type": "code",
   "execution_count": null,
   "metadata": {
    "collapsed": true
   },
   "outputs": [],
   "source": []
  }
 ],
 "metadata": {
  "kernelspec": {
   "display_name": "Python 3",
   "language": "python",
   "name": "python3"
  },
  "language_info": {
   "codemirror_mode": {
    "name": "ipython",
    "version": 3
   },
   "file_extension": ".py",
   "mimetype": "text/x-python",
   "name": "python",
   "nbconvert_exporter": "python",
   "pygments_lexer": "ipython3",
   "version": "3.6.3"
  },
  "toc": {
   "nav_menu": {},
   "number_sections": true,
   "sideBar": false,
   "skip_h1_title": false,
   "toc_cell": true,
   "toc_position": {},
   "toc_section_display": "block",
   "toc_window_display": false
  }
 },
 "nbformat": 4,
 "nbformat_minor": 2
}
