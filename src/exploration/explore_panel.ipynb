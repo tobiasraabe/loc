{
 "cells": [
  {
   "cell_type": "markdown",
   "metadata": {
    "toc": true
   },
   "source": [
    "<h1>Table of Contents<span class=\"tocSkip\"></span></h1>\n",
    "<div class=\"toc\" style=\"margin-top: 1em;\"><ul class=\"toc-item\"></ul></div>"
   ]
  },
  {
   "cell_type": "code",
   "execution_count": 55,
   "metadata": {
    "collapsed": true
   },
   "outputs": [],
   "source": [
    "import pandas as pd"
   ]
  },
  {
   "cell_type": "code",
   "execution_count": 56,
   "metadata": {
    "collapsed": true
   },
   "outputs": [],
   "source": [
    "EVENT_VARIABLES = ['DEATH_CHILD', 'DEATH_FATHER', 'DEATH_HH_PERSON',\n",
    "                   'DEATH_MOTHER', 'DEATH_PARTNER', 'DIVORCED',\n",
    "                   'HH_COMP_CHANGE', 'LAST_JOB_ENDED', 'SEPARATED']"
   ]
  },
  {
   "cell_type": "code",
   "execution_count": 57,
   "metadata": {
    "collapsed": true
   },
   "outputs": [],
   "source": [
    "df = pd.read_pickle('../../bld/out/data/panel.pkl')"
   ]
  },
  {
   "cell_type": "code",
   "execution_count": 58,
   "metadata": {},
   "outputs": [
    {
     "data": {
      "text/html": [
       "<div>\n",
       "<style scoped>\n",
       "    .dataframe tbody tr th:only-of-type {\n",
       "        vertical-align: middle;\n",
       "    }\n",
       "\n",
       "    .dataframe tbody tr th {\n",
       "        vertical-align: top;\n",
       "    }\n",
       "\n",
       "    .dataframe thead th {\n",
       "        text-align: right;\n",
       "    }\n",
       "</style>\n",
       "<table border=\"1\" class=\"dataframe\">\n",
       "  <thead>\n",
       "    <tr style=\"text-align: right;\">\n",
       "      <th></th>\n",
       "      <th>ID</th>\n",
       "      <th>ID_ORIGINAL_HH</th>\n",
       "      <th>YEAR</th>\n",
       "      <th>ID_HH</th>\n",
       "      <th>GENDER</th>\n",
       "      <th>EMPLOYMENT_STATUS</th>\n",
       "      <th>MARITAL_STATUS</th>\n",
       "      <th>AGE</th>\n",
       "      <th>EVENT_DEATH_CHILD_COUNT</th>\n",
       "      <th>EVENT_DEATH_CHILD_COUNT_PREVIOUS</th>\n",
       "      <th>...</th>\n",
       "      <th>EVENT_SEPARATED_COUNT_PREVIOUS</th>\n",
       "      <th>EVENT_DEATH_CHILD</th>\n",
       "      <th>EVENT_DEATH_FATHER</th>\n",
       "      <th>EVENT_DEATH_HH_PERSON</th>\n",
       "      <th>EVENT_DEATH_MOTHER</th>\n",
       "      <th>EVENT_DEATH_PARTNER</th>\n",
       "      <th>EVENT_DIVORCED</th>\n",
       "      <th>EVENT_HH_COMP_CHANGE</th>\n",
       "      <th>EVENT_LAST_JOB_ENDED</th>\n",
       "      <th>EVENT_SEPARATED</th>\n",
       "    </tr>\n",
       "  </thead>\n",
       "  <tbody>\n",
       "    <tr>\n",
       "      <th>1</th>\n",
       "      <td>901</td>\n",
       "      <td>94</td>\n",
       "      <td>2010</td>\n",
       "      <td>94</td>\n",
       "      <td>Female</td>\n",
       "      <td>Employed</td>\n",
       "      <td>Single</td>\n",
       "      <td>59</td>\n",
       "      <td>0.0</td>\n",
       "      <td>0.0</td>\n",
       "      <td>...</td>\n",
       "      <td>0.0</td>\n",
       "      <td>False</td>\n",
       "      <td>False</td>\n",
       "      <td>False</td>\n",
       "      <td>False</td>\n",
       "      <td>False</td>\n",
       "      <td>False</td>\n",
       "      <td>False</td>\n",
       "      <td>False</td>\n",
       "      <td>False</td>\n",
       "    </tr>\n",
       "    <tr>\n",
       "      <th>0</th>\n",
       "      <td>901</td>\n",
       "      <td>94</td>\n",
       "      <td>2015</td>\n",
       "      <td>94</td>\n",
       "      <td>Female</td>\n",
       "      <td>Not Employed</td>\n",
       "      <td>Single</td>\n",
       "      <td>64</td>\n",
       "      <td>0.0</td>\n",
       "      <td>0.0</td>\n",
       "      <td>...</td>\n",
       "      <td>0.0</td>\n",
       "      <td>False</td>\n",
       "      <td>False</td>\n",
       "      <td>False</td>\n",
       "      <td>True</td>\n",
       "      <td>False</td>\n",
       "      <td>False</td>\n",
       "      <td>False</td>\n",
       "      <td>True</td>\n",
       "      <td>False</td>\n",
       "    </tr>\n",
       "  </tbody>\n",
       "</table>\n",
       "<p>2 rows × 35 columns</p>\n",
       "</div>"
      ],
      "text/plain": [
       "    ID  ID_ORIGINAL_HH  YEAR  ID_HH  GENDER EMPLOYMENT_STATUS MARITAL_STATUS  \\\n",
       "1  901              94  2010     94  Female          Employed         Single   \n",
       "0  901              94  2015     94  Female      Not Employed         Single   \n",
       "\n",
       "   AGE  EVENT_DEATH_CHILD_COUNT  EVENT_DEATH_CHILD_COUNT_PREVIOUS  \\\n",
       "1   59                      0.0                               0.0   \n",
       "0   64                      0.0                               0.0   \n",
       "\n",
       "        ...         EVENT_SEPARATED_COUNT_PREVIOUS  EVENT_DEATH_CHILD  \\\n",
       "1       ...                                    0.0              False   \n",
       "0       ...                                    0.0              False   \n",
       "\n",
       "   EVENT_DEATH_FATHER  EVENT_DEATH_HH_PERSON  EVENT_DEATH_MOTHER  \\\n",
       "1               False                  False               False   \n",
       "0               False                  False                True   \n",
       "\n",
       "   EVENT_DEATH_PARTNER  EVENT_DIVORCED  EVENT_HH_COMP_CHANGE  \\\n",
       "1                False           False                 False   \n",
       "0                False           False                 False   \n",
       "\n",
       "   EVENT_LAST_JOB_ENDED  EVENT_SEPARATED  \n",
       "1                 False            False  \n",
       "0                  True            False  \n",
       "\n",
       "[2 rows x 35 columns]"
      ]
     },
     "execution_count": 58,
     "metadata": {},
     "output_type": "execute_result"
    }
   ],
   "source": [
    "df.loc[df.ID == 901]"
   ]
  },
  {
   "cell_type": "code",
   "execution_count": 59,
   "metadata": {},
   "outputs": [
    {
     "data": {
      "text/plain": [
       "Index(['ID', 'ID_ORIGINAL_HH', 'YEAR', 'ID_HH', 'GENDER', 'EMPLOYMENT_STATUS',\n",
       "       'MARITAL_STATUS', 'AGE', 'EVENT_DEATH_CHILD_COUNT',\n",
       "       'EVENT_DEATH_CHILD_COUNT_PREVIOUS', 'EVENT_DEATH_FATHER_COUNT',\n",
       "       'EVENT_DEATH_FATHER_COUNT_PREVIOUS', 'EVENT_DEATH_HH_PERSON_COUNT',\n",
       "       'EVENT_DEATH_HH_PERSON_COUNT_PREVIOUS', 'EVENT_DEATH_MOTHER_COUNT',\n",
       "       'EVENT_DEATH_MOTHER_COUNT_PREVIOUS', 'EVENT_DEATH_PARTNER_COUNT',\n",
       "       'EVENT_DEATH_PARTNER_COUNT_PREVIOUS', 'EVENT_DIVORCED_COUNT',\n",
       "       'EVENT_DIVORCED_COUNT_PREVIOUS', 'EVENT_HH_COMP_CHANGE_COUNT',\n",
       "       'EVENT_HH_COMP_CHANGE_COUNT_PREVIOUS', 'EVENT_LAST_JOB_ENDED_COUNT',\n",
       "       'EVENT_LAST_JOB_ENDED_COUNT_PREVIOUS', 'EVENT_SEPARATED_COUNT',\n",
       "       'EVENT_SEPARATED_COUNT_PREVIOUS', 'EVENT_DEATH_CHILD',\n",
       "       'EVENT_DEATH_FATHER', 'EVENT_DEATH_HH_PERSON', 'EVENT_DEATH_MOTHER',\n",
       "       'EVENT_DEATH_PARTNER', 'EVENT_DIVORCED', 'EVENT_HH_COMP_CHANGE',\n",
       "       'EVENT_LAST_JOB_ENDED', 'EVENT_SEPARATED'],\n",
       "      dtype='object')"
      ]
     },
     "execution_count": 59,
     "metadata": {},
     "output_type": "execute_result"
    }
   ],
   "source": [
    "df.columns"
   ]
  },
  {
   "cell_type": "code",
   "execution_count": 60,
   "metadata": {},
   "outputs": [
    {
     "name": "stdout",
     "output_type": "stream",
     "text": [
      "<class 'pandas.core.frame.DataFrame'>\n",
      "Int64Index: 21693 entries, 0 to 9340\n",
      "Data columns (total 35 columns):\n",
      "ID                                      21693 non-null int64\n",
      "ID_ORIGINAL_HH                          21693 non-null int64\n",
      "YEAR                                    21693 non-null int64\n",
      "ID_HH                                   21693 non-null int64\n",
      "GENDER                                  21693 non-null category\n",
      "EMPLOYMENT_STATUS                       21693 non-null object\n",
      "MARITAL_STATUS                          21693 non-null category\n",
      "AGE                                     21693 non-null int64\n",
      "EVENT_DEATH_CHILD_COUNT                 21693 non-null float64\n",
      "EVENT_DEATH_CHILD_COUNT_PREVIOUS        21693 non-null float64\n",
      "EVENT_DEATH_FATHER_COUNT                21693 non-null float64\n",
      "EVENT_DEATH_FATHER_COUNT_PREVIOUS       21693 non-null float64\n",
      "EVENT_DEATH_HH_PERSON_COUNT             21693 non-null float64\n",
      "EVENT_DEATH_HH_PERSON_COUNT_PREVIOUS    21693 non-null float64\n",
      "EVENT_DEATH_MOTHER_COUNT                21693 non-null float64\n",
      "EVENT_DEATH_MOTHER_COUNT_PREVIOUS       21693 non-null float64\n",
      "EVENT_DEATH_PARTNER_COUNT               21693 non-null float64\n",
      "EVENT_DEATH_PARTNER_COUNT_PREVIOUS      21693 non-null float64\n",
      "EVENT_DIVORCED_COUNT                    21693 non-null float64\n",
      "EVENT_DIVORCED_COUNT_PREVIOUS           21693 non-null float64\n",
      "EVENT_HH_COMP_CHANGE_COUNT              21693 non-null float64\n",
      "EVENT_HH_COMP_CHANGE_COUNT_PREVIOUS     21693 non-null float64\n",
      "EVENT_LAST_JOB_ENDED_COUNT              21693 non-null float64\n",
      "EVENT_LAST_JOB_ENDED_COUNT_PREVIOUS     21693 non-null float64\n",
      "EVENT_SEPARATED_COUNT                   21693 non-null float64\n",
      "EVENT_SEPARATED_COUNT_PREVIOUS          21693 non-null float64\n",
      "EVENT_DEATH_CHILD                       21693 non-null bool\n",
      "EVENT_DEATH_FATHER                      21693 non-null bool\n",
      "EVENT_DEATH_HH_PERSON                   21693 non-null bool\n",
      "EVENT_DEATH_MOTHER                      21693 non-null bool\n",
      "EVENT_DEATH_PARTNER                     21693 non-null bool\n",
      "EVENT_DIVORCED                          21693 non-null bool\n",
      "EVENT_HH_COMP_CHANGE                    21693 non-null bool\n",
      "EVENT_LAST_JOB_ENDED                    21693 non-null bool\n",
      "EVENT_SEPARATED                         21693 non-null bool\n",
      "dtypes: bool(9), category(2), float64(18), int64(5), object(1)\n",
      "memory usage: 4.4+ MB\n"
     ]
    }
   ],
   "source": [
    "df.info()"
   ]
  },
  {
   "cell_type": "code",
   "execution_count": 61,
   "metadata": {},
   "outputs": [
    {
     "data": {
      "text/plain": [
       "(12352, 35)"
      ]
     },
     "execution_count": 61,
     "metadata": {},
     "output_type": "execute_result"
    }
   ],
   "source": [
    "df.loc[df.YEAR == 2010].shape"
   ]
  },
  {
   "cell_type": "code",
   "execution_count": 62,
   "metadata": {},
   "outputs": [
    {
     "data": {
      "text/plain": [
       "(9341, 35)"
      ]
     },
     "execution_count": 62,
     "metadata": {},
     "output_type": "execute_result"
    }
   ],
   "source": [
    "df.loc[df.YEAR == 2015].shape"
   ]
  },
  {
   "cell_type": "code",
   "execution_count": null,
   "metadata": {
    "collapsed": true
   },
   "outputs": [],
   "source": [
    "df."
   ]
  },
  {
   "cell_type": "code",
   "execution_count": 34,
   "metadata": {
    "collapsed": true
   },
   "outputs": [],
   "source": [
    "df_temp = df.drop_duplicates(['ID', 'YEAR']).copy()"
   ]
  },
  {
   "cell_type": "code",
   "execution_count": 35,
   "metadata": {},
   "outputs": [
    {
     "data": {
      "text/plain": [
       "(14414, 26)"
      ]
     },
     "execution_count": 35,
     "metadata": {},
     "output_type": "execute_result"
    }
   ],
   "source": [
    "df_temp.loc[df_temp.YEAR == 2010].shape"
   ]
  },
  {
   "cell_type": "code",
   "execution_count": 36,
   "metadata": {},
   "outputs": [
    {
     "data": {
      "text/plain": [
       "(9341, 26)"
      ]
     },
     "execution_count": 36,
     "metadata": {},
     "output_type": "execute_result"
    }
   ],
   "source": [
    "df_temp.loc[df_temp.YEAR == 2015].shape"
   ]
  },
  {
   "cell_type": "code",
   "execution_count": 12,
   "metadata": {},
   "outputs": [
    {
     "name": "stdout",
     "output_type": "stream",
     "text": [
      "DEATH_CHILD\n",
      "0.0\n",
      "DEATH_FATHER\n",
      "0.0\n",
      "DEATH_HH_PERSON\n",
      "0.0\n",
      "DEATH_MOTHER\n",
      "0.0\n",
      "DEATH_PARTNER\n",
      "0.0\n",
      "DIVORCED\n",
      "0.0\n",
      "HH_COMP_CHANGE\n",
      "0.0\n",
      "LAST_JOB_ENDED\n",
      "0.0\n",
      "SEPARATED\n",
      "0.0\n"
     ]
    }
   ],
   "source": [
    "for event in EVENT_VARIABLES:\n",
    "    print(event)\n",
    "    print(df.loc[df.YEAR == 2010, 'EVENT_' + event + '_COUNT'].sum())"
   ]
  },
  {
   "cell_type": "code",
   "execution_count": 7,
   "metadata": {},
   "outputs": [
    {
     "name": "stdout",
     "output_type": "stream",
     "text": [
      "EVENT_DEATH_CHILD_COUNT   0.0  1.0  2.0\n",
      "YEAR                                   \n",
      "2010                     5073    0    0\n",
      "2015                     9297   41    3\n",
      "EVENT_DEATH_FATHER_COUNT   0.0  1.0  2.0\n",
      "YEAR                                    \n",
      "2010                      5073    0    0\n",
      "2015                      8904  428    9\n",
      "EVENT_DEATH_HH_PERSON_COUNT   0.0  1.0\n",
      "YEAR                                  \n",
      "2010                         5073    0\n",
      "2015                         9295   46\n",
      "EVENT_DEATH_MOTHER_COUNT   0.0  1.0  2.0\n",
      "YEAR                                    \n",
      "2010                      5073    0    0\n",
      "2015                      8908  426    7\n",
      "EVENT_DEATH_PARTNER_COUNT   0.0  1.0\n",
      "YEAR                                \n",
      "2010                       5073    0\n",
      "2015                       9152  189\n",
      "EVENT_DIVORCED_COUNT   0.0  1.0  2.0\n",
      "YEAR                                \n",
      "2010                  5073    0    0\n",
      "2015                  9200  136    5\n",
      "EVENT_HH_COMP_CHANGE_COUNT   0.0  1.0  2.0\n",
      "YEAR                                      \n",
      "2010                        5073    0    0\n",
      "2015                        9219  119    3\n",
      "EVENT_LAST_JOB_ENDED_COUNT   0.0   1.0  2.0  3.0  4.0  5.0\n",
      "YEAR                                                      \n",
      "2010                        5073     0    0    0    0    0\n",
      "2015                        7048  1724  439  112   13    5\n",
      "EVENT_SEPARATED_COUNT   0.0  1.0  2.0  3.0\n",
      "YEAR                                      \n",
      "2010                   5073    0    0    0\n",
      "2015                   8910  389   40    2\n"
     ]
    }
   ],
   "source": [
    "for event in EVENT_VARIABLES:    \n",
    "    print(pd.crosstab(df.YEAR, df['EVENT_' + event + '_COUNT']))"
   ]
  },
  {
   "cell_type": "code",
   "execution_count": null,
   "metadata": {
    "collapsed": true
   },
   "outputs": [],
   "source": []
  }
 ],
 "metadata": {
  "kernelspec": {
   "display_name": "Python 3",
   "language": "python",
   "name": "python3"
  },
  "language_info": {
   "codemirror_mode": {
    "name": "ipython",
    "version": 3
   },
   "file_extension": ".py",
   "mimetype": "text/x-python",
   "name": "python",
   "nbconvert_exporter": "python",
   "pygments_lexer": "ipython3",
   "version": "3.6.3"
  },
  "toc": {
   "nav_menu": {},
   "number_sections": true,
   "sideBar": false,
   "skip_h1_title": false,
   "toc_cell": true,
   "toc_position": {},
   "toc_section_display": "block",
   "toc_window_display": false
  }
 },
 "nbformat": 4,
 "nbformat_minor": 2
}
