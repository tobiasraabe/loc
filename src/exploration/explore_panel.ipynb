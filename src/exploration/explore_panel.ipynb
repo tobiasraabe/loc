{
 "cells": [
  {
   "cell_type": "markdown",
   "metadata": {
    "toc": true
   },
   "source": [
    "<h1>Table of Contents<span class=\"tocSkip\"></span></h1>\n",
    "<div class=\"toc\" style=\"margin-top: 1em;\"><ul class=\"toc-item\"></ul></div>"
   ]
  },
  {
   "cell_type": "code",
   "execution_count": 44,
   "metadata": {
    "collapsed": true
   },
   "outputs": [],
   "source": [
    "%matplotlib inline\n",
    "import pandas as pd"
   ]
  },
  {
   "cell_type": "code",
   "execution_count": 45,
   "metadata": {
    "collapsed": true
   },
   "outputs": [],
   "source": [
    "EVENT_VARIABLES = ['DEATH_CHILD', 'DEATH_FATHER', 'DEATH_HH_PERSON',\n",
    "                   'DEATH_MOTHER', 'DEATH_PARTNER', 'DIVORCED',\n",
    "                   'HH_COMP_CHANGE', 'LAST_JOB_ENDED', 'SEPARATED']\n",
    "\n",
    "def inspect(df, event, row_cond=None):\n",
    "    related_columns = [i for i in df if event in i]\n",
    "    if row_cond is None:\n",
    "        return df.loc[:, ['ID', 'YEAR', 'MIGRATION_STATUS'] + related_columns]\n",
    "    else:\n",
    "        return df.loc[row_cond, ['ID', 'YEAR', 'MIGRATION_STATUS'] + related_columns]"
   ]
  },
  {
   "cell_type": "code",
   "execution_count": 46,
   "metadata": {
    "collapsed": true
   },
   "outputs": [],
   "source": [
    "df = pd.read_pickle('../../bld/out/data/panel.pkl')"
   ]
  },
  {
   "cell_type": "code",
   "execution_count": 47,
   "metadata": {},
   "outputs": [
    {
     "name": "stdout",
     "output_type": "stream",
     "text": [
      "<class 'pandas.core.frame.DataFrame'>\n",
      "Int64Index: 21668 entries, 0 to 9340\n",
      "Data columns (total 59 columns):\n",
      "AGE                                         21668 non-null int64\n",
      "EDUCATION_GROUPS_ISCED97                    21668 non-null object\n",
      "EMPLOYMENT_STATUS                           21668 non-null category\n",
      "EVENT_CHILD_DISORDER_COUNT                  21668 non-null float64\n",
      "EVENT_CHILD_DISORDER_COUNT_PREVIOUS         21668 non-null float64\n",
      "EVENT_CHILD_DISORDER_TIME_DIFF              21668 non-null float64\n",
      "EVENT_DEATH_CHILD_COUNT                     21668 non-null float64\n",
      "EVENT_DEATH_CHILD_COUNT_PREVIOUS            21668 non-null float64\n",
      "EVENT_DEATH_CHILD_TIME_DIFF                 21668 non-null float64\n",
      "EVENT_DEATH_FATHER_COUNT                    21668 non-null float64\n",
      "EVENT_DEATH_FATHER_COUNT_PREVIOUS           21668 non-null float64\n",
      "EVENT_DEATH_FATHER_TIME_DIFF                21668 non-null float64\n",
      "EVENT_DEATH_HH_PERSON_COUNT                 21668 non-null float64\n",
      "EVENT_DEATH_HH_PERSON_COUNT_PREVIOUS        21668 non-null float64\n",
      "EVENT_DEATH_HH_PERSON_TIME_DIFF             21668 non-null float64\n",
      "EVENT_DEATH_MOTHER_COUNT                    21668 non-null float64\n",
      "EVENT_DEATH_MOTHER_COUNT_PREVIOUS           21668 non-null float64\n",
      "EVENT_DEATH_MOTHER_TIME_DIFF                21668 non-null float64\n",
      "EVENT_DEATH_PARTNER_COUNT                   21668 non-null float64\n",
      "EVENT_DEATH_PARTNER_COUNT_PREVIOUS          21668 non-null float64\n",
      "EVENT_DEATH_PARTNER_TIME_DIFF               21668 non-null float64\n",
      "EVENT_DIVORCED_COUNT                        21668 non-null float64\n",
      "EVENT_DIVORCED_COUNT_PREVIOUS               21668 non-null float64\n",
      "EVENT_DIVORCED_TIME_DIFF                    21668 non-null float64\n",
      "EVENT_HH_COMP_CHANGE_COUNT                  21668 non-null float64\n",
      "EVENT_HH_COMP_CHANGE_COUNT_PREVIOUS         21668 non-null float64\n",
      "EVENT_HH_COMP_CHANGE_TIME_DIFF              21668 non-null float64\n",
      "EVENT_LAST_JOB_ENDED_COUNT                  21668 non-null float64\n",
      "EVENT_LAST_JOB_ENDED_COUNT_PREVIOUS         21668 non-null float64\n",
      "EVENT_LAST_JOB_ENDED_TIME_DIFF              21668 non-null float64\n",
      "EVENT_PREGNANCY_UNPLANNED_COUNT             21668 non-null float64\n",
      "EVENT_PREGNANCY_UNPLANNED_COUNT_PREVIOUS    21668 non-null float64\n",
      "EVENT_PREGNANCY_UNPLANNED_TIME_DIFF         21668 non-null float64\n",
      "EVENT_SEPARATED_COUNT                       21668 non-null float64\n",
      "EVENT_SEPARATED_COUNT_PREVIOUS              21668 non-null float64\n",
      "EVENT_SEPARATED_TIME_DIFF                   21668 non-null float64\n",
      "GENDER                                      21668 non-null category\n",
      "HH_NET_INCOME_MONTHLY                       21371 non-null float64\n",
      "ID                                          21668 non-null int64\n",
      "ID_HH                                       21668 non-null int64\n",
      "INT_MONTH                                   21668 non-null object\n",
      "INT_MONTH_2010                              12340 non-null object\n",
      "INT_MONTH_2015                              9328 non-null object\n",
      "LAST_JOB_ENDED_COUNT_FULL                   21668 non-null int64\n",
      "LEGALLY_HANDICAPPED_PERC_CHANGE             21668 non-null float64\n",
      "MARITAL_STATUS                              21668 non-null category\n",
      "MIGRATION_STATUS                            21668 non-null bool\n",
      "YEAR                                        21668 non-null int64\n",
      "EVENT_CHILD_DISORDER                        21668 non-null bool\n",
      "EVENT_DEATH_CHILD                           21668 non-null bool\n",
      "EVENT_DEATH_FATHER                          21668 non-null bool\n",
      "EVENT_DEATH_HH_PERSON                       21668 non-null bool\n",
      "EVENT_DEATH_MOTHER                          21668 non-null bool\n",
      "EVENT_DEATH_PARTNER                         21668 non-null bool\n",
      "EVENT_DIVORCED                              21668 non-null bool\n",
      "EVENT_HH_COMP_CHANGE                        21668 non-null bool\n",
      "EVENT_LAST_JOB_ENDED                        21668 non-null bool\n",
      "EVENT_PREGNANCY_UNPLANNED                   21668 non-null bool\n",
      "EVENT_SEPARATED                             21668 non-null bool\n",
      "dtypes: bool(12), category(3), float64(35), int64(5), object(4)\n",
      "memory usage: 7.7+ MB\n"
     ]
    }
   ],
   "source": [
    "df.info()"
   ]
  },
  {
   "cell_type": "code",
   "execution_count": 49,
   "metadata": {},
   "outputs": [
    {
     "data": {
      "text/plain": [
       "306        72001\n",
       "221        72001\n",
       "307        72002\n",
       "222        72002\n",
       "521       102703\n",
       "523       102903\n",
       "363       102903\n",
       "622       124401\n",
       "436       124401\n",
       "623       124402\n",
       "437       124402\n",
       "735       142102\n",
       "743       143201\n",
       "537       143201\n",
       "744       143202\n",
       "538       143202\n",
       "749       144601\n",
       "842       161102\n",
       "612       161102\n",
       "843       161103\n",
       "861       163301\n",
       "625       163301\n",
       "862       163302\n",
       "626       163302\n",
       "915       169903\n",
       "663       169903\n",
       "961       175001\n",
       "962       175002\n",
       "1052      187401\n",
       "753       187401\n",
       "          ...   \n",
       "6659     3831002\n",
       "6660     3831003\n",
       "6671     3844802\n",
       "8864     5007301\n",
       "8865     5007302\n",
       "8867     5007401\n",
       "8868     5007402\n",
       "9036     5027402\n",
       "9241     5051002\n",
       "9288     5057703\n",
       "7089     5057703\n",
       "9289     5057704\n",
       "7090     5057704\n",
       "7554     5133103\n",
       "10352    5183901\n",
       "10353    5183902\n",
       "8209     5680202\n",
       "11127    7224301\n",
       "11128    7224302\n",
       "11129    7224303\n",
       "8419     7224303\n",
       "8456     7236502\n",
       "11432    8049801\n",
       "11433    8049802\n",
       "11938    8166601\n",
       "11939    8166602\n",
       "12171    8215301\n",
       "9196     8215301\n",
       "12172    8215302\n",
       "9197     8215302\n",
       "Name: ID, Length: 297, dtype: int64"
      ]
     },
     "execution_count": 49,
     "metadata": {},
     "output_type": "execute_result"
    }
   ],
   "source": [
    "df.loc[df.HH_NET_INCOME_MONTHLY.isnull(), 'ID']"
   ]
  },
  {
   "cell_type": "code",
   "execution_count": 51,
   "metadata": {},
   "outputs": [
    {
     "data": {
      "text/html": [
       "<div>\n",
       "<style scoped>\n",
       "    .dataframe tbody tr th:only-of-type {\n",
       "        vertical-align: middle;\n",
       "    }\n",
       "\n",
       "    .dataframe tbody tr th {\n",
       "        vertical-align: top;\n",
       "    }\n",
       "\n",
       "    .dataframe thead th {\n",
       "        text-align: right;\n",
       "    }\n",
       "</style>\n",
       "<table border=\"1\" class=\"dataframe\">\n",
       "  <thead>\n",
       "    <tr style=\"text-align: right;\">\n",
       "      <th></th>\n",
       "      <th>ID</th>\n",
       "      <th>YEAR</th>\n",
       "      <th>HH_NET_INCOME_MONTHLY</th>\n",
       "    </tr>\n",
       "  </thead>\n",
       "  <tbody>\n",
       "    <tr>\n",
       "      <th>306</th>\n",
       "      <td>72001</td>\n",
       "      <td>2010</td>\n",
       "      <td>NaN</td>\n",
       "    </tr>\n",
       "    <tr>\n",
       "      <th>221</th>\n",
       "      <td>72001</td>\n",
       "      <td>2015</td>\n",
       "      <td>NaN</td>\n",
       "    </tr>\n",
       "  </tbody>\n",
       "</table>\n",
       "</div>"
      ],
      "text/plain": [
       "        ID  YEAR  HH_NET_INCOME_MONTHLY\n",
       "306  72001  2010                    NaN\n",
       "221  72001  2015                    NaN"
      ]
     },
     "execution_count": 51,
     "metadata": {},
     "output_type": "execute_result"
    }
   ],
   "source": [
    "df.loc[df.ID == 72001, ['ID', 'YEAR', 'HH_NET_INCOME_MONTHLY']]"
   ]
  },
  {
   "cell_type": "code",
   "execution_count": null,
   "metadata": {
    "collapsed": true
   },
   "outputs": [],
   "source": []
  },
  {
   "cell_type": "code",
   "execution_count": 13,
   "metadata": {},
   "outputs": [
    {
     "data": {
      "text/plain": [
       "array([[<matplotlib.axes._subplots.AxesSubplot object at 0x000002B670D232E8>,\n",
       "        <matplotlib.axes._subplots.AxesSubplot object at 0x000002B670D5D198>,\n",
       "        <matplotlib.axes._subplots.AxesSubplot object at 0x000002B670D98198>],\n",
       "       [<matplotlib.axes._subplots.AxesSubplot object at 0x000002B670DD0198>,\n",
       "        <matplotlib.axes._subplots.AxesSubplot object at 0x000002B6736E66D8>,\n",
       "        <matplotlib.axes._subplots.AxesSubplot object at 0x000002B6736E6710>],\n",
       "       [<matplotlib.axes._subplots.AxesSubplot object at 0x000002B673749CF8>,\n",
       "        <matplotlib.axes._subplots.AxesSubplot object at 0x000002B673783CF8>,\n",
       "        <matplotlib.axes._subplots.AxesSubplot object at 0x000002B6737C5278>]], dtype=object)"
      ]
     },
     "execution_count": 13,
     "metadata": {},
     "output_type": "execute_result"
    },
    {
     "data": {
      "image/png": "[encoded data removed]",
      "text/plain": [
       "<matplotlib.figure.Figure at 0x2b670d11a58>"
      ]
     },
     "metadata": {},
     "output_type": "display_data"
    }
   ],
   "source": [
    "df[['EVENT_' + i + '_COUNT' for i in EVENT_VARIABLES]].hist()"
   ]
  },
  {
   "cell_type": "code",
   "execution_count": 25,
   "metadata": {},
   "outputs": [],
   "source": [
    "df['EVENT_ALL_COUNT'] = df[['EVENT_' + i + '_COUNT' for i in EVENT_VARIABLES]].sum(axis=1)"
   ]
  },
  {
   "cell_type": "code",
   "execution_count": 27,
   "metadata": {},
   "outputs": [
    {
     "data": {
      "text/plain": [
       "<matplotlib.axes._subplots.AxesSubplot at 0x2b673905c88>"
      ]
     },
     "execution_count": 27,
     "metadata": {},
     "output_type": "execute_result"
    },
    {
     "data": {
      "image/png": "[encoded data removed]",
      "text/plain": [
       "<matplotlib.figure.Figure at 0x2b6738e0a20>"
      ]
     },
     "metadata": {},
     "output_type": "display_data"
    }
   ],
   "source": [
    "df.EVENT_ALL_COUNT.hist()"
   ]
  },
  {
   "cell_type": "code",
   "execution_count": 28,
   "metadata": {},
   "outputs": [
    {
     "data": {
      "text/plain": [
       "14398"
      ]
     },
     "execution_count": 28,
     "metadata": {},
     "output_type": "execute_result"
    }
   ],
   "source": [
    "len(df.ID.unique())"
   ]
  },
  {
   "cell_type": "code",
   "execution_count": 29,
   "metadata": {},
   "outputs": [
    {
     "data": {
      "text/plain": [
       "(21668, 56)"
      ]
     },
     "execution_count": 29,
     "metadata": {},
     "output_type": "execute_result"
    }
   ],
   "source": [
    "df.shape"
   ]
  },
  {
   "cell_type": "code",
   "execution_count": 33,
   "metadata": {
    "collapsed": true
   },
   "outputs": [],
   "source": [
    "a = set(df.loc[df.YEAR == 2010, 'ID'])\n",
    "b = set(df.loc[df.YEAR == 2015, 'ID'])"
   ]
  },
  {
   "cell_type": "code",
   "execution_count": 36,
   "metadata": {},
   "outputs": [
    {
     "data": {
      "text/plain": [
       "7270"
      ]
     },
     "execution_count": 36,
     "metadata": {},
     "output_type": "execute_result"
    }
   ],
   "source": [
    "len(a & b)"
   ]
  },
  {
   "cell_type": "code",
   "execution_count": null,
   "metadata": {
    "collapsed": true
   },
   "outputs": [],
   "source": []
  }
 ],
 "metadata": {
  "kernelspec": {
   "display_name": "Python 3",
   "language": "python",
   "name": "python3"
  },
  "language_info": {
   "codemirror_mode": {
    "name": "ipython",
    "version": 3
   },
   "file_extension": ".py",
   "mimetype": "text/x-python",
   "name": "python",
   "nbconvert_exporter": "python",
   "pygments_lexer": "ipython3",
   "version": "3.6.3"
  },
  "toc": {
   "nav_menu": {},
   "number_sections": true,
   "sideBar": false,
   "skip_h1_title": false,
   "toc_cell": true,
   "toc_position": {},
   "toc_section_display": "block",
   "toc_window_display": false
  }
 },
 "nbformat": 4,
 "nbformat_minor": 2
}
