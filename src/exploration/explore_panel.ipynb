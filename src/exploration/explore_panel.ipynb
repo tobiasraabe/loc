{
 "cells": [
  {
   "cell_type": "markdown",
   "metadata": {
    "toc": true
   },
   "source": [
    "<h1>Table of Contents<span class=\"tocSkip\"></span></h1>\n",
    "<div class=\"toc\" style=\"margin-top: 1em;\"><ul class=\"toc-item\"></ul></div>"
   ]
  },
  {
   "cell_type": "code",
   "execution_count": 5,
   "metadata": {
    "collapsed": true
   },
   "outputs": [],
   "source": [
    "import pandas as pd"
   ]
  },
  {
   "cell_type": "code",
   "execution_count": 13,
   "metadata": {
    "collapsed": true
   },
   "outputs": [],
   "source": [
    "EVENT_VARIABLES = ['DEATH_CHILD', 'DEATH_FATHER', 'DEATH_HH_PERSON',\n",
    "                   'DEATH_MOTHER', 'DEATH_PARTNER', 'DIVORCED',\n",
    "                   'HH_COMP_CHANGE', 'LAST_JOB_ENDED', 'SEPARATED']\n",
    "\n",
    "def inspect(df, event, row_cond=None):\n",
    "    related_columns = [i for i in df if event in i]\n",
    "    if row_cond is None:\n",
    "        return df.loc[:, ['ID', 'YEAR', 'MIGRATION_STATUS'] + related_columns]\n",
    "    else:\n",
    "        return df.loc[row_cond, ['ID', 'YEAR', 'MIGRATION_STATUS'] + related_columns]"
   ]
  },
  {
   "cell_type": "code",
   "execution_count": 14,
   "metadata": {
    "collapsed": true
   },
   "outputs": [],
   "source": [
    "df = pd.read_pickle('../../bld/out/data/panel.pkl')"
   ]
  },
  {
   "cell_type": "code",
   "execution_count": 17,
   "metadata": {},
   "outputs": [
    {
     "data": {
      "text/plain": [
       "array(['[6] higher education', '[3] middle vocational',\n",
       "       '[2] general elementary', '[5] higher vocational',\n",
       "       '[1] inadequately', '[4] vocational + Abi', '[0] in school', nan], dtype=object)"
      ]
     },
     "execution_count": 17,
     "metadata": {},
     "output_type": "execute_result"
    }
   ],
   "source": [
    "df.EDUCATION_GROUPS_ISCED97.unique()"
   ]
  },
  {
   "cell_type": "code",
   "execution_count": 20,
   "metadata": {},
   "outputs": [
    {
     "data": {
      "text/plain": [
       "25"
      ]
     },
     "execution_count": 20,
     "metadata": {},
     "output_type": "execute_result"
    }
   ],
   "source": [
    "df.shape[0] - df.loc[df.EDUCATION_GROUPS_ISCED97.notnull()].shape[0]"
   ]
  },
  {
   "cell_type": "code",
   "execution_count": 15,
   "metadata": {},
   "outputs": [
    {
     "data": {
      "text/plain": [
       "Index(['AGE', 'EDUCATION_GROUPS_ISCED97', 'EMPLOYMENT_STATUS',\n",
       "       'EVENT_CHILD_DISORDER_COUNT', 'EVENT_CHILD_DISORDER_COUNT_PREVIOUS',\n",
       "       'EVENT_CHILD_DISORDER_TIME_DIFF', 'EVENT_DEATH_CHILD_COUNT',\n",
       "       'EVENT_DEATH_CHILD_COUNT_PREVIOUS', 'EVENT_DEATH_CHILD_TIME_DIFF',\n",
       "       'EVENT_DEATH_FATHER_COUNT', 'EVENT_DEATH_FATHER_COUNT_PREVIOUS',\n",
       "       'EVENT_DEATH_FATHER_TIME_DIFF', 'EVENT_DEATH_HH_PERSON_COUNT',\n",
       "       'EVENT_DEATH_HH_PERSON_COUNT_PREVIOUS',\n",
       "       'EVENT_DEATH_HH_PERSON_TIME_DIFF', 'EVENT_DEATH_MOTHER_COUNT',\n",
       "       'EVENT_DEATH_MOTHER_COUNT_PREVIOUS', 'EVENT_DEATH_MOTHER_TIME_DIFF',\n",
       "       'EVENT_DEATH_PARTNER_COUNT', 'EVENT_DEATH_PARTNER_COUNT_PREVIOUS',\n",
       "       'EVENT_DEATH_PARTNER_TIME_DIFF', 'EVENT_DIVORCED_COUNT',\n",
       "       'EVENT_DIVORCED_COUNT_PREVIOUS', 'EVENT_DIVORCED_TIME_DIFF',\n",
       "       'EVENT_HH_COMP_CHANGE_COUNT', 'EVENT_HH_COMP_CHANGE_COUNT_PREVIOUS',\n",
       "       'EVENT_HH_COMP_CHANGE_TIME_DIFF', 'EVENT_LAST_JOB_ENDED_COUNT',\n",
       "       'EVENT_LAST_JOB_ENDED_COUNT_PREVIOUS', 'EVENT_LAST_JOB_ENDED_TIME_DIFF',\n",
       "       'EVENT_PREGNANCY_UNPLANNED_COUNT',\n",
       "       'EVENT_PREGNANCY_UNPLANNED_COUNT_PREVIOUS',\n",
       "       'EVENT_PREGNANCY_UNPLANNED_TIME_DIFF', 'EVENT_SEPARATED_COUNT',\n",
       "       'EVENT_SEPARATED_COUNT_PREVIOUS', 'EVENT_SEPARATED_TIME_DIFF', 'GENDER',\n",
       "       'ID', 'ID_HH', 'ID_ORIGINAL_HH', 'LEGALLY_HANDICAPPED_PERC_CHANGE',\n",
       "       'MARITAL_STATUS', 'MIGRATION_STATUS', 'REASON_JOB_TERMINATED', 'YEAR',\n",
       "       'EVENT_CHILD_DISORDER', 'EVENT_DEATH_CHILD', 'EVENT_DEATH_FATHER',\n",
       "       'EVENT_DEATH_HH_PERSON', 'EVENT_DEATH_MOTHER', 'EVENT_DEATH_PARTNER',\n",
       "       'EVENT_DIVORCED', 'EVENT_HH_COMP_CHANGE', 'EVENT_LAST_JOB_ENDED',\n",
       "       'EVENT_PREGNANCY_UNPLANNED', 'EVENT_SEPARATED'],\n",
       "      dtype='object')"
      ]
     },
     "execution_count": 15,
     "metadata": {},
     "output_type": "execute_result"
    }
   ],
   "source": [
    "df.columns"
   ]
  },
  {
   "cell_type": "code",
   "execution_count": null,
   "metadata": {
    "collapsed": true
   },
   "outputs": [],
   "source": []
  }
 ],
 "metadata": {
  "kernelspec": {
   "display_name": "Python 3",
   "language": "python",
   "name": "python3"
  },
  "language_info": {
   "codemirror_mode": {
    "name": "ipython",
    "version": 3
   },
   "file_extension": ".py",
   "mimetype": "text/x-python",
   "name": "python",
   "nbconvert_exporter": "python",
   "pygments_lexer": "ipython3",
   "version": "3.6.3"
  },
  "toc": {
   "nav_menu": {},
   "number_sections": true,
   "sideBar": false,
   "skip_h1_title": false,
   "toc_cell": true,
   "toc_position": {},
   "toc_section_display": "block",
   "toc_window_display": false
  }
 },
 "nbformat": 4,
 "nbformat_minor": 2
}
