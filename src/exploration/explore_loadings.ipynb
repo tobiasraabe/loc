{
 "cells": [
  {
   "cell_type": "markdown",
   "metadata": {
    "toc": true
   },
   "source": [
    "<h1>Table of Contents<span class=\"tocSkip\"></span></h1>\n",
    "<div class=\"toc\" style=\"margin-top: 1em;\"><ul class=\"toc-item\"></ul></div>"
   ]
  },
  {
   "cell_type": "code",
   "execution_count": 14,
   "metadata": {
    "collapsed": true
   },
   "outputs": [],
   "source": [
    "%matplotlib inline\n",
    "import pandas as pd\n",
    "import matplotlib.pyplot as plt"
   ]
  },
  {
   "cell_type": "code",
   "execution_count": 15,
   "metadata": {
    "collapsed": true
   },
   "outputs": [],
   "source": [
    "pca = pd.read_pickle('../../bld/out/data/pca_loadings.pkl')\n",
    "fa = pd.read_pickle('../../bld/out/data/fa_loadings.pkl')"
   ]
  },
  {
   "cell_type": "code",
   "execution_count": 20,
   "metadata": {},
   "outputs": [
    {
     "data": {
      "text/html": [
       "<div>\n",
       "<style scoped>\n",
       "    .dataframe tbody tr th:only-of-type {\n",
       "        vertical-align: middle;\n",
       "    }\n",
       "\n",
       "    .dataframe tbody tr th {\n",
       "        vertical-align: top;\n",
       "    }\n",
       "\n",
       "    .dataframe thead th {\n",
       "        text-align: right;\n",
       "    }\n",
       "</style>\n",
       "<table border=\"1\" class=\"dataframe\">\n",
       "  <thead>\n",
       "    <tr style=\"text-align: right;\">\n",
       "      <th></th>\n",
       "      <th>FIRST_FACTOR</th>\n",
       "      <th>SECOND_FACTOR</th>\n",
       "    </tr>\n",
       "  </thead>\n",
       "  <tbody>\n",
       "    <tr>\n",
       "      <th>LOC_LIFES_COURSE</th>\n",
       "      <td>-0.485426</td>\n",
       "      <td>-0.675605</td>\n",
       "    </tr>\n",
       "    <tr>\n",
       "      <th>LOC_ACHIEVED_DESERVE</th>\n",
       "      <td>-0.623642</td>\n",
       "      <td>0.221675</td>\n",
       "    </tr>\n",
       "    <tr>\n",
       "      <th>LOC_LUCK</th>\n",
       "      <td>-0.551833</td>\n",
       "      <td>0.444668</td>\n",
       "    </tr>\n",
       "    <tr>\n",
       "      <th>LOC_OTHERS</th>\n",
       "      <td>-0.695917</td>\n",
       "      <td>-0.226187</td>\n",
       "    </tr>\n",
       "    <tr>\n",
       "      <th>LOC_DOUBT</th>\n",
       "      <td>-0.619950</td>\n",
       "      <td>0.093073</td>\n",
       "    </tr>\n",
       "    <tr>\n",
       "      <th>LOC_POSSIBILITIES</th>\n",
       "      <td>-0.499562</td>\n",
       "      <td>0.394970</td>\n",
       "    </tr>\n",
       "    <tr>\n",
       "      <th>LOC_LITTLE_CONTROL</th>\n",
       "      <td>-0.736806</td>\n",
       "      <td>-0.208029</td>\n",
       "    </tr>\n",
       "  </tbody>\n",
       "</table>\n",
       "</div>"
      ],
      "text/plain": [
       "                      FIRST_FACTOR  SECOND_FACTOR\n",
       "LOC_LIFES_COURSE         -0.485426      -0.675605\n",
       "LOC_ACHIEVED_DESERVE     -0.623642       0.221675\n",
       "LOC_LUCK                 -0.551833       0.444668\n",
       "LOC_OTHERS               -0.695917      -0.226187\n",
       "LOC_DOUBT                -0.619950       0.093073\n",
       "LOC_POSSIBILITIES        -0.499562       0.394970\n",
       "LOC_LITTLE_CONTROL       -0.736806      -0.208029"
      ]
     },
     "execution_count": 20,
     "metadata": {},
     "output_type": "execute_result"
    }
   ],
   "source": [
    "pca"
   ]
  },
  {
   "cell_type": "code",
   "execution_count": 18,
   "metadata": {},
   "outputs": [
    {
     "data": {
      "image/png": "[encoded data removed]",
      "text/plain": [
       "<matplotlib.figure.Figure at 0x219b94c7ef0>"
      ]
     },
     "metadata": {},
     "output_type": "display_data"
    }
   ],
   "source": [
    "fig, ax = plt.subplots()\n",
    "\n",
    "ax.scatter(pca.FIRST_FACTOR, pca.SECOND_FACTOR)\n",
    "\n",
    "plt.show()\n",
    "plt.close()"
   ]
  },
  {
   "cell_type": "code",
   "execution_count": 21,
   "metadata": {},
   "outputs": [
    {
     "data": {
      "text/html": [
       "<div>\n",
       "<style scoped>\n",
       "    .dataframe tbody tr th:only-of-type {\n",
       "        vertical-align: middle;\n",
       "    }\n",
       "\n",
       "    .dataframe tbody tr th {\n",
       "        vertical-align: top;\n",
       "    }\n",
       "\n",
       "    .dataframe thead th {\n",
       "        text-align: right;\n",
       "    }\n",
       "</style>\n",
       "<table border=\"1\" class=\"dataframe\">\n",
       "  <thead>\n",
       "    <tr style=\"text-align: right;\">\n",
       "      <th></th>\n",
       "      <th>FIRST_FACTOR</th>\n",
       "      <th>SECOND_FACTOR</th>\n",
       "    </tr>\n",
       "  </thead>\n",
       "  <tbody>\n",
       "    <tr>\n",
       "      <th>LOC_LIFES_COURSE</th>\n",
       "      <td>-0.403818</td>\n",
       "      <td>-0.227657</td>\n",
       "    </tr>\n",
       "    <tr>\n",
       "      <th>LOC_ACHIEVED_DESERVE</th>\n",
       "      <td>-0.522830</td>\n",
       "      <td>0.187963</td>\n",
       "    </tr>\n",
       "    <tr>\n",
       "      <th>LOC_LUCK</th>\n",
       "      <td>-0.462364</td>\n",
       "      <td>0.318022</td>\n",
       "    </tr>\n",
       "    <tr>\n",
       "      <th>LOC_OTHERS</th>\n",
       "      <td>-0.627419</td>\n",
       "      <td>-0.150296</td>\n",
       "    </tr>\n",
       "    <tr>\n",
       "      <th>LOC_DOUBT</th>\n",
       "      <td>-0.515613</td>\n",
       "      <td>0.027213</td>\n",
       "    </tr>\n",
       "    <tr>\n",
       "      <th>LOC_POSSIBILITIES</th>\n",
       "      <td>-0.383437</td>\n",
       "      <td>0.141575</td>\n",
       "    </tr>\n",
       "    <tr>\n",
       "      <th>LOC_LITTLE_CONTROL</th>\n",
       "      <td>-0.691060</td>\n",
       "      <td>-0.119330</td>\n",
       "    </tr>\n",
       "  </tbody>\n",
       "</table>\n",
       "</div>"
      ],
      "text/plain": [
       "                      FIRST_FACTOR  SECOND_FACTOR\n",
       "LOC_LIFES_COURSE         -0.403818      -0.227657\n",
       "LOC_ACHIEVED_DESERVE     -0.522830       0.187963\n",
       "LOC_LUCK                 -0.462364       0.318022\n",
       "LOC_OTHERS               -0.627419      -0.150296\n",
       "LOC_DOUBT                -0.515613       0.027213\n",
       "LOC_POSSIBILITIES        -0.383437       0.141575\n",
       "LOC_LITTLE_CONTROL       -0.691060      -0.119330"
      ]
     },
     "execution_count": 21,
     "metadata": {},
     "output_type": "execute_result"
    }
   ],
   "source": [
    "fa"
   ]
  },
  {
   "cell_type": "code",
   "execution_count": 19,
   "metadata": {},
   "outputs": [
    {
     "data": {
      "image/png": "[encoded data removed]",
      "text/plain": [
       "<matplotlib.figure.Figure at 0x219b94e7080>"
      ]
     },
     "metadata": {},
     "output_type": "display_data"
    }
   ],
   "source": [
    "fig, ax = plt.subplots()\n",
    "\n",
    "ax.scatter(fa.FIRST_FACTOR, fa.SECOND_FACTOR)\n",
    "\n",
    "plt.show()\n",
    "plt.close()"
   ]
  },
  {
   "cell_type": "code",
   "execution_count": null,
   "metadata": {
    "collapsed": true
   },
   "outputs": [],
   "source": []
  }
 ],
 "metadata": {
  "kernelspec": {
   "display_name": "Python 3",
   "language": "python",
   "name": "python3"
  },
  "language_info": {
   "codemirror_mode": {
    "name": "ipython",
    "version": 3
   },
   "file_extension": ".py",
   "mimetype": "text/x-python",
   "name": "python",
   "nbconvert_exporter": "python",
   "pygments_lexer": "ipython3",
   "version": "3.6.3"
  },
  "toc": {
   "nav_menu": {},
   "number_sections": true,
   "sideBar": false,
   "skip_h1_title": false,
   "toc_cell": true,
   "toc_position": {},
   "toc_section_display": "block",
   "toc_window_display": false
  }
 },
 "nbformat": 4,
 "nbformat_minor": 2
}
