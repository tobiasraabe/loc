{
 "cells": [
  {
   "cell_type": "markdown",
   "metadata": {
    "toc": true
   },
   "source": [
    "<h1>Table of Contents<span class=\"tocSkip\"></span></h1>\n",
    "<div class=\"toc\" style=\"margin-top: 1em;\"><ul class=\"toc-item\"></ul></div>"
   ]
  },
  {
   "cell_type": "code",
   "execution_count": 1,
   "metadata": {
    "collapsed": true
   },
   "outputs": [],
   "source": [
    "%matplotlib inline\n",
    "import pandas as pd\n",
    "import numpy as np"
   ]
  },
  {
   "cell_type": "code",
   "execution_count": 2,
   "metadata": {
    "collapsed": true
   },
   "outputs": [],
   "source": [
    "NAN_IDENTIFIERS = [\n",
    "    '[-1] keine Angabe', '[-2] trifft nicht zu',\n",
    "    '[-3] nicht valide',\n",
    "    '[-5] In Fragebogenversion nicht enthalten',\n",
    "    '[-8] Frage in diesem Jahr nicht Teil des Frageprograms',\n",
    "]\n",
    "\n",
    "VARIABLE_NAMES_PGEN = {\n",
    "#     General variables\n",
    "#     'cid': 'ID_ORIGINAL_HH',  # Case id, id of original household\n",
    "    'syear': 'YEAR',  # survey year\n",
    "#     'hid': 'ID_HH',  # current household id\n",
    "    'pid': 'ID',  # permanent personal id\n",
    "    'pgcasmin': 'EDUCATION_GROUPS_CASMIN',\n",
    "    'pgisced97': 'EDUCATION_GROUPS_ISCED97',\n",
    "    'pgisced11': 'EDUCATION_GROUPS_ISCED11',\n",
    "}\n",
    "\n",
    "RETAINED_COLUMNS_PGEN = list(VARIABLE_NAMES_PGEN.keys())"
   ]
  },
  {
   "cell_type": "code",
   "execution_count": 3,
   "metadata": {
    "collapsed": true
   },
   "outputs": [],
   "source": [
    "# Load dataset\n",
    "df = pd.read_stata('../data/pgen.dta', columns=RETAINED_COLUMNS_PGEN)\n",
    "df = df.rename(columns=VARIABLE_NAMES_PGEN)\n",
    "# Identify missing values\n",
    "df.replace(to_replace=NAN_IDENTIFIERS, value=np.nan, inplace=True)\n",
    "for i in [i for i in df if 'EDUCATION' in i]:\n",
    "    df[i].cat.remove_unused_categories(inplace=True)"
   ]
  },
  {
   "cell_type": "code",
   "execution_count": 4,
   "metadata": {},
   "outputs": [
    {
     "name": "stdout",
     "output_type": "stream",
     "text": [
      "<class 'pandas.core.frame.DataFrame'>\n",
      "Int64Index: 594828 entries, 0 to 594827\n",
      "Data columns (total 5 columns):\n",
      "YEAR                        594828 non-null int64\n",
      "ID                          594828 non-null int64\n",
      "EDUCATION_GROUPS_CASMIN     581720 non-null category\n",
      "EDUCATION_GROUPS_ISCED97    584691 non-null category\n",
      "EDUCATION_GROUPS_ISCED11    168818 non-null category\n",
      "dtypes: category(3), int64(2)\n",
      "memory usage: 15.3 MB\n"
     ]
    }
   ],
   "source": [
    "df.info()"
   ]
  },
  {
   "cell_type": "code",
   "execution_count": 8,
   "metadata": {},
   "outputs": [
    {
     "data": {
      "text/plain": [
       "Index(['[0] in school', '[1] inadequately', '[2] general elementary',\n",
       "       '[3] middle vocational', '[4] vocational + Abi',\n",
       "       '[5] higher vocational', '[6] higher education'],\n",
       "      dtype='object')"
      ]
     },
     "execution_count": 8,
     "metadata": {},
     "output_type": "execute_result"
    }
   ],
   "source": [
    "df.EDUCATION_GROUPS_ISCED97.cat.categories"
   ]
  },
  {
   "cell_type": "code",
   "execution_count": null,
   "metadata": {
    "collapsed": true
   },
   "outputs": [],
   "source": []
  }
 ],
 "metadata": {
  "kernelspec": {
   "display_name": "Python 3",
   "language": "python",
   "name": "python3"
  },
  "language_info": {
   "codemirror_mode": {
    "name": "ipython",
    "version": 3
   },
   "file_extension": ".py",
   "mimetype": "text/x-python",
   "name": "python",
   "nbconvert_exporter": "python",
   "pygments_lexer": "ipython3",
   "version": "3.6.3"
  },
  "toc": {
   "nav_menu": {},
   "number_sections": true,
   "sideBar": false,
   "skip_h1_title": false,
   "toc_cell": true,
   "toc_position": {},
   "toc_section_display": "block",
   "toc_window_display": false
  }
 },
 "nbformat": 4,
 "nbformat_minor": 2
}
