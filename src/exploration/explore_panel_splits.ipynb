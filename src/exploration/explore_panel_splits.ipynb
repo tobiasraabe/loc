{
 "cells": [
  {
   "cell_type": "markdown",
   "metadata": {
    "toc": true
   },
   "source": [
    "<h1>Table of Contents<span class=\"tocSkip\"></span></h1>\n",
    "<div class=\"toc\" style=\"margin-top: 1em;\"><ul class=\"toc-item\"></ul></div>"
   ]
  },
  {
   "cell_type": "code",
   "execution_count": 1,
   "metadata": {
    "ExecuteTime": {
     "end_time": "2018-01-22T14:36:59.528237Z",
     "start_time": "2018-01-22T14:36:57.304694Z"
    },
    "collapsed": true
   },
   "outputs": [],
   "source": [
    "import pandas as pd"
   ]
  },
  {
   "cell_type": "code",
   "execution_count": 2,
   "metadata": {
    "ExecuteTime": {
     "end_time": "2018-01-22T14:37:00.144449Z",
     "start_time": "2018-01-22T14:36:59.528237Z"
    },
    "collapsed": true
   },
   "outputs": [],
   "source": [
    "df_2005_2010 = pd.read_pickle('../../bld/out/data/panel_2005_2010_inspection.pkl')\n",
    "df_2010_2015 = pd.read_pickle('../../bld/out/data/panel_2010_2015_inspection.pkl')"
   ]
  },
  {
   "cell_type": "code",
   "execution_count": 3,
   "metadata": {
    "ExecuteTime": {
     "end_time": "2018-01-22T14:37:00.174249Z",
     "start_time": "2018-01-22T14:37:00.144449Z"
    },
    "collapsed": true
   },
   "outputs": [],
   "source": [
    "EVENT_VARIABLES = ['CHILD_DISORDER', 'DEATH_CHILD', 'DEATH_FATHER',\n",
    "                   'DEATH_HH_PERSON', 'DEATH_MOTHER', 'DEATH_PARTNER',\n",
    "                   'DIVORCED', 'HH_COMP_CHANGE', 'LAST_JOB_ENDED',\n",
    "                   'LAST_JOB_ENDED_LIMITED', 'LEGALLY_HANDICAPPED_PERC',\n",
    "                   'PREGNANCY_UNPLANNED', 'SEPARATED']\n",
    "\n",
    "CONTROLS = ['AGE', 'GENDER',\n",
    "            'HH_NET_INCOME_YEAR', 'MARITAL_STATUS',\n",
    "            'MIGRATION_STATUS', 'EDUCATION_GROUPS_ISCED97']\n",
    "\n",
    "RETAINED_COLUMNS = ['ID', 'YEAR'] + CONTROLS + ['EVENT_' + i for i in EVENT_VARIABLES]\n",
    "\n",
    "def inspect(df, event, row_cond=None):\n",
    "    related_columns = [i for i in df if event in i]\n",
    "    if row_cond is None:\n",
    "        return df.loc[:, ['ID', 'YEAR'] + related_columns]\n",
    "    else:\n",
    "        return df.loc[row_cond, ['ID', 'YEAR'] + related_columns]"
   ]
  }
 ],
 "metadata": {
  "kernelspec": {
   "display_name": "Python 3",
   "language": "python",
   "name": "python3"
  },
  "language_info": {
   "codemirror_mode": {
    "name": "ipython",
    "version": 3
   },
   "file_extension": ".py",
   "mimetype": "text/x-python",
   "name": "python",
   "nbconvert_exporter": "python",
   "pygments_lexer": "ipython3",
   "version": "3.6.3"
  },
  "toc": {
   "nav_menu": {},
   "number_sections": true,
   "sideBar": false,
   "skip_h1_title": false,
   "toc_cell": true,
   "toc_position": {},
   "toc_section_display": "block",
   "toc_window_display": false
  }
 },
 "nbformat": 4,
 "nbformat_minor": 2
}
