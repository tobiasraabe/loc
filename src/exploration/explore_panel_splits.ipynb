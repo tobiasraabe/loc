{
 "cells": [
  {
   "cell_type": "markdown",
   "metadata": {
    "toc": true
   },
   "source": [
    "<h1>Table of Contents<span class=\"tocSkip\"></span></h1>\n",
    "<div class=\"toc\" style=\"margin-top: 1em;\"><ul class=\"toc-item\"></ul></div>"
   ]
  },
  {
   "cell_type": "code",
   "execution_count": 10,
   "metadata": {
    "collapsed": true
   },
   "outputs": [],
   "source": [
    "import pandas as pd"
   ]
  },
  {
   "cell_type": "code",
   "execution_count": 11,
   "metadata": {
    "collapsed": true
   },
   "outputs": [],
   "source": [
    "df1 = pd.read_pickle('../../bld/out/data/panel_2005_2010_inspection.pkl')\n",
    "df2 = pd.read_pickle('../../bld/out/data/panel_2010_2015_inspection.pkl')"
   ]
  },
  {
   "cell_type": "code",
   "execution_count": 15,
   "metadata": {
    "collapsed": true
   },
   "outputs": [],
   "source": [
    "EVENT_VARIABLES = ['CHILD_DISORDER', 'DEATH_CHILD', 'DEATH_FATHER',\n",
    "                   'DEATH_HH_PERSON', 'DEATH_MOTHER', 'DEATH_PARTNER',\n",
    "                   'DIVORCED', 'HH_COMP_CHANGE', 'LAST_JOB_ENDED', \n",
    "                   'LAST_JOB_ENDED_LIMITED',\n",
    "                   'PREGNANCY_UNPLANNED', 'SEPARATED']\n",
    "\n",
    "\n",
    "def inspect(df, event, row_cond=None):\n",
    "    related_columns = [i for i in df if event in i]\n",
    "    if row_cond is None:\n",
    "        return df.loc[:, ['ID', 'YEAR'] + related_columns]\n",
    "    else:\n",
    "        return df.loc[row_cond, ['ID', 'YEAR'] + related_columns]"
   ]
  },
  {
   "cell_type": "code",
   "execution_count": 16,
   "metadata": {},
   "outputs": [
    {
     "name": "stdout",
     "output_type": "stream",
     "text": [
      "<class 'pandas.core.frame.DataFrame'>\n",
      "Int64Index: 74112 entries, 0 to 74111\n",
      "Data columns (total 12 columns):\n",
      "EVENT_CHILD_DISORDER            283 non-null object\n",
      "EVENT_DEATH_CHILD               42 non-null object\n",
      "EVENT_DEATH_FATHER              523 non-null object\n",
      "EVENT_DEATH_HH_PERSON           40 non-null object\n",
      "EVENT_DEATH_MOTHER              574 non-null object\n",
      "EVENT_DEATH_PARTNER             250 non-null object\n",
      "EVENT_DIVORCED                  243 non-null object\n",
      "EVENT_HH_COMP_CHANGE            183 non-null object\n",
      "EVENT_LAST_JOB_ENDED            4266 non-null object\n",
      "EVENT_LAST_JOB_ENDED_LIMITED    1206 non-null object\n",
      "EVENT_PREGNANCY_UNPLANNED       253 non-null object\n",
      "EVENT_SEPARATED                 747 non-null object\n",
      "dtypes: object(12)\n",
      "memory usage: 7.4+ MB\n"
     ]
    }
   ],
   "source": [
    "df1[['EVENT_' + i for i in EVENT_VARIABLES]].info()"
   ]
  },
  {
   "cell_type": "code",
   "execution_count": 9,
   "metadata": {},
   "outputs": [
    {
     "data": {
      "text/plain": [
       "100.0    103\n",
       "Name: LEGALLY_HANDICAPPED_PERC_CHANGE, dtype: int64"
      ]
     },
     "execution_count": 9,
     "metadata": {},
     "output_type": "execute_result"
    }
   ],
   "source": [
    "df1.LEGALLY_HANDICAPPED_PERC_CHANGE.value_counts()"
   ]
  },
  {
   "cell_type": "code",
   "execution_count": null,
   "metadata": {
    "collapsed": true
   },
   "outputs": [],
   "source": []
  }
 ],
 "metadata": {
  "kernelspec": {
   "display_name": "Python 3",
   "language": "python",
   "name": "python3"
  },
  "language_info": {
   "codemirror_mode": {
    "name": "ipython",
    "version": 3
   },
   "file_extension": ".py",
   "mimetype": "text/x-python",
   "name": "python",
   "nbconvert_exporter": "python",
   "pygments_lexer": "ipython3",
   "version": "3.6.3"
  },
  "toc": {
   "nav_menu": {},
   "number_sections": true,
   "sideBar": false,
   "skip_h1_title": false,
   "toc_cell": true,
   "toc_position": {},
   "toc_section_display": "block",
   "toc_window_display": false
  }
 },
 "nbformat": 4,
 "nbformat_minor": 2
}
