{
 "cells": [
  {
   "cell_type": "markdown",
   "metadata": {
    "toc": true
   },
   "source": [
    "<h1>Table of Contents<span class=\"tocSkip\"></span></h1>\n",
    "<div class=\"toc\" style=\"margin-top: 1em;\"><ul class=\"toc-item\"><li><span><a href=\"#Read-the-dataset\" data-toc-modified-id=\"Read-the-dataset-1\"><span class=\"toc-item-num\">1&nbsp;&nbsp;</span>Read the dataset</a></span></li><li><span><a href=\"#Extract-loc\" data-toc-modified-id=\"Extract-loc-2\"><span class=\"toc-item-num\">2&nbsp;&nbsp;</span>Extract loc</a></span></li><li><span><a href=\"#Clean-common-variables\" data-toc-modified-id=\"Clean-common-variables-3\"><span class=\"toc-item-num\">3&nbsp;&nbsp;</span>Clean common variables</a></span></li><li><span><a href=\"#Clean-event-variables\" data-toc-modified-id=\"Clean-event-variables-4\"><span class=\"toc-item-num\">4&nbsp;&nbsp;</span>Clean event variables</a></span></li></ul></div>"
   ]
  },
  {
   "cell_type": "code",
   "execution_count": 36,
   "metadata": {
    "collapsed": true
   },
   "outputs": [],
   "source": [
    "%matplotlib inline\n",
    "import numpy as np\n",
    "import pandas as pd\n",
    "\n",
    "from collections import OrderedDict"
   ]
  },
  {
   "cell_type": "markdown",
   "metadata": {},
   "source": [
    "# Read the dataset"
   ]
  },
  {
   "cell_type": "code",
   "execution_count": 2,
   "metadata": {
    "collapsed": true
   },
   "outputs": [],
   "source": [
    "NAN_IDENTIFIERS = [\n",
    "    '[-1] keine Angabe','[-2] trifft nicht zu',\n",
    "    '[-3] nicht valide',\n",
    "    '[-5] In Fragebogenversion nicht enthalten',\n",
    "    '[-8] Frage in diesem Jahr nicht Teil des Frageprograms',\n",
    "]\n",
    "\n",
    "MONTH_DICT = OrderedDict([('[1] Januar', 'January'),\n",
    "                          ('[2] Februar', 'February'),\n",
    "                          ('[3] Maerz', 'March'),\n",
    "                          ('[4] April', 'April'),\n",
    "                          ('[5] Mai', 'May'),\n",
    "                          ('[6] Juni', 'June'),\n",
    "                          ('[7] Juli', 'July'),\n",
    "                          ('[8] August', 'August'),\n",
    "                          ('[9] September', 'September'),\n",
    "                          ('[10] Oktober', 'October'),\n",
    "                          ('[11] November', 'November'),\n",
    "                          ('[12] Dezember', 'December')])\n",
    "\n",
    "VARIABLE_DICT_PL = {\n",
    "    # General variables\n",
    "    'cid': 'ID_ORIGINAL_HH',  # Case id, id of original household\n",
    "    'syear': 'YEAR',  # survey year\n",
    "    'hid': 'ID_HH',  # current household id\n",
    "    'pid': 'ID',  # permanent personal id\n",
    "    # Characteristics\n",
    "    'pla0009': 'GENDER',  # Gender\n",
    "    'plb0022': 'EMPLOYMENT_STATUS',  # Employment status\n",
    "    'plb0304': 'REASON_JOB_TERMINATED',  # Why job terminated\n",
    "    'pld0131': 'MARITAL_STATUS',  # Marital status\n",
    "    'pld0141': 'DIVORCED_MONTH_SY',  # Month divorced survey year, doc error\n",
    "    'pld0142': 'DIVORCED_MONTH_PY',  # Month divorced previous year\n",
    "    'pld0144': 'SEPARATED_MONTH_SY',  # Month separated survey year\n",
    "    'pld0145': 'SEPARATED_MONTH_PY',  # Month separated previous year\n",
    "    'pld0147': 'DEATH_PARTNER_MONTH_SY',  # partner died, survey year\n",
    "    'pld0148': 'DEATH_PARTNER_MONTH_PY',  # partner died, previous year\n",
    "    'pld0156': 'HH_COMP_CHANGE_MONTH_PY',  # change of household composition, previous year\n",
    "    'pld0157': 'HH_COMP_CHANGE_MONTH_SY',  # change of household composition, survey year\n",
    "    'pld0161': 'DEATH_FATHER_MONTH_SY',  # father died survey year\n",
    "    'pld0162': 'DEATH_FATHER_MONTH_PY',  # father died previous year\n",
    "    'pld0164': 'DEATH_MOTHER_MONTH_SY',  # mother died survey year\n",
    "    'pld0165': 'DEATH_MOTHER_MONTH_PY',  # mother died previous year\n",
    "    'pld0167': 'DEATH_CHILD_MONTH_SY',  # child died survey year\n",
    "    'pld0168': 'DEATH_CHILD_MONTH_PY',  # child died previous year\n",
    "    'pld0170': 'DEATH_HH_PERSON_MONTH_SY',  # person in household died, survey year\n",
    "    'pld0171': 'DEATH_HH_PERSON_MONTH_PY',  # person in household died, survey year\n",
    "    'ple0010': 'BIRTH_YEAR',  # birth year\n",
    "    'ple0041': 'LEGALLY_HANDICAPPED_PERC',  # legally handicapped, reduced employment\n",
    "    # LoC items\n",
    "    'plh0005': 'LOC_INFLUENCE_SOCIAL_COND',  # influence on social conditions through involvement\n",
    "    'plh0128': 'LOC_ACHIEVED_DESERVE',  # have not achieved what I deserve\n",
    "    'plh0245': 'LOC_LIFES_COURSE',  # my lifes course depends on me\n",
    "    'plh0246': 'LOC_LUCK',  # what you achieve depends on luck\n",
    "    'plh0247': 'LOC_OTHERS',  # others make crucial decisions in my life\n",
    "    'plh0248': 'LOC_SUCCESS',  # success takes hard work\n",
    "    'plh0249': 'LOC_DOUBT',  # doubt my abilities when problems arise\n",
    "    'plh0250': 'LOC_POSSIBILITIES',  # possibilities are defined by social conditions\n",
    "    'plh0251': 'LOC_ABILITIES',  # abilities are more important than effort\n",
    "    'plh0252': 'LOC_LITTLE_CONTROL',  # little control over my life\n",
    "}\n",
    "\n",
    "RETAINED_COLUMNS_PL = list(VARIABLE_DICT_PL.keys())\n",
    "\n",
    "VARIABLE_DICT_PGEN = {\n",
    "    'pid': 'ID',\n",
    "    'syear': 'YEAR',\n",
    "    'pgmonth': 'INT_MONTH'\n",
    "}\n",
    "\n",
    "RETAINED_COLUMNS_PGEN = list(VARIABLE_DICT_PGEN.keys())"
   ]
  },
  {
   "cell_type": "code",
   "execution_count": 3,
   "metadata": {
    "collapsed": true
   },
   "outputs": [],
   "source": [
    "def fill_with_mode(x):\n",
    "    try:\n",
    "        return x.value_counts().index[0]\n",
    "    except IndexError:\n",
    "        return np.nan\n",
    "    \n",
    "\n",
    "def clean_categoricals_from_multiple_nans(df, nan_list):\n",
    "    \"\"\"Cleans categoricals by replacing multiple NaN statements with np.nan and\n",
    "    then removes the missing categories from the categorical index.\n",
    "    \"\"\"\n",
    "    # Replace different NaN statements with np.nan\n",
    "    df.replace(to_replace=NAN_IDENTIFIERS, value=np.nan, inplace=True)\n",
    "    # Remove unused categories in categoricals\n",
    "    categorical_names = list(df.select_dtypes('category').columns)\n",
    "    for cat in categorical_names:\n",
    "        df[cat].cat.remove_unused_categories(inplace=True)\n",
    "\n",
    "    return df\n",
    "\n",
    "\n",
    "def reorder_month_categoricals(df):\n",
    "    month_variables = [i for i in df if '_MONTH' in i]\n",
    "\n",
    "    for variable in month_variables:\n",
    "        df[variable].cat.set_categories(MONTH_DICT.keys(), ordered=True,\n",
    "                                        inplace=True)\n",
    "        df[variable].cat.rename_categories(MONTH_DICT, inplace=True)\n",
    "\n",
    "    return df"
   ]
  },
  {
   "cell_type": "code",
   "execution_count": 4,
   "metadata": {
    "collapsed": true
   },
   "outputs": [],
   "source": [
    "df = pd.read_stata('../data/pl.dta', columns=RETAINED_COLUMNS_PL)\n",
    "df = df.rename(columns=VARIABLE_DICT_PL)\n",
    "\n",
    "df.sort_values(['ID', 'YEAR'], axis='rows', inplace=True)"
   ]
  },
  {
   "cell_type": "code",
   "execution_count": 5,
   "metadata": {
    "collapsed": true
   },
   "outputs": [],
   "source": [
    "# Load dataset pgen.dta\n",
    "pgen = pd.read_stata('../data/pgen.dta',\n",
    "                     columns=RETAINED_COLUMNS_PGEN)\n",
    "# Rename columns\n",
    "pgen = pgen.rename(columns=VARIABLE_DICT_PGEN)\n",
    "# Merge with df\n",
    "df = df.merge(pgen, on=['ID', 'YEAR'], how='left')\n",
    "\n",
    "# Post-merging processing\n",
    "# Clean categoricals\n",
    "df = clean_categoricals_from_multiple_nans(df, NAN_IDENTIFIERS)\n",
    "# Relabel data containing months and make them comparable\n",
    "df = reorder_month_categoricals(df)"
   ]
  },
  {
   "cell_type": "code",
   "execution_count": 6,
   "metadata": {
    "collapsed": true
   },
   "outputs": [],
   "source": [
    "# Dropping observations which have NaNs in their loc elicitations in 2005,\n",
    "# 2010 or 2015\n",
    "df = df.loc[\n",
    "    (df[[i for i in df if 'LOC' in i]].isnull().any(axis=1) & \n",
    "     df.YEAR.isin([2005, 2010, 2015])) == 0\n",
    "]"
   ]
  },
  {
   "cell_type": "code",
   "execution_count": 7,
   "metadata": {
    "collapsed": true
   },
   "outputs": [],
   "source": [
    "# Shift LEGALLY_HANDICAPPED_PERC to the next year to be able to compute the\n",
    "# annual change in disability\n",
    "df['LEGALLY_HANDICAPPED_PERC_SHIFTED'] = df.groupby(\n",
    "    'ID').LEGALLY_HANDICAPPED_PERC.transform('shift')"
   ]
  },
  {
   "cell_type": "code",
   "execution_count": 8,
   "metadata": {
    "collapsed": true
   },
   "outputs": [],
   "source": [
    "# Select only observations which are in one of the two ranges, 2005-2010 or\n",
    "# 2010-2015, and which are complete, meaning having 6 observations for one\n",
    "# range or 11 for two.\n",
    "# First, create variables to indicate complete ranges\n",
    "df['YEAR_2005_2010'] = df.YEAR.isin([2005, 2006, 2007, 2008, 2009, 2010])\n",
    "df['YEAR_2005_2010_SUM'] = df.groupby('ID').YEAR_2005_2010.transform(sum)\n",
    "df['YEAR_2010_2015'] = df.YEAR.isin([2010, 2011, 2012, 2013, 2014, 2015])\n",
    "df['YEAR_2010_2015_SUM'] = df.groupby('ID').YEAR_2010_2015.transform(sum)\n",
    "# Select only valid years when range is complete\n",
    "df = df.loc[\n",
    "    (df.YEAR.isin([2005, 2006, 2007, 2008, 2009, 2010]) &\n",
    "     (df.YEAR_2005_2010_SUM == 6)) |\n",
    "    (df.YEAR.isin([2010, 2011, 2012, 2013, 2014, 2015]) &\n",
    "     (df.YEAR_2010_2015_SUM == 6))\n",
    "]\n",
    "# Test that for each individual, there are only 6 or 11 possible\n",
    "# observations. There are 6 if individuals are only observed over one\n",
    "# period, 2005-2010 or 2010-2015, and 11 if they are observed over the\n",
    "# whole range.\n",
    "assert df.groupby('ID').YEAR.count().isin([6, 11]).all()\n",
    "\n",
    "# Drop temporary columns\n",
    "df.drop(['YEAR_2005_2010', 'YEAR_2005_2010_SUM',\n",
    "         'YEAR_2010_2015', 'YEAR_2010_2015_SUM'], axis='columns',\n",
    "        inplace=True)"
   ]
  },
  {
   "cell_type": "markdown",
   "metadata": {},
   "source": [
    "# Extract loc"
   ]
  },
  {
   "cell_type": "code",
   "execution_count": 9,
   "metadata": {
    "collapsed": true
   },
   "outputs": [],
   "source": [
    "# Copy loc dataframe and drop columns in other frame\n",
    "loc = df.loc[df.YEAR.isin([2005, 2010, 2015]),\n",
    "             ['ID', 'YEAR'] + [i for i in df if 'LOC' in i]].copy()\n",
    "df.drop([i for i in df if 'LOC' in i], axis='columns', inplace=True)"
   ]
  },
  {
   "cell_type": "markdown",
   "metadata": {},
   "source": [
    "# Clean common variables"
   ]
  },
  {
   "cell_type": "markdown",
   "metadata": {},
   "source": [
    "## ``BIRTH_YEAR``"
   ]
  },
  {
   "cell_type": "code",
   "execution_count": 10,
   "metadata": {
    "collapsed": true
   },
   "outputs": [],
   "source": [
    "df.BIRTH_YEAR.replace(to_replace=-5, value=np.nan, inplace=True)\n",
    "filled_birth_year = df.groupby('ID').BIRTH_YEAR.transform(fill_with_mode)\n",
    "df.BIRTH_YEAR = filled_birth_year\n",
    "\n",
    "# Create age variable\n",
    "df['AGE'] = df.YEAR - df.BIRTH_YEAR\n",
    "# Drop BIRTH_YEAR\n",
    "df.drop('BIRTH_YEAR', axis='columns', inplace=True)"
   ]
  },
  {
   "cell_type": "markdown",
   "metadata": {},
   "source": [
    "## ``EMPLOYMENT_STATUS``"
   ]
  },
  {
   "cell_type": "code",
   "execution_count": 11,
   "metadata": {
    "collapsed": true
   },
   "outputs": [],
   "source": [
    "employment_dict = {\n",
    "    '[1] Voll erwerbstaetig': 'Full-Time Employment',\n",
    "    '[2] Teilzeitbeschaeftigung': 'Regular Part-Time Employment',\n",
    "    '[3] Ausbildung,Lehre': 'Vocational Training',\n",
    "    '[4] Geringfuegig beschaeftigt': 'Marginally employed',\n",
    "    '[5] Altersteilzeit mit Arbeitszeit Null':\n",
    "    'Near Retirement, Zero Working Hours',\n",
    "    '[6] Freiwilliger Wehrdienst': 'Voluntary Military Service',\n",
    "    '[7] Freiwsoziales/oekol.Jahr, Bundesfreiwilligendienst':\n",
    "    'Vol. Soc. Y. / Vol. Eco. Y. / Feder. Vol. Srvc',\n",
    "    '[8] Werkstatt fuer behinderte Menschen': 'Sheltered workshop',\n",
    "    '[9] Nicht erwerbstaetig': 'Not Employed'\n",
    "}\n",
    "\n",
    "df.EMPLOYMENT_STATUS.cat.rename_categories(employment_dict, inplace=True)\n",
    "df.EMPLOYMENT_STATUS.cat.as_unordered(inplace=True)\n",
    "# df = df.loc[df.EMPLOYMENT_STATUS.notnull()]"
   ]
  },
  {
   "cell_type": "markdown",
   "metadata": {},
   "source": [
    "## ``GENDER``"
   ]
  },
  {
   "cell_type": "code",
   "execution_count": 12,
   "metadata": {
    "collapsed": true
   },
   "outputs": [],
   "source": [
    "df.GENDER.cat.rename_categories({'[1] Maennlich': 'Male', '[2] Weiblich': 'Female'}, inplace=True)\n",
    "\n",
    "filled_gender = df.groupby('ID').GENDER.transform(fill_with_mode)\n",
    "df.GENDER = filled_gender.astype('category')"
   ]
  },
  {
   "cell_type": "markdown",
   "metadata": {},
   "source": [
    "## ``LEGALLY_HANDICAPPED_PERC``\n",
    "\n",
    "The question here is what to make of the negative values where people's legal handicapped status was reduced?"
   ]
  },
  {
   "cell_type": "code",
   "execution_count": 41,
   "metadata": {
    "collapsed": true
   },
   "outputs": [],
   "source": [
    "# Replace negative values with NaNs\n",
    "legally_handicapped_perc_dict = {\n",
    "    -1: 0,   # no answer/don't know\n",
    "    -2: 0,   # does not apply\n",
    "    -3: 70,  # implausible value, only applies to ID == 2722302 who has 70%\n",
    "             # in the previous year. Assume it is constant.\n",
    "}\n",
    "df.replace({\n",
    "    'LEGALLY_HANDICAPPED_PERC': legally_handicapped_perc_dict,\n",
    "    'LEGALLY_HANDICAPPED_PERC_SHIFTED': legally_handicapped_perc_dict},\n",
    "    inplace=True)\n",
    "# Calculate change in LEGALLY_HANDICAPPED_PERC\n",
    "df['LEGALLY_HANDICAPPED_PERC_CHANGE'] = (df.LEGALLY_HANDICAPPED_PERC -\n",
    "                                         df.LEGALLY_HANDICAPPED_PERC_SHIFTED)\n",
    "# Drop unneccessary columns\n",
    "df.drop(['LEGALLY_HANDICAPPED_PERC', 'LEGALLY_HANDICAPPED_PERC_SHIFTED'],\n",
    "        axis='columns', inplace=True)"
   ]
  },
  {
   "cell_type": "code",
   "execution_count": 42,
   "metadata": {},
   "outputs": [
    {
     "name": "stdout",
     "output_type": "stream",
     "text": [
      "<class 'pandas.core.frame.DataFrame'>\n",
      "Int64Index: 122879 entries, 142 to 503781\n",
      "Data columns (total 27 columns):\n",
      "ID_ORIGINAL_HH                     122879 non-null int64\n",
      "YEAR                               122879 non-null int64\n",
      "ID_HH                              122879 non-null int64\n",
      "ID                                 122879 non-null int64\n",
      "GENDER                             122879 non-null category\n",
      "EMPLOYMENT_STATUS                  122879 non-null category\n",
      "REASON_JOB_TERMINATED              9605 non-null category\n",
      "MARITAL_STATUS                     122879 non-null category\n",
      "DIVORCED_MONTH_SY                  98 non-null category\n",
      "DIVORCED_MONTH_PY                  455 non-null category\n",
      "SEPARATED_MONTH_SY                 302 non-null category\n",
      "SEPARATED_MONTH_PY                 1399 non-null category\n",
      "DEATH_PARTNER_MONTH_SY             95 non-null category\n",
      "DEATH_PARTNER_MONTH_PY             482 non-null category\n",
      "HH_COMP_CHANGE_MONTH_PY            420 non-null category\n",
      "HH_COMP_CHANGE_MONTH_SY            0 non-null category\n",
      "DEATH_FATHER_MONTH_SY              226 non-null category\n",
      "DEATH_FATHER_MONTH_PY              1077 non-null category\n",
      "DEATH_MOTHER_MONTH_SY              244 non-null category\n",
      "DEATH_MOTHER_MONTH_PY              1124 non-null category\n",
      "DEATH_CHILD_MONTH_SY               19 non-null category\n",
      "DEATH_CHILD_MONTH_PY               88 non-null category\n",
      "DEATH_HH_PERSON_MONTH_SY           19 non-null category\n",
      "DEATH_HH_PERSON_MONTH_PY           90 non-null category\n",
      "INT_MONTH                          122879 non-null category\n",
      "AGE                                122879 non-null int64\n",
      "LEGALLY_HANDICAPPED_PERC_CHANGE    122433 non-null float64\n",
      "dtypes: category(21), float64(1), int64(5)\n",
      "memory usage: 14.0 MB\n"
     ]
    }
   ],
   "source": [
    "df.info()"
   ]
  },
  {
   "cell_type": "markdown",
   "metadata": {},
   "source": [
    "## ``MARITAL_STATUS``"
   ]
  },
  {
   "cell_type": "code",
   "execution_count": null,
   "metadata": {
    "collapsed": true
   },
   "outputs": [],
   "source": [
    "marital_status_dict = {\n",
    "    '[1] Verheiratet, zusammenlebend': 'Married, live together',\n",
    "    '[2] Verheiratet, getrenntlebend': 'Married, separated',\n",
    "    '[3] Ledig': 'Single',\n",
    "    '[4] Geschieden, eing. gleichg. Partn. aufgehoben':\n",
    "    'Divorced, registered partnership dissolved',\n",
    "    '[5] Verwitwet, Lebenspartner/in verstorben': 'Widowed',\n",
    "    '[6] Eing. gleichg. Partn., zusammenlebend':\n",
    "    'Registered same-sex partnership, living together',\n",
    "    '[7] Eing. gleichg. Partn., getrenntlebend':\n",
    "    'Registered same-sex partnership, separated'\n",
    "}\n",
    "df.MARITAL_STATUS.cat.rename_categories(marital_status_dict, inplace=True)"
   ]
  },
  {
   "cell_type": "markdown",
   "metadata": {},
   "source": [
    "## ``REASON_JOB_TERMINATED``\n",
    "\n",
    "This requires further knowledge of monthly employment. This data is present in ``pkal``."
   ]
  },
  {
   "cell_type": "code",
   "execution_count": 47,
   "metadata": {
    "collapsed": true
   },
   "outputs": [],
   "source": [
    "# As Preuss, Hennecke (2017), we only consider plant closure and displacement\n",
    "# by employer to be sufficiently exogenous. Other reasons are discarded.\n",
    "# Rename useful categoires\n",
    "reason_job_terminated_dict = {\n",
    "    '[1] Betriebsstillegung, Aufloesung Dienstst.': 'Plant closure',\n",
    "    '[3] Kuendigung Arbeitgeber': 'Displacement by employer'}\n",
    "df.REASON_JOB_TERMINATED.cat.rename_categories(reason_job_terminated_dict,\n",
    "                                               inplace=True)\n",
    "# Delete useless categories\n",
    "reason_job_terminated_list = [\n",
    "    '[2] Eigene Kuendigung', '[4] Aufloesungsvertrag', '[5] Ende Befristung', \n",
    "    '[6] Verrentung, Pensionierung', '[7] Beurlaubung', \n",
    "    '[8] Geschaeftsaufgabe (Selbstaendige)', '[9] Vorruhestand', \n",
    "    '[10] Ende der Ausbildung', '[11] Versetzung auf eigenen Wunsch', \n",
    "    '[12] Versetzung durch Betrieb', '[13] Sonstige Gruende']\n",
    "df.REASON_JOB_TERMINATED.cat.remove_categories(reason_job_terminated_list,\n",
    "                                               inplace=True)"
   ]
  },
  {
   "cell_type": "markdown",
   "metadata": {},
   "source": [
    "# Clean event variables"
   ]
  },
  {
   "cell_type": "code",
   "execution_count": null,
   "metadata": {
    "collapsed": true
   },
   "outputs": [],
   "source": [
    "# # Duplicate observations in 2010 to separate before and after the interview\n",
    "# duplicate_2010 = df.loc[df.YEAR == 2010].copy()\n",
    "# # Change year in df for 2010 to 2010.1\n",
    "# df.loc[df.YEAR == 2010, 'YEAR'] = 2010.1\n",
    "# # Change year in duplicates to 2010.2\n",
    "# duplicate_2010.YEAR = 2010.2\n",
    "# # Append duplicates\n",
    "# df = df.append(duplicate_2010).sort_values(['ID', 'YEAR'], axis='rows')"
   ]
  },
  {
   "cell_type": "markdown",
   "metadata": {},
   "source": [
    "## ``DIVORCED``\n",
    "\n",
    "The following code piece is left here to investigate the loop."
   ]
  },
  {
   "cell_type": "code",
   "execution_count": null,
   "metadata": {
    "collapsed": true
   },
   "outputs": [],
   "source": [
    "# # Shift DIVORCED_MONTH_PY in the previous year\n",
    "# df['DIVORCED_MONTH_PY_SHIFTED'] = df.groupby('ID').DIVORCED_MONTH_PY.shift(-1)\n",
    "# # Use DIVORCED_MONTH_SY where both agree\n",
    "# df.loc[df.DIVORCED_MONTH_SY == df.DIVORCED_MONTH_PY_SHIFTED,\n",
    "#        'DIVORCED_MONTH'] = df.DIVORCED_MONTH_SY\n",
    "# # Use DIVORCED_MONTH_PY_SHIFTED where DIVORCED_MONTH_SY is NaN\n",
    "# df.loc[df.DIVORCED_MONTH_SY.isnull() & df.DIVORCED_MONTH_PY_SHIFTED.notnull(),\n",
    "#        'DIVORCED_MONTH'] = df.DIVORCED_MONTH_PY_SHIFTED\n",
    "# # Use DIVORCED_MONTH_SY where DIVORCED_MONTH_PY_SHIFTED is NaN or they\n",
    "# # disagree because the PY could be more error prone to memory loss\n",
    "# df.loc[df.DIVORCED_MONTH_SY.notnull() & df.DIVORCED_MONTH_PY_SHIFTED.isnull(),\n",
    "#        'DIVORCED_MONTH'] = df.DIVORCED_MONTH_SY\n",
    "# df.loc[df.DIVORCED_MONTH_SY != df.DIVORCED_MONTH_PY_SHIFTED,\n",
    "#        'DIVORCED_MONTH'] = df.DIVORCED_MONTH_SY\n",
    "# # Make DIVORCED_MONTH a categorical\n",
    "# df.DIVORCED_MONTH = df.DIVORCED_MONTH.astype('category')\n",
    "# df.DIVORCED_MONTH.cat.reorder_categories(MONTH_DICT.values(), ordered=True,\n",
    "#                                          inplace=True)\n",
    "\n",
    "# # Create variable whether divorce was before the interview to determine\n",
    "# # timing. Note that, cases where the months of the event and interview\n",
    "# # coincide are flagged as False.\n",
    "# df.loc[df.DIVORCED_MONTH.notnull(),\n",
    "#        'DIVORCED_BEFORE_INTERVIEW'] = df.DIVORCED_MONTH < df.INT_MONTH\n",
    "# # There are 66 cases in which interview and divorce coincide. A divorce\n",
    "# # happened before the interview if DIVORCE_MONTH_SY is not NaN. The opposite\n",
    "# # case if DIVORCE_MONTH_SY is NaN is already flagged as false due to the\n",
    "# # previous step\n",
    "# df.loc[(df.DIVORCED_MONTH == df.INT_MONTH) & df.DIVORCED_MONTH_SY.notnull(),\n",
    "#        'DIVORCED_BEFORE_INTERVIEW'] = True\n",
    "\n",
    "# # Create variable which indicates EVENT_DIVORCED\n",
    "# df.loc[df.DIVORCED_MONTH.notnull(), 'EVENT_DIVORCED'] = True\n",
    "# # Delete divorces before interview in 2005\n",
    "# df.loc[(df.YEAR == 2005) & df.DIVORCED_BEFORE_INTERVIEW, 'EVENT_DIVORCED'] = np.nan\n",
    "# # Delete divorces after interview in 2015\n",
    "# df.loc[(df.YEAR == 2015) & (df.DIVORCED_BEFORE_INTERVIEW == 0), 'EVENT_DIVORCED'] = np.nan"
   ]
  },
  {
   "cell_type": "markdown",
   "metadata": {},
   "source": [
    "## Create common representation"
   ]
  },
  {
   "cell_type": "code",
   "execution_count": null,
   "metadata": {
    "collapsed": true
   },
   "outputs": [],
   "source": [
    "for var in ['DEATH_CHILD', 'DEATH_FATHER', 'DEATH_HH_PERSON',\n",
    "            'DEATH_MOTHER', 'DEATH_PARTNER', 'DIVORCED',\n",
    "            'HH_COMP_CHANGE']:\n",
    "    # Shift var_MONTH_PY in the previous year\n",
    "    df[var + '_MONTH_PY_SHIFTED'] = df.groupby('ID')[var + '_MONTH_PY'].shift(-1)\n",
    "    # Use var_MONTH_SY where both agree\n",
    "    df.loc[df[var + '_MONTH_SY'] == df[var + '_MONTH_PY_SHIFTED'],\n",
    "           var + '_MONTH'] = df[var + '_MONTH_SY']\n",
    "    # Use var_MONTH_PY_SHIFTED where var_MONTH_SY is NaN\n",
    "    df.loc[df[var + '_MONTH_SY'].isnull() & df[var + '_MONTH_PY_SHIFTED'].notnull(),\n",
    "           var + '_MONTH'] = df[var + '_MONTH_PY_SHIFTED']\n",
    "    # Use var_MONTH_SY where var_MONTH_PY_SHIFTED is NaN or they\n",
    "    # disagree because the PY could be more error prone to memory loss\n",
    "    df.loc[df[var + '_MONTH_SY'].notnull() & df[var + '_MONTH_PY_SHIFTED'].isnull(),\n",
    "           var + '_MONTH'] = df[var + '_MONTH_SY']\n",
    "    df.loc[df[var + '_MONTH_SY'] != df[var + '_MONTH_PY_SHIFTED'],\n",
    "           var + '_MONTH'] = df[var + '_MONTH_SY']\n",
    "    # Make var_MONTH a categorical\n",
    "    df[var + '_MONTH'] = df[var + '_MONTH'].astype('category')\n",
    "    df[var + '_MONTH'].cat.set_categories(MONTH_DICT.values(), ordered=True,\n",
    "                                          inplace=True)\n",
    "\n",
    "    # Create variable whether var was before the interview to determine\n",
    "    # timing. Note that, cases where the months of the event and interview\n",
    "    # coincide are flagged as False.\n",
    "    df.loc[df[var + '_MONTH'].notnull(),\n",
    "           var + '_BEFORE_INTERVIEW'] = df[var + '_MONTH'] < df.INT_MONTH\n",
    "    # There are some cases in which interview and var coincide. An event\n",
    "    # happened before the interview if var_MONTH_SY is not NaN. The opposite\n",
    "    # case if var_MONTH_SY is NaN is already flagged as false due to the\n",
    "    # previous step\n",
    "    df.loc[(df[var + '_MONTH'] == df.INT_MONTH) & df[var + '_MONTH_SY'].notnull(),\n",
    "           var + '_BEFORE_INTERVIEW'] = True\n",
    "\n",
    "    # Create variable which indicates EVENT_var\n",
    "    df.loc[df[var + '_MONTH'].notnull(), 'EVENT_' + var] = True\n",
    "    # Delete events before interview in 2005\n",
    "    df.loc[(df.YEAR == 2005) & df[var + '_BEFORE_INTERVIEW'], 'EVENT_' + var] = np.nan\n",
    "    # Delete events after interview in 2015\n",
    "    df.loc[(df.YEAR == 2015) & (df[var + '_BEFORE_INTERVIEW'] == 0), 'EVENT_' + var] = np.nan\n",
    "    \n",
    "    df.drop([var + '_MONTH_SY', var + '_MONTH_PY', var + '_MONTH_PY_SHIFTED'],\n",
    "            axis='columns', inplace=True)"
   ]
  }
 ],
 "metadata": {
  "kernelspec": {
   "display_name": "Python 3",
   "language": "python",
   "name": "python3"
  },
  "language_info": {
   "codemirror_mode": {
    "name": "ipython",
    "version": 3
   },
   "file_extension": ".py",
   "mimetype": "text/x-python",
   "name": "python",
   "nbconvert_exporter": "python",
   "pygments_lexer": "ipython3",
   "version": "3.6.3"
  },
  "toc": {
   "nav_menu": {},
   "number_sections": true,
   "sideBar": false,
   "skip_h1_title": false,
   "toc_cell": true,
   "toc_position": {},
   "toc_section_display": "block",
   "toc_window_display": false
  }
 },
 "nbformat": 4,
 "nbformat_minor": 2
}
