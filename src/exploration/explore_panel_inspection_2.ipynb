{
 "cells": [
  {
   "cell_type": "markdown",
   "metadata": {
    "toc": true
   },
   "source": [
    "<h1>Table of Contents<span class=\"tocSkip\"></span></h1>\n",
    "<div class=\"toc\" style=\"margin-top: 1em;\"><ul class=\"toc-item\"></ul></div>"
   ]
  },
  {
   "cell_type": "code",
   "execution_count": 41,
   "metadata": {
    "collapsed": true
   },
   "outputs": [],
   "source": [
    "import pandas as pd"
   ]
  },
  {
   "cell_type": "code",
   "execution_count": 42,
   "metadata": {
    "collapsed": true
   },
   "outputs": [],
   "source": [
    "EVENT_VARIABLES = ['DEATH_CHILD', 'DEATH_FATHER', 'DEATH_HH_PERSON',\n",
    "                   'DEATH_MOTHER', 'DEATH_PARTNER', 'DIVORCED',\n",
    "                   'HH_COMP_CHANGE', 'LAST_JOB_ENDED', 'SEPARATED']\n",
    "\n",
    "def inspect(df, event, row_cond=None):\n",
    "    related_columns = [i for i in df if event in i]\n",
    "    if row_cond is None:\n",
    "        return df.loc[:, ['ID', 'YEAR'] + related_columns]\n",
    "    else:\n",
    "        return df.loc[row_cond, ['ID', 'YEAR'] + related_columns]"
   ]
  },
  {
   "cell_type": "code",
   "execution_count": 43,
   "metadata": {
    "collapsed": true
   },
   "outputs": [],
   "source": [
    "df = pd.read_pickle('../../bld/out/data/panel_inspection_2.pkl')"
   ]
  },
  {
   "cell_type": "code",
   "execution_count": 44,
   "metadata": {},
   "outputs": [],
   "source": [
    "int_month_2010 = df.loc[df.YEAR == 2010, ['ID', 'INT_MONTH']].copy()\n",
    "int_month_2015 = df.loc[df.YEAR == 2015, ['ID', 'INT_MONTH']].copy()"
   ]
  },
  {
   "cell_type": "code",
   "execution_count": 48,
   "metadata": {},
   "outputs": [],
   "source": [
    "df = df.merge(int_month_2010, how='left', on='ID', suffixes=('', '_2010'))\n",
    "df = df.merge(int_month_2015, how='left', on='ID', suffixes=('', '_2015'))"
   ]
  },
  {
   "cell_type": "code",
   "execution_count": 50,
   "metadata": {},
   "outputs": [],
   "source": [
    "temp = df.groupby('ID').apply()"
   ]
  },
  {
   "cell_type": "code",
   "execution_count": 63,
   "metadata": {},
   "outputs": [],
   "source": [
    "a = datetime.datetime.strptime('2005-04', '%Y-%m')\n",
    "b = datetime.datetime.strptime('2010-3', '%Y-%m')"
   ]
  },
  {
   "cell_type": "code",
   "execution_count": 64,
   "metadata": {},
   "outputs": [
    {
     "data": {
      "text/plain": [
       "datetime.datetime(2005, 4, 1, 0, 0)"
      ]
     },
     "execution_count": 64,
     "metadata": {},
     "output_type": "execute_result"
    }
   ],
   "source": [
    "a"
   ]
  },
  {
   "cell_type": "code",
   "execution_count": 65,
   "metadata": {},
   "outputs": [
    {
     "data": {
      "text/plain": [
       "datetime.datetime(2010, 3, 1, 0, 0)"
      ]
     },
     "execution_count": 65,
     "metadata": {},
     "output_type": "execute_result"
    }
   ],
   "source": [
    "b"
   ]
  },
  {
   "cell_type": "code",
   "execution_count": 66,
   "metadata": {},
   "outputs": [
    {
     "data": {
      "text/plain": [
       "relativedelta(years=-4, months=-11)"
      ]
     },
     "execution_count": 66,
     "metadata": {},
     "output_type": "execute_result"
    }
   ],
   "source": [
    "relativedelta(a, b)"
   ]
  },
  {
   "cell_type": "code",
   "execution_count": 79,
   "metadata": {},
   "outputs": [
    {
     "data": {
      "text/plain": [
       "0"
      ]
     },
     "execution_count": 79,
     "metadata": {},
     "output_type": "execute_result"
    }
   ],
   "source": [
    "import calendar\n",
    "\n"
   ]
  },
  {
   "cell_type": "code",
   "execution_count": 134,
   "metadata": {},
   "outputs": [],
   "source": [
    "import datetime\n",
    "import numpy as np\n",
    "from dateutil.relativedelta import relativedelta\n",
    "import calendar\n",
    "import functools\n",
    "\n",
    "MONTH_TO_NUMBER = {v: k for k,v in enumerate(calendar.month_name)}\n",
    "MONTH_TO_NUMBER.pop('')\n",
    "\n",
    "def calculate_time_difference_between_event_int(\n",
    "        x, event, end_year_interview):\n",
    "    try:\n",
    "        x[event + '_MONTH']\n",
    "        start_month = x[event + '_MONTH']\n",
    "        start_year = x.YEAR\n",
    "        end_month = x[f'INT_MONTH_{end_year_interview}']\n",
    "        end_year = end_year_interview\n",
    "\n",
    "        start_month_number = MONTH_TO_NUMBER[start_month]\n",
    "        end_month_number = MONTH_TO_NUMBER[end_month]\n",
    "        \n",
    "        print(start_month, start_year)\n",
    "        print(end_month, end_year)\n",
    "\n",
    "        start = datetime.datetime.strptime(\n",
    "            f'{start_year} {start_month_number}', '%Y %m')\n",
    "        end = datetime.datetime.strptime(\n",
    "            f'{end_year} {end_month_number}', '%Y %m')\n",
    "\n",
    "        difference_in_months = relativedelta(end, start).months\n",
    "        print(difference_in_months)\n",
    "        return difference_in_months\n",
    "    except KeyError:\n",
    "        return np.nan"
   ]
  }
 ],
 "metadata": {
  "kernelspec": {
   "display_name": "Python 3",
   "language": "python",
   "name": "python3"
  },
  "language_info": {
   "codemirror_mode": {
    "name": "ipython",
    "version": 3
   },
   "file_extension": ".py",
   "mimetype": "text/x-python",
   "name": "python",
   "nbconvert_exporter": "python",
   "pygments_lexer": "ipython3",
   "version": "3.6.3"
  },
  "toc": {
   "nav_menu": {},
   "number_sections": true,
   "sideBar": false,
   "skip_h1_title": false,
   "toc_cell": true,
   "toc_position": {},
   "toc_section_display": "block",
   "toc_window_display": false
  }
 },
 "nbformat": 4,
 "nbformat_minor": 2
}
