{
 "cells": [
  {
   "cell_type": "markdown",
   "metadata": {
    "toc": true
   },
   "source": [
    "<h1>Table of Contents<span class=\"tocSkip\"></span></h1>\n",
    "<div class=\"toc\" style=\"margin-top: 1em;\"><ul class=\"toc-item\"></ul></div>"
   ]
  },
  {
   "cell_type": "code",
   "execution_count": 15,
   "metadata": {
    "collapsed": true
   },
   "outputs": [],
   "source": [
    "import pandas as pd\n",
    "import numpy as np"
   ]
  },
  {
   "cell_type": "code",
   "execution_count": 16,
   "metadata": {
    "collapsed": true
   },
   "outputs": [],
   "source": [
    "VARIABLE_NAMES_PEQUIV = {\n",
    "    # General variables\n",
    "#     'cid': 'ID_ORIGINAL_HH',  # Case id, id of original household\n",
    "    'syear': 'YEAR',  # survey year\n",
    "#     'hid': 'ID_HH',  # current household id\n",
    "    'pid': 'ID',  # permanent personal id\n",
    "    'd11109': 'YEARS_EDUCATION',\n",
    "}\n",
    "\n",
    "RETAINED_COLUMNS_PEQUIV = list(VARIABLE_NAMES_PEQUIV.keys())"
   ]
  },
  {
   "cell_type": "code",
   "execution_count": 20,
   "metadata": {},
   "outputs": [],
   "source": [
    "# Load dataset\n",
    "df = pd.read_stata('../data/pequiv.dta', columns=RETAINED_COLUMNS_PEQUIV)\n",
    "df = df.rename(columns=VARIABLE_NAMES_PEQUIV)\n",
    "# Convert negative values to np.nan\n",
    "df.loc[df.YEARS_EDUCATION < 0, 'YEARS_EDUCATION'] = np.nan"
   ]
  },
  {
   "cell_type": "code",
   "execution_count": null,
   "metadata": {
    "collapsed": true
   },
   "outputs": [],
   "source": []
  }
 ],
 "metadata": {
  "kernelspec": {
   "display_name": "Python 3",
   "language": "python",
   "name": "python3"
  },
  "language_info": {
   "codemirror_mode": {
    "name": "ipython",
    "version": 3
   },
   "file_extension": ".py",
   "mimetype": "text/x-python",
   "name": "python",
   "nbconvert_exporter": "python",
   "pygments_lexer": "ipython3",
   "version": "3.6.3"
  },
  "toc": {
   "nav_menu": {},
   "number_sections": true,
   "sideBar": false,
   "skip_h1_title": false,
   "toc_cell": true,
   "toc_position": {},
   "toc_section_display": "block",
   "toc_window_display": false
  }
 },
 "nbformat": 4,
 "nbformat_minor": 2
}
