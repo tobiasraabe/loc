{
 "cells": [
  {
   "cell_type": "markdown",
   "metadata": {
    "toc": true
   },
   "source": [
    "<h1>Table of Contents<span class=\"tocSkip\"></span></h1>\n",
    "<div class=\"toc\" style=\"margin-top: 1em;\"><ul class=\"toc-item\"></ul></div>"
   ]
  },
  {
   "cell_type": "code",
   "execution_count": 1,
   "metadata": {
    "collapsed": true
   },
   "outputs": [],
   "source": [
    "import pandas as pd"
   ]
  },
  {
   "cell_type": "code",
   "execution_count": 2,
   "metadata": {
    "collapsed": true
   },
   "outputs": [],
   "source": [
    "df = pd.read_pickle('../../bld/out/data/panel.pkl')"
   ]
  },
  {
   "cell_type": "code",
   "execution_count": 4,
   "metadata": {},
   "outputs": [
    {
     "name": "stdout",
     "output_type": "stream",
     "text": [
      "<class 'pandas.core.frame.DataFrame'>\n",
      "Int64Index: 122879 entries, 142 to 503781\n",
      "Data columns (total 34 columns):\n",
      "ID_ORIGINAL_HH                      122879 non-null int64\n",
      "YEAR                                122879 non-null int64\n",
      "ID_HH                               122879 non-null int64\n",
      "ID                                  122879 non-null int64\n",
      "GENDER                              122879 non-null category\n",
      "EMPLOYMENT_STATUS                   122879 non-null category\n",
      "REASON_JOB_TERMINATED               9605 non-null category\n",
      "MARITAL_STATUS                      122879 non-null category\n",
      "SEPARATED_MONTH_SY                  302 non-null category\n",
      "SEPARATED_MONTH_PY                  1399 non-null category\n",
      "LEGALLY_HANDICAPPED_PERC            122879 non-null int64\n",
      "INT_MONTH                           122879 non-null category\n",
      "AGE                                 122879 non-null int64\n",
      "DEATH_CHILD_MONTH                   91 non-null category\n",
      "DEATH_CHILD_BEFORE_INTERVIEW        91 non-null object\n",
      "EVENT_DEATH_CHILD                   91 non-null float64\n",
      "DEATH_FATHER_MONTH                  1006 non-null category\n",
      "DEATH_FATHER_BEFORE_INTERVIEW       1006 non-null object\n",
      "EVENT_DEATH_FATHER                  973 non-null float64\n",
      "DEATH_HH_PERSON_MONTH               87 non-null category\n",
      "DEATH_HH_PERSON_BEFORE_INTERVIEW    87 non-null object\n",
      "EVENT_DEATH_HH_PERSON               87 non-null float64\n",
      "DEATH_MOTHER_MONTH                  1053 non-null category\n",
      "DEATH_MOTHER_BEFORE_INTERVIEW       1053 non-null object\n",
      "EVENT_DEATH_MOTHER                  1019 non-null float64\n",
      "DEATH_PARTNER_MONTH                 456 non-null category\n",
      "DEATH_PARTNER_BEFORE_INTERVIEW      456 non-null object\n",
      "EVENT_DEATH_PARTNER                 440 non-null float64\n",
      "DIVORCED_MONTH                      409 non-null category\n",
      "DIVORCED_BEFORE_INTERVIEW           409 non-null object\n",
      "EVENT_DIVORCED                      391 non-null float64\n",
      "HH_COMP_CHANGE_MONTH                359 non-null category\n",
      "HH_COMP_CHANGE_BEFORE_INTERVIEW     359 non-null object\n",
      "EVENT_HH_COMP_CHANGE                318 non-null float64\n",
      "dtypes: category(14), float64(7), int64(6), object(7)\n",
      "memory usage: 21.3+ MB\n"
     ]
    }
   ],
   "source": [
    "df.info()"
   ]
  },
  {
   "cell_type": "code",
   "execution_count": null,
   "metadata": {
    "collapsed": true
   },
   "outputs": [],
   "source": []
  }
 ],
 "metadata": {
  "kernelspec": {
   "display_name": "Python 3",
   "language": "python",
   "name": "python3"
  },
  "language_info": {
   "codemirror_mode": {
    "name": "ipython",
    "version": 3
   },
   "file_extension": ".py",
   "mimetype": "text/x-python",
   "name": "python",
   "nbconvert_exporter": "python",
   "pygments_lexer": "ipython3",
   "version": "3.6.3"
  },
  "toc": {
   "nav_menu": {},
   "number_sections": true,
   "sideBar": false,
   "skip_h1_title": false,
   "toc_cell": true,
   "toc_position": {},
   "toc_section_display": "block",
   "toc_window_display": false
  }
 },
 "nbformat": 4,
 "nbformat_minor": 2
}
