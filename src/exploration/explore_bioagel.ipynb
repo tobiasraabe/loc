{
 "cells": [
  {
   "cell_type": "markdown",
   "metadata": {
    "toc": true
   },
   "source": [
    "<h1>Table of Contents<span class=\"tocSkip\"></span></h1>\n",
    "<div class=\"toc\" style=\"margin-top: 1em;\"><ul class=\"toc-item\"></ul></div>"
   ]
  },
  {
   "cell_type": "code",
   "execution_count": 1,
   "metadata": {
    "collapsed": true
   },
   "outputs": [],
   "source": [
    "import pandas as pd\n",
    "from collections import OrderedDict\n",
    "import numpy as np"
   ]
  },
  {
   "cell_type": "code",
   "execution_count": 2,
   "metadata": {
    "collapsed": true
   },
   "outputs": [],
   "source": [
    "NAN_IDENTIFIERS = [\n",
    "    '[-1] keine Angabe', '[-2] trifft nicht zu',\n",
    "    '[-3] nicht valide',\n",
    "    '[-5] In Fragebogenversion nicht enthalten',\n",
    "    '[-8] Frage in diesem Jahr nicht Teil des Frageprograms',\n",
    "]\n",
    "\n",
    "MONTH_DICT = OrderedDict([('[1] Januar', 'January'),\n",
    "                          ('[2] Februar', 'February'),\n",
    "                          ('[3] Maerz', 'March'),\n",
    "                          ('[4] April', 'April'),\n",
    "                          ('[5] Mai', 'May'),\n",
    "                          ('[6] Juni', 'June'),\n",
    "                          ('[7] Juli', 'July'),\n",
    "                          ('[8] August', 'August'),\n",
    "                          ('[9] September', 'September'),\n",
    "                          ('[10] Oktober', 'October'),\n",
    "                          ('[11] November', 'November'),\n",
    "                          ('[12] Dezember', 'December')])\n",
    "\n",
    "VARIABLE_DICT_BIOAGEL = {\n",
    "#     'hhnr': 'ID_ORIGINAL_HH',  # original household id\n",
    "    'hhnrakt': 'ID_HH',  # current household ID\n",
    "    'persnr': 'ID_CHILD',\n",
    "    'persnre': 'ID_MOTHER',  # never changing personal ID of mother\n",
    "    'syear': 'YEAR',  # survey year\n",
    "#     'paround': 'INT_PARENTS_AROUND',\n",
    "    'prebeg': 'PREGNANCY_START',  # begin of pregnancy\n",
    "    'preend': 'PREGNANCY_END',  # end of pregnancy\n",
    "#     'fathinhh': 'FATHER_IN_HH',  # father lives in hh\n",
    "    'pregplan': 'PREGNANCY_UNPLANNED',  # pregnancy planned or unplanned\n",
    "    'birthm': 'CHILD_BIRTH_MONTH',  # month of birth of child\n",
    "    'birthy': 'CHILD_BIRTH_YEAR',  # year of birth of child\n",
    "    'disord': 'CHILD_DISORDER',  # does the child have disorders\n",
    "#     'disordu_fid': 'CHILD_DISORDER_CONFIRMED',  # first U exam confirming disorder\n",
    "#     'disord1': 'DISORDERS_PERCEPTION',\n",
    "#     'disord2': 'DISORDERS_MOTOR',\n",
    "#     'disord3': 'DISORDERS_NEUROLOGIC',\n",
    "#     'disord4': 'DISORDERS_LANGUAGE',\n",
    "#     'disord5': 'DISORDERS_REGULATION',\n",
    "#     'disord6': 'DISORDERS_CHRONIC_ILLNESS',\n",
    "#     'disord7': 'DISORDERS_PHSYSICAL',\n",
    "#     'disord8': 'DISORDERS_MENTAL',\n",
    "#     'disord9': 'DISORDERS_OTHER',\n",
    "    'pregy': 'MOTHER_PREGNANT_AT_PQ_YEAR',  # mother was pregnant when taking personal questionnaire\n",
    "#     'pregmo': 'MOTHER_PREGNANT_AT_PQ_MONTH_PREGNANCY',  # month of pregnancy when taking personal questionnaire\n",
    "#     'specned8_fid': 'CHILD_LL_DISEASE',  # long-lasting disease\n",
    "}\n",
    "\n",
    "RETAINED_COLUMNS_BIOAGEL = list(VARIABLE_DICT_BIOAGEL.keys())"
   ]
  },
  {
   "cell_type": "code",
   "execution_count": 3,
   "metadata": {
    "collapsed": true
   },
   "outputs": [],
   "source": [
    "# Read the data and rename columns\n",
    "df = pd.read_stata('../data/bioagel.dta', columns=RETAINED_COLUMNS_BIOAGEL)\n",
    "df = df.rename(columns=VARIABLE_DICT_BIOAGEL)\n",
    "# Keep only data from 2004 to 2015, we need 2004 for the full pregnancy\n",
    "# spell\n",
    "df = df.loc[df.YEAR.between(2004, 2015)]\n",
    "df.sort_values(['ID_CHILD', 'YEAR'], axis='rows', inplace=True)\n",
    "df = df.groupby('ID_CHILD', as_index=False).first()"
   ]
  },
  {
   "cell_type": "code",
   "execution_count": 4,
   "metadata": {
    "collapsed": true
   },
   "outputs": [],
   "source": [
    "# Extract year number to determine whether mother was pregnant at the time\n",
    "# of the interview\n",
    "df.MOTHER_PREGNANT_AT_PQ_YEAR = df.MOTHER_PREGNANT_AT_PQ_YEAR.str.extract(\n",
    "    '\\[(\\d+)\\]', expand=False)\n",
    "df.MOTHER_PREGNANT_AT_PQ_YEAR = df.MOTHER_PREGNANT_AT_PQ_YEAR.astype(float)"
   ]
  },
  {
   "cell_type": "code",
   "execution_count": 5,
   "metadata": {
    "collapsed": true
   },
   "outputs": [],
   "source": [
    "# Convert values of CHILD_BIRTH_MONTH to real months\n",
    "child_birth_month_values = list(df.CHILD_BIRTH_MONTH.unique())\n",
    "child_birth_month_dict = {k: MONTH_DICT[v] for v in MONTH_DICT \n",
    "                          for k in child_birth_month_values \n",
    "                          if k in v.casefold()}\n",
    "child_birth_month_dict.update({'[-1] keine Angabe': np.nan,\n",
    "                               '[-2] trifft nicht zu': np.nan})\n",
    "df.CHILD_BIRTH_MONTH.replace(child_birth_month_dict, inplace=True)\n",
    "df.CHILD_BIRTH_MONTH = df.CHILD_BIRTH_MONTH.astype('category')\n",
    "df.CHILD_BIRTH_MONTH.cat.set_categories(MONTH_DICT.values(), ordered=True,\n",
    "                                        inplace=True)"
   ]
  },
  {
   "cell_type": "code",
   "execution_count": 6,
   "metadata": {
    "collapsed": true
   },
   "outputs": [],
   "source": [
    "# Create PREGNANCY_START_YEAR and _MONTH\n",
    "pregstart = df.PREGNANCY_START.str.split(' ', n=2, expand=True).drop(\n",
    "    0, axis=1).fillna(value=np.nan)\n",
    "pregstart = pregstart.rename(columns={1: 'PREGNANCY_START_YEAR',\n",
    "                                      2:'PREGNANCY_START_MONTH'})\n",
    "# Rename monthly values by comparing short values to the keys of MONTH_DICT\n",
    "# and then the values of MONTH_DICT to map them to MONTH_DICT values\n",
    "month_values = pregstart.PREGNANCY_START_MONTH.unique()\n",
    "month_values = month_values[pd.notnull(month_values)]\n",
    "correct_month_mapping = {k:MONTH_DICT[v] for v in MONTH_DICT\n",
    "                         for k in month_values\n",
    "                         if k.casefold() in v.casefold()}\n",
    "correct_month_mapping.update({k:MONTH_DICT[v] for v in MONTH_DICT\n",
    "                              for k in month_values if k.casefold()\n",
    "                              in MONTH_DICT[v].casefold()})\n",
    "pregstart.PREGNANCY_START_MONTH.replace(correct_month_mapping,\n",
    "                                        inplace=True)\n",
    "\n",
    "# Create PREGNANCY_END_YEAR and _MONTH\n",
    "pregend = df.PREGNANCY_END.str.split(' ', n=2, expand=True).drop(\n",
    "    0, axis=1).fillna(value=np.nan)\n",
    "pregend = pregend.rename(columns={1: 'PREGNANCY_END_YEAR',\n",
    "                                  2:'PREGNANCY_END_MONTH'})\n",
    "# Rename monthly values by comparing short values to the keys of MONTH_DICT\n",
    "# and then the values of MONTH_DICT to map them to MONTH_DICT values\n",
    "month_values = pregend.PREGNANCY_END_MONTH.unique()\n",
    "month_values = month_values[pd.notnull(month_values)]\n",
    "correct_month_mapping = {k:MONTH_DICT[v] for v in MONTH_DICT\n",
    "                         for k in month_values\n",
    "                         if (k.casefold() in v.casefold())}\n",
    "correct_month_mapping.update({k:MONTH_DICT[v] for v in MONTH_DICT\n",
    "                              for k in month_values \n",
    "                              if k.casefold() in MONTH_DICT[v].casefold()})\n",
    "pregend.PREGNANCY_END_MONTH.replace(correct_month_mapping, inplace=True)\n",
    "\n",
    "df = pd.concat([df, pregstart, pregend], axis='columns').drop(\n",
    "    ['PREGNANCY_START', 'PREGNANCY_END'], axis='columns')\n",
    "# Cast new variables to the correct types and set ordered\n",
    "df.PREGNANCY_START_MONTH = df.PREGNANCY_START_MONTH.astype('category')\n",
    "df.PREGNANCY_START_MONTH.cat.set_categories(\n",
    "    MONTH_DICT.values(), ordered=True, inplace=True)\n",
    "df.PREGNANCY_START_YEAR = pd.to_numeric(\n",
    "    df.PREGNANCY_START_YEAR, errors='coerce')\n",
    "df.PREGNANCY_END_MONTH = df.PREGNANCY_END_MONTH.astype('category')\n",
    "df.PREGNANCY_END_MONTH.cat.set_categories(\n",
    "    MONTH_DICT.values(), ordered=True, inplace=True)\n",
    "df.PREGNANCY_END_YEAR = pd.to_numeric(\n",
    "    df.PREGNANCY_END_YEAR, errors='coerce')"
   ]
  },
  {
   "cell_type": "code",
   "execution_count": 7,
   "metadata": {
    "collapsed": true
   },
   "outputs": [],
   "source": [
    "# Identify an event of an unplanned pregnancy with the begin of the\n",
    "# pregnancy\n",
    "pregnancy_unplanned = {\n",
    "    '[2] eher geplant': np.nan, '[1] eher ungeplant': True,\n",
    "    '[3] erfolgte mit med. unterstuetzung': np.nan\n",
    "}\n",
    "df.PREGNANCY_UNPLANNED.replace(pregnancy_unplanned, inplace=True)\n",
    "# Replace PREGNANCY_UNPLANNED with the month of the begin of the pregnancy\n",
    "df.loc[df.PREGNANCY_UNPLANNED.notnull(),\n",
    "       'PREGNANCY_UNPLANNED_MONTH'] = df.PREGNANCY_START_MONTH\n",
    "# Cast the variables to the appropriate types\n",
    "df.PREGNANCY_UNPLANNED_MONTH = df.PREGNANCY_UNPLANNED_MONTH.astype(\n",
    "    'category')\n",
    "df.PREGNANCY_UNPLANNED_MONTH.cat.set_categories(\n",
    "    MONTH_DICT.values(), ordered=True, inplace=True)"
   ]
  },
  {
   "cell_type": "code",
   "execution_count": 8,
   "metadata": {
    "collapsed": true
   },
   "outputs": [],
   "source": [
    "# Copy the necessary content\n",
    "preg = df[['ID_HH', 'ID_MOTHER', 'PREGNANCY_UNPLANNED_MONTH',\n",
    "           'PREGNANCY_START_YEAR', 'MOTHER_PREGNANT_AT_PQ_YEAR']].copy()\n",
    "# Restrict to events\n",
    "preg = preg.loc[preg.PREGNANCY_UNPLANNED_MONTH.notnull()]\n",
    "# Rename columns to match panel\n",
    "preg_columns = {'PREGNANCY_START_YEAR': 'YEAR'}\n",
    "preg = preg.rename(columns=preg_columns)\n",
    "# Drop pregnancies which begin in 2004\n",
    "preg = preg.loc[preg.YEAR.between(2005, 2015)]\n",
    "# Drop pregnancies which were known at the time of the interview in 2005\n",
    "preg = preg.loc[~(preg.MOTHER_PREGNANT_AT_PQ_YEAR == 2005)]\n",
    "# We cannot drop pregnancies not known at the time of the pq in 2015 since\n",
    "# MOTHER_PREGNANT_AT_PQ_YEAR contains too much NaNs. The rest has to be\n",
    "# examined in comparison to INT_MONTH\n",
    "\n",
    "# There are 16 siblings with disabilities in our sample which leads to\n",
    "# the problem of two occurrences per ID and YEAR. Unfortunately, we cannot\n",
    "# handle this cases right now. Therefore, we drop the duplicates and save\n",
    "# them in another file to adjust the counts of events later.\n",
    "preg.drop_duplicates(subset=['ID_MOTHER', 'YEAR'], inplace=True)"
   ]
  },
  {
   "cell_type": "code",
   "execution_count": 9,
   "metadata": {
    "collapsed": true
   },
   "outputs": [],
   "source": [
    "# Identify an event of an unplanned pregnancy with month of birth\n",
    "child_disorder = {\n",
    "    '[1] ja, bei U(1-6) Untersuchung': True,\n",
    "    '[2] ja, bei anderer Untersuchung': True,\n",
    "    '[3] nein': np.nan,\n",
    "}\n",
    "df.CHILD_DISORDER.replace(child_disorder, inplace=True)\n",
    "# Replace CHILD_DISORDER with the month of birth\n",
    "df.loc[df.CHILD_DISORDER.notnull(),\n",
    "       'CHILD_DISORDER_MONTH'] = df.CHILD_BIRTH_MONTH\n",
    "# Cast variable to the appropriate type\n",
    "df.CHILD_DISORDER_MONTH = df.CHILD_DISORDER_MONTH.astype('category')\n",
    "df.CHILD_DISORDER_MONTH.cat.set_categories(\n",
    "    MONTH_DICT.values(), ordered=True, inplace=True)"
   ]
  },
  {
   "cell_type": "code",
   "execution_count": 23,
   "metadata": {
    "collapsed": true
   },
   "outputs": [],
   "source": [
    "# Copy the necessary content\n",
    "dis = df[['ID_HH', 'ID_MOTHER', 'CHILD_DISORDER_MONTH',\n",
    "          'PREGNANCY_END_YEAR', 'MOTHER_PREGNANT_AT_PQ_YEAR', 'ID_CHILD']].copy()\n",
    "# Restrict to events\n",
    "dis = dis.loc[dis.CHILD_DISORDER_MONTH.notnull()]\n",
    "# Rename columns to match panel\n",
    "dis_columns = {'PREGNANCY_END_YEAR': 'YEAR'}\n",
    "dis = dis.rename(columns=dis_columns)\n",
    "# Drop births in 2004\n",
    "dis = dis.loc[dis.YEAR.between(2005, 2015)]\n",
    "\n",
    "# There are 9 siblings with disabilities in our sample which leads to\n",
    "# the problem of two occurrences per ID and YEAR. Unfortunately, we cannot\n",
    "# handle this cases right now. Therefore, we drop the duplicates and save\n",
    "# them in another file to adjust the counts of events later.\n",
    "dis.drop_duplicates(subset=['ID_MOTHER', 'YEAR'], inplace=True)"
   ]
  }
 ],
 "metadata": {
  "kernelspec": {
   "display_name": "Python 3",
   "language": "python",
   "name": "python3"
  },
  "language_info": {
   "codemirror_mode": {
    "name": "ipython",
    "version": 3
   },
   "file_extension": ".py",
   "mimetype": "text/x-python",
   "name": "python",
   "nbconvert_exporter": "python",
   "pygments_lexer": "ipython3",
   "version": "3.6.3"
  },
  "toc": {
   "nav_menu": {},
   "number_sections": true,
   "sideBar": false,
   "skip_h1_title": false,
   "toc_cell": true,
   "toc_position": {},
   "toc_section_display": "block",
   "toc_window_display": false
  }
 },
 "nbformat": 4,
 "nbformat_minor": 2
}
