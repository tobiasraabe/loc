{
 "cells": [
  {
   "cell_type": "markdown",
   "metadata": {
    "toc": true
   },
   "source": [
    "<h1>Table of Contents<span class=\"tocSkip\"></span></h1>\n",
    "<div class=\"toc\" style=\"margin-top: 1em;\"><ul class=\"toc-item\"></ul></div>"
   ]
  },
  {
   "cell_type": "code",
   "execution_count": 1,
   "metadata": {
    "collapsed": true
   },
   "outputs": [],
   "source": [
    "import pandas as pd"
   ]
  },
  {
   "cell_type": "code",
   "execution_count": 16,
   "metadata": {},
   "outputs": [],
   "source": [
    "df = pd.read_pickle('../../bld/out/analysis/panel_reg.pkl')"
   ]
  },
  {
   "cell_type": "code",
   "execution_count": 17,
   "metadata": {},
   "outputs": [
    {
     "name": "stdout",
     "output_type": "stream",
     "text": [
      "<class 'pandas.core.frame.DataFrame'>\n",
      "Int64Index: 21371 entries, 0 to 21370\n",
      "Data columns (total 78 columns):\n",
      "AGE                                               21371 non-null int64\n",
      "EDUCATION_GROUPS_ISCED97                          21371 non-null category\n",
      "EMPLOYMENT_STATUS                                 21371 non-null category\n",
      "EVENT_CHILD_DISORDER_COUNT                        21371 non-null float64\n",
      "EVENT_CHILD_DISORDER_COUNT_PREVIOUS               21371 non-null float64\n",
      "EVENT_CHILD_DISORDER_TIME_DIFF                    21371 non-null float64\n",
      "EVENT_DEATH_CHILD_COUNT                           21371 non-null float64\n",
      "EVENT_DEATH_CHILD_COUNT_PREVIOUS                  21371 non-null float64\n",
      "EVENT_DEATH_CHILD_TIME_DIFF                       21371 non-null float64\n",
      "EVENT_DEATH_FATHER_COUNT                          21371 non-null float64\n",
      "EVENT_DEATH_FATHER_COUNT_PREVIOUS                 21371 non-null float64\n",
      "EVENT_DEATH_FATHER_TIME_DIFF                      21371 non-null float64\n",
      "EVENT_DEATH_HH_PERSON_COUNT                       21371 non-null float64\n",
      "EVENT_DEATH_HH_PERSON_COUNT_PREVIOUS              21371 non-null float64\n",
      "EVENT_DEATH_HH_PERSON_TIME_DIFF                   21371 non-null float64\n",
      "EVENT_DEATH_MOTHER_COUNT                          21371 non-null float64\n",
      "EVENT_DEATH_MOTHER_COUNT_PREVIOUS                 21371 non-null float64\n",
      "EVENT_DEATH_MOTHER_TIME_DIFF                      21371 non-null float64\n",
      "EVENT_DEATH_PARTNER_COUNT                         21371 non-null float64\n",
      "EVENT_DEATH_PARTNER_COUNT_PREVIOUS                21371 non-null float64\n",
      "EVENT_DEATH_PARTNER_TIME_DIFF                     21371 non-null float64\n",
      "EVENT_DIVORCED_COUNT                              21371 non-null float64\n",
      "EVENT_DIVORCED_COUNT_PREVIOUS                     21371 non-null float64\n",
      "EVENT_DIVORCED_TIME_DIFF                          21371 non-null float64\n",
      "EVENT_HH_COMP_CHANGE_COUNT                        21371 non-null float64\n",
      "EVENT_HH_COMP_CHANGE_COUNT_PREVIOUS               21371 non-null float64\n",
      "EVENT_HH_COMP_CHANGE_TIME_DIFF                    21371 non-null float64\n",
      "EVENT_LAST_JOB_ENDED_COUNT                        21371 non-null float64\n",
      "EVENT_LAST_JOB_ENDED_COUNT_PREVIOUS               21371 non-null float64\n",
      "EVENT_LAST_JOB_ENDED_LIMITED_COUNT                21371 non-null float64\n",
      "EVENT_LAST_JOB_ENDED_LIMITED_COUNT_PREVIOUS       21371 non-null float64\n",
      "EVENT_LAST_JOB_ENDED_LIMITED_TIME_DIFF            21371 non-null float64\n",
      "EVENT_LAST_JOB_ENDED_TIME_DIFF                    21371 non-null float64\n",
      "EVENT_LEGALLY_HANDICAPPED_PERC_COUNT              21371 non-null float64\n",
      "EVENT_LEGALLY_HANDICAPPED_PERC_COUNT_PREVIOUS     21371 non-null float64\n",
      "EVENT_LEGALLY_HANDICAPPED_PERC_TIME_DIFF          21371 non-null float64\n",
      "EVENT_PREGNANCY_UNPLANNED_COUNT                   21371 non-null float64\n",
      "EVENT_PREGNANCY_UNPLANNED_COUNT_PREVIOUS          21371 non-null float64\n",
      "EVENT_PREGNANCY_UNPLANNED_TIME_DIFF               21371 non-null float64\n",
      "EVENT_SEPARATED_COUNT                             21371 non-null float64\n",
      "EVENT_SEPARATED_COUNT_PREVIOUS                    21371 non-null float64\n",
      "EVENT_SEPARATED_TIME_DIFF                         21371 non-null float64\n",
      "GENDER                                            21371 non-null category\n",
      "HH_NET_INCOME_YEAR                                21371 non-null float64\n",
      "ID                                                21371 non-null int64\n",
      "ID_HH                                             21371 non-null int64\n",
      "LEGALLY_HANDICAPPED_PERC_CHANGE                   21371 non-null float64\n",
      "MARITAL_STATUS                                    21371 non-null category\n",
      "MIGRATION_STATUS                                  21371 non-null bool\n",
      "YEAR                                              21371 non-null int64\n",
      "EVENT_CHILD_DISORDER                              21371 non-null bool\n",
      "EVENT_DEATH_CHILD                                 21371 non-null bool\n",
      "EVENT_DEATH_FATHER                                21371 non-null bool\n",
      "EVENT_DEATH_HH_PERSON                             21371 non-null bool\n",
      "EVENT_DEATH_MOTHER                                21371 non-null bool\n",
      "EVENT_DEATH_PARTNER                               21371 non-null bool\n",
      "EVENT_DIVORCED                                    21371 non-null bool\n",
      "EVENT_HH_COMP_CHANGE                              21371 non-null bool\n",
      "EVENT_LAST_JOB_ENDED                              21371 non-null bool\n",
      "EVENT_LAST_JOB_ENDED_LIMITED                      21371 non-null bool\n",
      "EVENT_LEGALLY_HANDICAPPED_PERC                    21371 non-null bool\n",
      "EVENT_PREGNANCY_UNPLANNED                         21371 non-null bool\n",
      "EVENT_SEPARATED                                   21371 non-null bool\n",
      "FIRST_FACTOR_DELTA                                21371 non-null float64\n",
      "AGE_GROUPS                                        21371 non-null category\n",
      "EVENT_CHILD_DISORDER_TIME_DIFF_GROUP              21358 non-null category\n",
      "EVENT_DEATH_CHILD_TIME_DIFF_GROUP                 21371 non-null category\n",
      "EVENT_DEATH_FATHER_TIME_DIFF_GROUP                21273 non-null category\n",
      "EVENT_DEATH_HH_PERSON_TIME_DIFF_GROUP             21337 non-null category\n",
      "EVENT_DEATH_MOTHER_TIME_DIFF_GROUP                21194 non-null category\n",
      "EVENT_DEATH_PARTNER_TIME_DIFF_GROUP               21035 non-null category\n",
      "EVENT_DIVORCED_TIME_DIFF_GROUP                    21070 non-null category\n",
      "EVENT_HH_COMP_CHANGE_TIME_DIFF_GROUP              20974 non-null category\n",
      "EVENT_LAST_JOB_ENDED_LIMITED_TIME_DIFF_GROUP      21204 non-null category\n",
      "EVENT_LAST_JOB_ENDED_TIME_DIFF_GROUP              21294 non-null category\n",
      "EVENT_LEGALLY_HANDICAPPED_PERC_TIME_DIFF_GROUP    19799 non-null category\n",
      "EVENT_PREGNANCY_UNPLANNED_TIME_DIFF_GROUP         21371 non-null category\n",
      "EVENT_SEPARATED_TIME_DIFF_GROUP                   21221 non-null category\n",
      "dtypes: bool(14), category(18), float64(42), int64(4)\n",
      "memory usage: 8.3 MB\n"
     ]
    }
   ],
   "source": [
    "df.info()"
   ]
  },
  {
   "cell_type": "code",
   "execution_count": 19,
   "metadata": {},
   "outputs": [
    {
     "data": {
      "text/plain": [
       "[(-0.001, 12.0], (48.0, 60.0], (36.0, 48.0], (12.0, 24.0], (24.0, 36.0], NaN]\n",
       "Categories (5, interval[float64]): [(-0.001, 12.0] < (12.0, 24.0] < (24.0, 36.0] < (36.0, 48.0] < (48.0, 60.0]]"
      ]
     },
     "execution_count": 19,
     "metadata": {},
     "output_type": "execute_result"
    }
   ],
   "source": [
    "df.EVENT_CHILD_DISORDER_TIME_DIFF_GROUP.unique()"
   ]
  },
  {
   "cell_type": "code",
   "execution_count": 18,
   "metadata": {},
   "outputs": [
    {
     "data": {
      "text/html": [
       "<div>\n",
       "<style scoped>\n",
       "    .dataframe tbody tr th:only-of-type {\n",
       "        vertical-align: middle;\n",
       "    }\n",
       "\n",
       "    .dataframe tbody tr th {\n",
       "        vertical-align: top;\n",
       "    }\n",
       "\n",
       "    .dataframe thead th {\n",
       "        text-align: right;\n",
       "    }\n",
       "</style>\n",
       "<table border=\"1\" class=\"dataframe\">\n",
       "  <thead>\n",
       "    <tr style=\"text-align: right;\">\n",
       "      <th></th>\n",
       "      <th>EVENT_CHILD_DISORDER_TIME_DIFF</th>\n",
       "      <th>EVENT_CHILD_DISORDER_TIME_DIFF_GROUP</th>\n",
       "    </tr>\n",
       "  </thead>\n",
       "  <tbody>\n",
       "    <tr>\n",
       "      <th>3569</th>\n",
       "      <td>61.0</td>\n",
       "      <td>NaN</td>\n",
       "    </tr>\n",
       "    <tr>\n",
       "      <th>3571</th>\n",
       "      <td>61.0</td>\n",
       "      <td>NaN</td>\n",
       "    </tr>\n",
       "    <tr>\n",
       "      <th>3574</th>\n",
       "      <td>61.0</td>\n",
       "      <td>NaN</td>\n",
       "    </tr>\n",
       "    <tr>\n",
       "      <th>3577</th>\n",
       "      <td>61.0</td>\n",
       "      <td>NaN</td>\n",
       "    </tr>\n",
       "    <tr>\n",
       "      <th>3579</th>\n",
       "      <td>61.0</td>\n",
       "      <td>NaN</td>\n",
       "    </tr>\n",
       "    <tr>\n",
       "      <th>3581</th>\n",
       "      <td>61.0</td>\n",
       "      <td>NaN</td>\n",
       "    </tr>\n",
       "    <tr>\n",
       "      <th>3583</th>\n",
       "      <td>61.0</td>\n",
       "      <td>NaN</td>\n",
       "    </tr>\n",
       "    <tr>\n",
       "      <th>5823</th>\n",
       "      <td>61.0</td>\n",
       "      <td>NaN</td>\n",
       "    </tr>\n",
       "    <tr>\n",
       "      <th>5824</th>\n",
       "      <td>61.0</td>\n",
       "      <td>NaN</td>\n",
       "    </tr>\n",
       "    <tr>\n",
       "      <th>5826</th>\n",
       "      <td>61.0</td>\n",
       "      <td>NaN</td>\n",
       "    </tr>\n",
       "    <tr>\n",
       "      <th>5828</th>\n",
       "      <td>61.0</td>\n",
       "      <td>NaN</td>\n",
       "    </tr>\n",
       "    <tr>\n",
       "      <th>5830</th>\n",
       "      <td>61.0</td>\n",
       "      <td>NaN</td>\n",
       "    </tr>\n",
       "    <tr>\n",
       "      <th>5832</th>\n",
       "      <td>61.0</td>\n",
       "      <td>NaN</td>\n",
       "    </tr>\n",
       "  </tbody>\n",
       "</table>\n",
       "</div>"
      ],
      "text/plain": [
       "      EVENT_CHILD_DISORDER_TIME_DIFF EVENT_CHILD_DISORDER_TIME_DIFF_GROUP\n",
       "3569                            61.0                                  NaN\n",
       "3571                            61.0                                  NaN\n",
       "3574                            61.0                                  NaN\n",
       "3577                            61.0                                  NaN\n",
       "3579                            61.0                                  NaN\n",
       "3581                            61.0                                  NaN\n",
       "3583                            61.0                                  NaN\n",
       "5823                            61.0                                  NaN\n",
       "5824                            61.0                                  NaN\n",
       "5826                            61.0                                  NaN\n",
       "5828                            61.0                                  NaN\n",
       "5830                            61.0                                  NaN\n",
       "5832                            61.0                                  NaN"
      ]
     },
     "execution_count": 18,
     "metadata": {},
     "output_type": "execute_result"
    }
   ],
   "source": [
    "df.loc[df.EVENT_CHILD_DISORDER_TIME_DIFF_GROUP.isnull(), ['EVENT_CHILD_DISORDER_TIME_DIFF', 'EVENT_CHILD_DISORDER_TIME_DIFF_GROUP']]"
   ]
  },
  {
   "cell_type": "code",
   "execution_count": 12,
   "metadata": {},
   "outputs": [
    {
     "data": {
      "text/plain": [
       "EVENT_CHILD_DISORDER_TIME_DIFF              61.0\n",
       "EVENT_DEATH_CHILD_TIME_DIFF                 50.0\n",
       "EVENT_DEATH_FATHER_TIME_DIFF                65.0\n",
       "EVENT_DEATH_HH_PERSON_TIME_DIFF             61.0\n",
       "EVENT_DEATH_MOTHER_TIME_DIFF                62.0\n",
       "EVENT_DEATH_PARTNER_TIME_DIFF               63.0\n",
       "EVENT_DIVORCED_TIME_DIFF                    63.0\n",
       "EVENT_HH_COMP_CHANGE_TIME_DIFF              62.0\n",
       "EVENT_LAST_JOB_ENDED_LIMITED_TIME_DIFF      64.0\n",
       "EVENT_LAST_JOB_ENDED_TIME_DIFF              67.0\n",
       "EVENT_LEGALLY_HANDICAPPED_PERC_TIME_DIFF    62.0\n",
       "EVENT_PREGNANCY_UNPLANNED_TIME_DIFF         60.0\n",
       "EVENT_SEPARATED_TIME_DIFF                   63.0\n",
       "dtype: float64"
      ]
     },
     "execution_count": 12,
     "metadata": {},
     "output_type": "execute_result"
    }
   ],
   "source": [
    "df[[i for i in df if 'DIFF' in i]].max()"
   ]
  },
  {
   "cell_type": "code",
   "execution_count": null,
   "metadata": {
    "collapsed": true
   },
   "outputs": [],
   "source": []
  }
 ],
 "metadata": {
  "kernelspec": {
   "display_name": "Python 3",
   "language": "python",
   "name": "python3"
  },
  "language_info": {
   "codemirror_mode": {
    "name": "ipython",
    "version": 3
   },
   "file_extension": ".py",
   "mimetype": "text/x-python",
   "name": "python",
   "nbconvert_exporter": "python",
   "pygments_lexer": "ipython3",
   "version": "3.6.3"
  },
  "toc": {
   "nav_menu": {},
   "number_sections": true,
   "sideBar": false,
   "skip_h1_title": false,
   "toc_cell": true,
   "toc_position": {},
   "toc_section_display": "block",
   "toc_window_display": false
  }
 },
 "nbformat": 4,
 "nbformat_minor": 2
}
