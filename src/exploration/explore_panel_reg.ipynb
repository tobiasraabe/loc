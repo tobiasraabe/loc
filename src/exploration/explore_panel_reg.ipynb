{
 "cells": [
  {
   "cell_type": "markdown",
   "metadata": {
    "toc": true
   },
   "source": [
    "<h1>Table of Contents<span class=\"tocSkip\"></span></h1>\n",
    "<div class=\"toc\" style=\"margin-top: 1em;\"><ul class=\"toc-item\"></ul></div>"
   ]
  },
  {
   "cell_type": "code",
   "execution_count": 17,
   "metadata": {
    "ExecuteTime": {
     "end_time": "2018-01-23T10:30:15.567204Z",
     "start_time": "2018-01-23T10:30:15.541186Z"
    },
    "collapsed": true
   },
   "outputs": [],
   "source": [
    "%matplotlib inline\n",
    "import pandas as pd\n",
    "import matplotlib.pyplot as plt\n",
    "import numpy as np\n",
    "\n",
    "import statsmodels.formula.api as smf"
   ]
  },
  {
   "cell_type": "code",
   "execution_count": 36,
   "metadata": {
    "ExecuteTime": {
     "end_time": "2018-01-23T11:11:42.408250Z",
     "start_time": "2018-01-23T11:11:42.345206Z"
    }
   },
   "outputs": [],
   "source": [
    "EVENT_VARIABLES = ['CHILD_DISORDER', 'DEATH_CHILD', 'DEATH_FATHER',\n",
    "                   'DEATH_HH_PERSON', 'DEATH_MOTHER', 'DEATH_PARTNER',\n",
    "                   'DIVORCED', 'HH_COMP_CHANGE', 'LAST_JOB_ENDED',\n",
    "                   'LEGALLY_HANDICAPPED_PERC',\n",
    "                   'PREGNANCY_UNPLANNED', 'SEPARATED']\n",
    "\n",
    "df = pd.read_pickle('../../bld/out/analysis/panel_reg.pkl')"
   ]
  },
  {
   "cell_type": "code",
   "execution_count": 38,
   "metadata": {
    "ExecuteTime": {
     "end_time": "2018-01-23T11:12:01.217721Z",
     "start_time": "2018-01-23T11:12:01.211702Z"
    }
   },
   "outputs": [
    {
     "data": {
      "text/plain": [
       "IntervalIndex([(-1.001, -0.1], (-0.1, 12.0], (12.0, 24.0], (24.0, 36.0], (36.0, 48.0], (48.0, 60.0], (60.0, 72.0]]\n",
       "              closed='right',\n",
       "              dtype='interval[float64]')"
      ]
     },
     "execution_count": 38,
     "metadata": {},
     "output_type": "execute_result"
    }
   ],
   "source": [
    "df.EVENT_DIVORCED_TIME_DIFF_GROUP.cat.categories"
   ]
  },
  {
   "cell_type": "code",
   "execution_count": 37,
   "metadata": {
    "ExecuteTime": {
     "end_time": "2018-01-23T11:11:42.911285Z",
     "start_time": "2018-01-23T11:11:42.829233Z"
    }
   },
   "outputs": [
    {
     "name": "stderr",
     "output_type": "stream",
     "text": [
      "C:\\Users\\tobia\\Anaconda3\\lib\\site-packages\\ipykernel_launcher.py:1: FutureWarning: \n",
      "Passing list-likes to .loc or [] with any missing label will raise\n",
      "KeyError in the future, you can use .reindex() as an alternative.\n",
      "\n",
      "See the documentation here:\n",
      "http://pandas.pydata.org/pandas-docs/stable/indexing.html#deprecate-loc-reindex-listlike\n",
      "  \"\"\"Entry point for launching an IPython kernel.\n",
      "C:\\Users\\tobia\\Anaconda3\\lib\\site-packages\\pandas\\core\\indexing.py:1367: FutureWarning: \n",
      "Passing list-likes to .loc or [] with any missing label will raise\n",
      "KeyError in the future, you can use .reindex() as an alternative.\n",
      "\n",
      "See the documentation here:\n",
      "http://pandas.pydata.org/pandas-docs/stable/indexing.html#deprecate-loc-reindex-listlike\n",
      "  return self._getitem_tuple(key)\n"
     ]
    },
    {
     "data": {
      "text/html": [
       "<div>\n",
       "<style scoped>\n",
       "    .dataframe tbody tr th:only-of-type {\n",
       "        vertical-align: middle;\n",
       "    }\n",
       "\n",
       "    .dataframe tbody tr th {\n",
       "        vertical-align: top;\n",
       "    }\n",
       "\n",
       "    .dataframe thead th {\n",
       "        text-align: right;\n",
       "    }\n",
       "</style>\n",
       "<table border=\"1\" class=\"dataframe\">\n",
       "  <thead>\n",
       "    <tr style=\"text-align: right;\">\n",
       "      <th></th>\n",
       "      <th>ID</th>\n",
       "      <th>YEAR</th>\n",
       "      <th>DIVORCED_MONTH</th>\n",
       "      <th>EVENT_DIVORCED_TIME_DIFF</th>\n",
       "      <th>EVENT_DIVORCED_TIME_DIFF_GROUP</th>\n",
       "      <th>EVENT_DIVORCED_COUNT</th>\n",
       "    </tr>\n",
       "  </thead>\n",
       "  <tbody>\n",
       "  </tbody>\n",
       "</table>\n",
       "</div>"
      ],
      "text/plain": [
       "Empty DataFrame\n",
       "Columns: [ID, YEAR, DIVORCED_MONTH, EVENT_DIVORCED_TIME_DIFF, EVENT_DIVORCED_TIME_DIFF_GROUP, EVENT_DIVORCED_COUNT]\n",
       "Index: []"
      ]
     },
     "execution_count": 37,
     "metadata": {},
     "output_type": "execute_result"
    }
   ],
   "source": [
    "df.loc[(df.EVENT_DIVORCED == False) & (df.EVENT_DIVORCED_TIME_DIFF_GROUP.cat.codes == 1), ['ID', 'YEAR', 'DIVORCED_MONTH', 'EVENT_DIVORCED_TIME_DIFF', 'EVENT_DIVORCED_TIME_DIFF_GROUP', 'EVENT_DIVORCED_COUNT']]"
   ]
  },
  {
   "cell_type": "code",
   "execution_count": 3,
   "metadata": {
    "ExecuteTime": {
     "end_time": "2018-01-23T07:51:09.730655Z",
     "start_time": "2018-01-23T07:51:09.435447Z"
    }
   },
   "outputs": [
    {
     "data": {
      "text/plain": [
       "<matplotlib.axes._subplots.AxesSubplot at 0x1d9f5bc44a8>"
      ]
     },
     "execution_count": 3,
     "metadata": {},
     "output_type": "execute_result"
    },
    {
     "data": {
      "image/png": "[encoded data removed]",
      "text/plain": [
       "<matplotlib.figure.Figure at 0x1d9f24aa550>"
      ]
     },
     "metadata": {},
     "output_type": "display_data"
    }
   ],
   "source": [
    "table = table.T\n",
    "\n",
    "table.iloc[:, :2].plot.bar()"
   ]
  },
  {
   "cell_type": "code",
   "execution_count": 197,
   "metadata": {
    "ExecuteTime": {
     "end_time": "2018-01-23T07:32:04.916757Z",
     "start_time": "2018-01-23T07:32:04.908749Z"
    }
   },
   "outputs": [
    {
     "data": {
      "text/plain": [
       "array([[ 0.00497828,  0.05224453],\n",
       "       [ 0.00495271,  0.09037531],\n",
       "       [ 0.00510351,  0.02666305],\n",
       "       [ 0.00495225,  0.1017115 ],\n",
       "       [ 0.00513275,  0.02719285],\n",
       "       [ 0.00500181,  0.04532184],\n",
       "       [ 0.00499662,  0.04414436],\n",
       "       [ 0.00499376,  0.04742711],\n",
       "       [ 0.00588142,  0.01324575],\n",
       "       [ 0.00495046,  0.08545638],\n",
       "       [ 0.00497633,  0.04587493],\n",
       "       [ 0.00510597,  0.02655194]])"
      ]
     },
     "execution_count": 197,
     "metadata": {},
     "output_type": "execute_result"
    }
   ],
   "source": [
    "table[['se_cons', 'se']].values"
   ]
  },
  {
   "cell_type": "code",
   "execution_count": 185,
   "metadata": {
    "ExecuteTime": {
     "end_time": "2018-01-23T07:27:01.927451Z",
     "start_time": "2018-01-23T07:27:01.916436Z"
    }
   },
   "outputs": [
    {
     "data": {
      "text/html": [
       "<div>\n",
       "<style scoped>\n",
       "    .dataframe tbody tr th:only-of-type {\n",
       "        vertical-align: middle;\n",
       "    }\n",
       "\n",
       "    .dataframe tbody tr th {\n",
       "        vertical-align: top;\n",
       "    }\n",
       "\n",
       "    .dataframe thead th {\n",
       "        text-align: right;\n",
       "    }\n",
       "</style>\n",
       "<table border=\"1\" class=\"dataframe\">\n",
       "  <thead>\n",
       "    <tr style=\"text-align: right;\">\n",
       "      <th></th>\n",
       "      <th>False</th>\n",
       "      <th>True</th>\n",
       "      <th>se</th>\n",
       "    </tr>\n",
       "  </thead>\n",
       "  <tbody>\n",
       "    <tr>\n",
       "      <th>EVENT_CHILD_DISORDER</th>\n",
       "      <td>0.010336</td>\n",
       "      <td>0.048666</td>\n",
       "      <td>0.052245</td>\n",
       "    </tr>\n",
       "    <tr>\n",
       "      <th>EVENT_DEATH_CHILD</th>\n",
       "      <td>0.009721</td>\n",
       "      <td>0.290398</td>\n",
       "      <td>0.090375</td>\n",
       "    </tr>\n",
       "    <tr>\n",
       "      <th>EVENT_DEATH_FATHER</th>\n",
       "      <td>0.010802</td>\n",
       "      <td>0.011911</td>\n",
       "      <td>0.026663</td>\n",
       "    </tr>\n",
       "    <tr>\n",
       "      <th>EVENT_DEATH_HH_PERSON</th>\n",
       "      <td>0.011256</td>\n",
       "      <td>-0.093171</td>\n",
       "      <td>0.101711</td>\n",
       "    </tr>\n",
       "    <tr>\n",
       "      <th>EVENT_DEATH_MOTHER</th>\n",
       "      <td>0.012790</td>\n",
       "      <td>-0.029579</td>\n",
       "      <td>0.027193</td>\n",
       "    </tr>\n",
       "    <tr>\n",
       "      <th>EVENT_DEATH_PARTNER</th>\n",
       "      <td>0.011858</td>\n",
       "      <td>-0.037959</td>\n",
       "      <td>0.045322</td>\n",
       "    </tr>\n",
       "    <tr>\n",
       "      <th>EVENT_DIVORCED</th>\n",
       "      <td>0.012329</td>\n",
       "      <td>-0.072840</td>\n",
       "      <td>0.044144</td>\n",
       "    </tr>\n",
       "    <tr>\n",
       "      <th>EVENT_HH_COMP_CHANGE</th>\n",
       "      <td>0.010305</td>\n",
       "      <td>0.049169</td>\n",
       "      <td>0.047427</td>\n",
       "    </tr>\n",
       "    <tr>\n",
       "      <th>EVENT_LAST_JOB_ENDED</th>\n",
       "      <td>0.020617</td>\n",
       "      <td>-0.017921</td>\n",
       "      <td>0.013246</td>\n",
       "    </tr>\n",
       "    <tr>\n",
       "      <th>EVENT_LEGALLY_HANDICAPPED_PERC</th>\n",
       "      <td>0.010119</td>\n",
       "      <td>0.134265</td>\n",
       "      <td>0.085456</td>\n",
       "    </tr>\n",
       "    <tr>\n",
       "      <th>EVENT_PREGNANCY_UNPLANNED</th>\n",
       "      <td>0.010795</td>\n",
       "      <td>0.014311</td>\n",
       "      <td>0.045875</td>\n",
       "    </tr>\n",
       "    <tr>\n",
       "      <th>EVENT_SEPARATED</th>\n",
       "      <td>0.012829</td>\n",
       "      <td>-0.025809</td>\n",
       "      <td>0.026552</td>\n",
       "    </tr>\n",
       "  </tbody>\n",
       "</table>\n",
       "</div>"
      ],
      "text/plain": [
       "                                   False      True        se\n",
       "EVENT_CHILD_DISORDER            0.010336  0.048666  0.052245\n",
       "EVENT_DEATH_CHILD               0.009721  0.290398  0.090375\n",
       "EVENT_DEATH_FATHER              0.010802  0.011911  0.026663\n",
       "EVENT_DEATH_HH_PERSON           0.011256 -0.093171  0.101711\n",
       "EVENT_DEATH_MOTHER              0.012790 -0.029579  0.027193\n",
       "EVENT_DEATH_PARTNER             0.011858 -0.037959  0.045322\n",
       "EVENT_DIVORCED                  0.012329 -0.072840  0.044144\n",
       "EVENT_HH_COMP_CHANGE            0.010305  0.049169  0.047427\n",
       "EVENT_LAST_JOB_ENDED            0.020617 -0.017921  0.013246\n",
       "EVENT_LEGALLY_HANDICAPPED_PERC  0.010119  0.134265  0.085456\n",
       "EVENT_PREGNANCY_UNPLANNED       0.010795  0.014311  0.045875\n",
       "EVENT_SEPARATED                 0.012829 -0.025809  0.026552"
      ]
     },
     "execution_count": 185,
     "metadata": {},
     "output_type": "execute_result"
    }
   ],
   "source": [
    "table"
   ]
  },
  {
   "cell_type": "code",
   "execution_count": 166,
   "metadata": {
    "ExecuteTime": {
     "end_time": "2018-01-23T07:19:33.634444Z",
     "start_time": "2018-01-23T07:19:33.608423Z"
    }
   },
   "outputs": [
    {
     "data": {
      "text/html": [
       "<table class=\"simpletable\">\n",
       "<caption>OLS Regression Results</caption>\n",
       "<tr>\n",
       "  <th>Dep. Variable:</th>    <td>FIRST_FACTOR_DELTA</td> <th>  R-squared:         </th> <td>   0.000</td> \n",
       "</tr>\n",
       "<tr>\n",
       "  <th>Model:</th>                    <td>OLS</td>        <th>  Adj. R-squared:    </th> <td>   0.000</td> \n",
       "</tr>\n",
       "<tr>\n",
       "  <th>Method:</th>              <td>Least Squares</td>   <th>  F-statistic:       </th> <td>   2.117</td> \n",
       "</tr>\n",
       "<tr>\n",
       "  <th>Date:</th>              <td>Tue, 23 Jan 2018</td>  <th>  Prob (F-statistic):</th>  <td> 0.146</td>  \n",
       "</tr>\n",
       "<tr>\n",
       "  <th>Time:</th>                  <td>08:19:33</td>      <th>  Log-Likelihood:    </th> <td> -26904.</td> \n",
       "</tr>\n",
       "<tr>\n",
       "  <th>No. Observations:</th>       <td> 21371</td>       <th>  AIC:               </th> <td>5.381e+04</td>\n",
       "</tr>\n",
       "<tr>\n",
       "  <th>Df Residuals:</th>           <td> 21369</td>       <th>  BIC:               </th> <td>5.383e+04</td>\n",
       "</tr>\n",
       "<tr>\n",
       "  <th>Df Model:</th>               <td>     1</td>       <th>                     </th>     <td> </td>    \n",
       "</tr>\n",
       "<tr>\n",
       "  <th>Covariance Type:</th>        <td>cluster</td>      <th>                     </th>     <td> </td>    \n",
       "</tr>\n",
       "</table>\n",
       "<table class=\"simpletable\">\n",
       "<tr>\n",
       "             <td></td>                <th>coef</th>     <th>std err</th>      <th>z</th>      <th>P>|z|</th>  <th>[0.025</th>    <th>0.975]</th>  \n",
       "</tr>\n",
       "<tr>\n",
       "  <th>Intercept</th>               <td>    0.0128</td> <td>    0.005</td> <td>    2.512</td> <td> 0.012</td> <td>    0.003</td> <td>    0.023</td>\n",
       "</tr>\n",
       "<tr>\n",
       "  <th>EVENT_SEPARATED[T.True]</th> <td>   -0.0386</td> <td>    0.027</td> <td>   -1.455</td> <td> 0.146</td> <td>   -0.091</td> <td>    0.013</td>\n",
       "</tr>\n",
       "</table>\n",
       "<table class=\"simpletable\">\n",
       "<tr>\n",
       "  <th>Omnibus:</th>       <td>316.846</td> <th>  Durbin-Watson:     </th> <td>   2.240</td> \n",
       "</tr>\n",
       "<tr>\n",
       "  <th>Prob(Omnibus):</th> <td> 0.000</td>  <th>  Jarque-Bera (JB):  </th> <td> 607.101</td> \n",
       "</tr>\n",
       "<tr>\n",
       "  <th>Skew:</th>          <td> 0.027</td>  <th>  Prob(JB):          </th> <td>1.48e-132</td>\n",
       "</tr>\n",
       "<tr>\n",
       "  <th>Kurtosis:</th>      <td> 3.824</td>  <th>  Cond. No.          </th> <td>    4.55</td> \n",
       "</tr>\n",
       "</table>"
      ],
      "text/plain": [
       "<class 'statsmodels.iolib.summary.Summary'>\n",
       "\"\"\"\n",
       "                            OLS Regression Results                            \n",
       "==============================================================================\n",
       "Dep. Variable:     FIRST_FACTOR_DELTA   R-squared:                       0.000\n",
       "Model:                            OLS   Adj. R-squared:                  0.000\n",
       "Method:                 Least Squares   F-statistic:                     2.117\n",
       "Date:                Tue, 23 Jan 2018   Prob (F-statistic):              0.146\n",
       "Time:                        08:19:33   Log-Likelihood:                -26904.\n",
       "No. Observations:               21371   AIC:                         5.381e+04\n",
       "Df Residuals:                   21369   BIC:                         5.383e+04\n",
       "Df Model:                           1                                         \n",
       "Covariance Type:              cluster                                         \n",
       "===========================================================================================\n",
       "                              coef    std err          z      P>|z|      [0.025      0.975]\n",
       "-------------------------------------------------------------------------------------------\n",
       "Intercept                   0.0128      0.005      2.512      0.012       0.003       0.023\n",
       "EVENT_SEPARATED[T.True]    -0.0386      0.027     -1.455      0.146      -0.091       0.013\n",
       "==============================================================================\n",
       "Omnibus:                      316.846   Durbin-Watson:                   2.240\n",
       "Prob(Omnibus):                  0.000   Jarque-Bera (JB):              607.101\n",
       "Skew:                           0.027   Prob(JB):                    1.48e-132\n",
       "Kurtosis:                       3.824   Cond. No.                         4.55\n",
       "==============================================================================\n",
       "\n",
       "Warnings:\n",
       "[1] Standard Errors are robust tocluster correlation (cluster)\n",
       "\"\"\""
      ]
     },
     "execution_count": 166,
     "metadata": {},
     "output_type": "execute_result"
    }
   ],
   "source": [
    "model.summary()"
   ]
  },
  {
   "cell_type": "code",
   "execution_count": 172,
   "metadata": {
    "ExecuteTime": {
     "end_time": "2018-01-23T07:21:36.545810Z",
     "start_time": "2018-01-23T07:21:36.537824Z"
    }
   },
   "outputs": [
    {
     "data": {
      "text/plain": [
       "Intercept                  0.005106\n",
       "EVENT_SEPARATED[T.True]    0.026552\n",
       "dtype: float64"
      ]
     },
     "execution_count": 172,
     "metadata": {},
     "output_type": "execute_result"
    }
   ],
   "source": [
    "model.bse"
   ]
  },
  {
   "cell_type": "code",
   "execution_count": 159,
   "metadata": {
    "ExecuteTime": {
     "end_time": "2018-01-23T07:11:29.352887Z",
     "start_time": "2018-01-23T07:11:29.344883Z"
    }
   },
   "outputs": [
    {
     "data": {
      "text/plain": [
       "Intercept            0.022912\n",
       "EVENT_ANY[T.True]   -0.030708\n",
       "dtype: float64"
      ]
     },
     "execution_count": 159,
     "metadata": {},
     "output_type": "execute_result"
    }
   ],
   "source": [
    "model.params"
   ]
  },
  {
   "cell_type": "code",
   "execution_count": 155,
   "metadata": {
    "ExecuteTime": {
     "end_time": "2018-01-23T07:10:35.968273Z",
     "start_time": "2018-01-23T07:10:35.961269Z"
    }
   },
   "outputs": [
    {
     "data": {
      "text/plain": [
       "['HC0_se',\n",
       " 'HC1_se',\n",
       " 'HC2_se',\n",
       " 'HC3_se',\n",
       " '_HCCM',\n",
       " '__class__',\n",
       " '__delattr__',\n",
       " '__dict__',\n",
       " '__dir__',\n",
       " '__doc__',\n",
       " '__eq__',\n",
       " '__format__',\n",
       " '__ge__',\n",
       " '__getattribute__',\n",
       " '__gt__',\n",
       " '__hash__',\n",
       " '__init__',\n",
       " '__init_subclass__',\n",
       " '__le__',\n",
       " '__lt__',\n",
       " '__module__',\n",
       " '__ne__',\n",
       " '__new__',\n",
       " '__reduce__',\n",
       " '__reduce_ex__',\n",
       " '__repr__',\n",
       " '__setattr__',\n",
       " '__sizeof__',\n",
       " '__str__',\n",
       " '__subclasshook__',\n",
       " '__weakref__',\n",
       " '_cache',\n",
       " '_data_attr',\n",
       " '_get_robustcov_results',\n",
       " '_is_nested',\n",
       " '_wexog_singular_values',\n",
       " 'aic',\n",
       " 'bic',\n",
       " 'bse',\n",
       " 'centered_tss',\n",
       " 'compare_f_test',\n",
       " 'compare_lm_test',\n",
       " 'compare_lr_test',\n",
       " 'condition_number',\n",
       " 'conf_int',\n",
       " 'conf_int_el',\n",
       " 'cov_HC0',\n",
       " 'cov_HC1',\n",
       " 'cov_HC2',\n",
       " 'cov_HC3',\n",
       " 'cov_kwds',\n",
       " 'cov_params',\n",
       " 'cov_params_default',\n",
       " 'cov_type',\n",
       " 'df_model',\n",
       " 'df_resid',\n",
       " 'df_resid_inference',\n",
       " 'diagn',\n",
       " 'eigenvals',\n",
       " 'el_test',\n",
       " 'ess',\n",
       " 'f_pvalue',\n",
       " 'f_test',\n",
       " 'fittedvalues',\n",
       " 'fvalue',\n",
       " 'get_influence',\n",
       " 'get_prediction',\n",
       " 'get_robustcov_results',\n",
       " 'het_scale',\n",
       " 'initialize',\n",
       " 'k_constant',\n",
       " 'llf',\n",
       " 'load',\n",
       " 'model',\n",
       " 'mse_model',\n",
       " 'mse_resid',\n",
       " 'mse_total',\n",
       " 'n_groups',\n",
       " 'nobs',\n",
       " 'normalized_cov_params',\n",
       " 'outlier_test',\n",
       " 'params',\n",
       " 'predict',\n",
       " 'pvalues',\n",
       " 'remove_data',\n",
       " 'resid',\n",
       " 'resid_pearson',\n",
       " 'rsquared',\n",
       " 'rsquared_adj',\n",
       " 'save',\n",
       " 'scale',\n",
       " 'ssr',\n",
       " 'summary',\n",
       " 'summary2',\n",
       " 't_test',\n",
       " 'tvalues',\n",
       " 'uncentered_tss',\n",
       " 'use_t',\n",
       " 'wald_test',\n",
       " 'wald_test_terms',\n",
       " 'wresid']"
      ]
     },
     "execution_count": 155,
     "metadata": {},
     "output_type": "execute_result"
    }
   ],
   "source": [
    "dir(model)"
   ]
  },
  {
   "cell_type": "code",
   "execution_count": 146,
   "metadata": {
    "ExecuteTime": {
     "end_time": "2018-01-23T07:01:26.476227Z",
     "start_time": "2018-01-23T07:01:26.455212Z"
    }
   },
   "outputs": [
    {
     "data": {
      "text/html": [
       "<table class=\"simpletable\">\n",
       "<caption>OLS Regression Results</caption>\n",
       "<tr>\n",
       "  <th>Dep. Variable:</th>    <td>FIRST_FACTOR_DELTA</td> <th>  R-squared:         </th> <td>   0.000</td> \n",
       "</tr>\n",
       "<tr>\n",
       "  <th>Model:</th>                    <td>OLS</td>        <th>  Adj. R-squared:    </th> <td>   0.000</td> \n",
       "</tr>\n",
       "<tr>\n",
       "  <th>Method:</th>              <td>Least Squares</td>   <th>  F-statistic:       </th> <td>   6.801</td> \n",
       "</tr>\n",
       "<tr>\n",
       "  <th>Date:</th>              <td>Tue, 23 Jan 2018</td>  <th>  Prob (F-statistic):</th>  <td>0.00912</td> \n",
       "</tr>\n",
       "<tr>\n",
       "  <th>Time:</th>                  <td>08:01:26</td>      <th>  Log-Likelihood:    </th> <td> -26902.</td> \n",
       "</tr>\n",
       "<tr>\n",
       "  <th>No. Observations:</th>       <td> 21371</td>       <th>  AIC:               </th> <td>5.381e+04</td>\n",
       "</tr>\n",
       "<tr>\n",
       "  <th>Df Residuals:</th>           <td> 21369</td>       <th>  BIC:               </th> <td>5.382e+04</td>\n",
       "</tr>\n",
       "<tr>\n",
       "  <th>Df Model:</th>               <td>     1</td>       <th>                     </th>     <td> </td>    \n",
       "</tr>\n",
       "<tr>\n",
       "  <th>Covariance Type:</th>        <td>cluster</td>      <th>                     </th>     <td> </td>    \n",
       "</tr>\n",
       "</table>\n",
       "<table class=\"simpletable\">\n",
       "<tr>\n",
       "          <td></td>             <th>coef</th>     <th>std err</th>      <th>z</th>      <th>P>|z|</th>  <th>[0.025</th>    <th>0.975]</th>  \n",
       "</tr>\n",
       "<tr>\n",
       "  <th>Intercept</th>         <td>    0.0229</td> <td>    0.007</td> <td>    3.424</td> <td> 0.001</td> <td>    0.010</td> <td>    0.036</td>\n",
       "</tr>\n",
       "<tr>\n",
       "  <th>EVENT_ANY[T.True]</th> <td>   -0.0307</td> <td>    0.012</td> <td>   -2.608</td> <td> 0.009</td> <td>   -0.054</td> <td>   -0.008</td>\n",
       "</tr>\n",
       "</table>\n",
       "<table class=\"simpletable\">\n",
       "<tr>\n",
       "  <th>Omnibus:</th>       <td>316.472</td> <th>  Durbin-Watson:     </th> <td>   2.240</td> \n",
       "</tr>\n",
       "<tr>\n",
       "  <th>Prob(Omnibus):</th> <td> 0.000</td>  <th>  Jarque-Bera (JB):  </th> <td> 605.990</td> \n",
       "</tr>\n",
       "<tr>\n",
       "  <th>Skew:</th>          <td> 0.027</td>  <th>  Prob(JB):          </th> <td>2.58e-132</td>\n",
       "</tr>\n",
       "<tr>\n",
       "  <th>Kurtosis:</th>      <td> 3.823</td>  <th>  Cond. No.          </th> <td>    2.44</td> \n",
       "</tr>\n",
       "</table>"
      ],
      "text/plain": [
       "<class 'statsmodels.iolib.summary.Summary'>\n",
       "\"\"\"\n",
       "                            OLS Regression Results                            \n",
       "==============================================================================\n",
       "Dep. Variable:     FIRST_FACTOR_DELTA   R-squared:                       0.000\n",
       "Model:                            OLS   Adj. R-squared:                  0.000\n",
       "Method:                 Least Squares   F-statistic:                     6.801\n",
       "Date:                Tue, 23 Jan 2018   Prob (F-statistic):            0.00912\n",
       "Time:                        08:01:26   Log-Likelihood:                -26902.\n",
       "No. Observations:               21371   AIC:                         5.381e+04\n",
       "Df Residuals:                   21369   BIC:                         5.382e+04\n",
       "Df Model:                           1                                         \n",
       "Covariance Type:              cluster                                         \n",
       "=====================================================================================\n",
       "                        coef    std err          z      P>|z|      [0.025      0.975]\n",
       "-------------------------------------------------------------------------------------\n",
       "Intercept             0.0229      0.007      3.424      0.001       0.010       0.036\n",
       "EVENT_ANY[T.True]    -0.0307      0.012     -2.608      0.009      -0.054      -0.008\n",
       "==============================================================================\n",
       "Omnibus:                      316.472   Durbin-Watson:                   2.240\n",
       "Prob(Omnibus):                  0.000   Jarque-Bera (JB):              605.990\n",
       "Skew:                           0.027   Prob(JB):                    2.58e-132\n",
       "Kurtosis:                       3.823   Cond. No.                         2.44\n",
       "==============================================================================\n",
       "\n",
       "Warnings:\n",
       "[1] Standard Errors are robust tocluster correlation (cluster)\n",
       "\"\"\""
      ]
     },
     "execution_count": 146,
     "metadata": {},
     "output_type": "execute_result"
    }
   ],
   "source": [
    "model.summary()"
   ]
  },
  {
   "cell_type": "code",
   "execution_count": 97,
   "metadata": {
    "ExecuteTime": {
     "end_time": "2018-01-22T22:59:17.446765Z",
     "start_time": "2018-01-22T22:59:17.288671Z"
    }
   },
   "outputs": [
    {
     "name": "stdout",
     "output_type": "stream",
     "text": [
      "False 0.028862161737768392 0.005950273288410855\n",
      "True -0.012154783593168697 -0.0043591277262904436\n"
     ]
    },
    {
     "data": {
      "image/png": "[encoded data removed]",
      "text/plain": [
       "<matplotlib.figure.Figure at 0x21cf076aef0>"
      ]
     },
     "metadata": {},
     "output_type": "display_data"
    }
   ],
   "source": [
    "fig, ax = plt.subplots()\n",
    "\n",
    "x_pos = np.arange(2)\n",
    "width = 0.4\n",
    "\n",
    "for index, [after, before] in table.iterrows():\n",
    "    print(index, after, before)\n",
    "    offset = index * width\n",
    "    label = 'Any event' if index else 'No event'\n",
    "    ax.bar(x_pos + offset, [before, after], width=width, label=label)\n",
    "\n",
    "ax.set_xticks(x_pos + offset / 2)\n",
    "ax.set_xticklabels(['Before', 'After'])\n",
    "\n",
    "ax.legend()\n",
    "\n",
    "plt.show()\n",
    "plt.close()"
   ]
  },
  {
   "cell_type": "code",
   "execution_count": null,
   "metadata": {
    "collapsed": true
   },
   "outputs": [],
   "source": []
  }
 ],
 "metadata": {
  "kernelspec": {
   "display_name": "Python 3",
   "language": "python",
   "name": "python3"
  },
  "language_info": {
   "codemirror_mode": {
    "name": "ipython",
    "version": 3
   },
   "file_extension": ".py",
   "mimetype": "text/x-python",
   "name": "python",
   "nbconvert_exporter": "python",
   "pygments_lexer": "ipython3",
   "version": "3.6.3"
  },
  "toc": {
   "nav_menu": {},
   "number_sections": true,
   "sideBar": false,
   "skip_h1_title": false,
   "toc_cell": true,
   "toc_position": {},
   "toc_section_display": "block",
   "toc_window_display": false
  }
 },
 "nbformat": 4,
 "nbformat_minor": 2
}
