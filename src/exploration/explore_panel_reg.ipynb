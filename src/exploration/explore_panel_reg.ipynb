{
 "cells": [
  {
   "cell_type": "markdown",
   "metadata": {
    "toc": true
   },
   "source": [
    "<h1>Table of Contents<span class=\"tocSkip\"></span></h1>\n",
    "<div class=\"toc\" style=\"margin-top: 1em;\"><ul class=\"toc-item\"></ul></div>"
   ]
  },
  {
   "cell_type": "code",
   "execution_count": null,
   "metadata": {
    "ExecuteTime": {
     "end_time": "2018-01-23T22:00:34.002899Z",
     "start_time": "2018-01-23T22:00:33.966894Z"
    },
    "collapsed": true
   },
   "outputs": [],
   "source": [
    "%matplotlib inline\n",
    "\n",
    "import sys\n",
    "sys.path.append(\"../..\")\n",
    "\n",
    "import pandas as pd\n",
    "import matplotlib.pyplot as plt\n",
    "import numpy as np\n",
    "import statsmodels.formula.api as smf\n",
    "from bld.project_paths import project_paths_join as ppj"
   ]
  },
  {
   "cell_type": "code",
   "execution_count": null,
   "metadata": {
    "ExecuteTime": {
     "end_time": "2018-01-23T22:00:34.213925Z",
     "start_time": "2018-01-23T22:00:34.170891Z"
    },
    "collapsed": true
   },
   "outputs": [],
   "source": [
    "EVENT_VARIABLES = ['CHILD_DISORDER', 'DEATH_CHILD', 'DEATH_FATHER',\n",
    "                   'DEATH_HH_PERSON', 'DEATH_MOTHER', 'DEATH_PARTNER',\n",
    "                   'DIVORCED', 'HH_COMP_CHANGE', 'LAST_JOB_ENDED',\n",
    "                   'LEGALLY_HANDICAPPED_PERC',\n",
    "                   'PREGNANCY_UNPLANNED', 'SEPARATED']\n",
    "\n",
    "df = pd.read_pickle(ppj(\"OUT_ANALYSIS\", \"panel_reg.pkl\"))"
   ]
  }
 ],
 "metadata": {
  "kernelspec": {
   "display_name": "Python 3",
   "language": "python",
   "name": "python3"
  },
  "language_info": {
   "codemirror_mode": {
    "name": "ipython",
    "version": 3
   },
   "file_extension": ".py",
   "mimetype": "text/x-python",
   "name": "python",
   "nbconvert_exporter": "python",
   "pygments_lexer": "ipython3",
   "version": "3.7.2"
  },
  "toc": {
   "nav_menu": {},
   "number_sections": true,
   "sideBar": false,
   "skip_h1_title": false,
   "toc_cell": true,
   "toc_position": {},
   "toc_section_display": "block",
   "toc_window_display": false
  }
 },
 "nbformat": 4,
 "nbformat_minor": 2
}
