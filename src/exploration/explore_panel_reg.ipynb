{
 "cells": [
  {
   "cell_type": "markdown",
   "metadata": {
    "toc": true
   },
   "source": [
    "<h1>Table of Contents<span class=\"tocSkip\"></span></h1>\n",
    "<div class=\"toc\" style=\"margin-top: 1em;\"><ul class=\"toc-item\"></ul></div>"
   ]
  },
  {
   "cell_type": "code",
   "execution_count": 1,
   "metadata": {
    "ExecuteTime": {
     "end_time": "2018-01-23T22:00:34.002899Z",
     "start_time": "2018-01-23T22:00:33.966894Z"
    },
    "collapsed": true
   },
   "outputs": [],
   "source": [
    "%matplotlib inline\n",
    "\n",
    "import sys\n",
    "sys.path.append(\"../..\")\n",
    "\n",
    "import pandas as pd\n",
    "import matplotlib.pyplot as plt\n",
    "import numpy as np\n",
    "import statsmodels.formula.api as smf\n",
    "from bld.project_paths import project_paths_join as ppj"
   ]
  },
  {
   "cell_type": "code",
   "execution_count": 2,
   "metadata": {
    "ExecuteTime": {
     "end_time": "2018-01-23T22:00:34.213925Z",
     "start_time": "2018-01-23T22:00:34.170891Z"
    },
    "collapsed": true
   },
   "outputs": [],
   "source": [
    "EVENT_VARIABLES = ['CHILD_DISORDER', 'DEATH_CHILD', 'DEATH_FATHER',\n",
    "                   'DEATH_HH_PERSON', 'DEATH_MOTHER', 'DEATH_PARTNER',\n",
    "                   'DIVORCED', 'HH_COMP_CHANGE', 'LAST_JOB_ENDED',\n",
    "                   'LEGALLY_HANDICAPPED_PERC',\n",
    "                   'PREGNANCY_UNPLANNED', 'SEPARATED']\n",
    "\n",
    "df = pd.read_pickle(ppj(\"OUT_ANALYSIS\", \"panel_reg.pkl\"))"
   ]
  },
  {
   "cell_type": "code",
   "execution_count": 3,
   "metadata": {},
   "outputs": [
    {
     "data": {
      "text/plain": [
       "Index(['AGE', 'EDUCATION_GROUPS_ISCED97', 'EMPLOYMENT_STATUS',\n",
       "       'EVENT_CHILD_DISORDER_COUNT', 'EVENT_CHILD_DISORDER_COUNT_PREVIOUS',\n",
       "       'EVENT_CHILD_DISORDER_TIME_DIFF', 'EVENT_DEATH_CHILD_COUNT',\n",
       "       'EVENT_DEATH_CHILD_COUNT_PREVIOUS', 'EVENT_DEATH_CHILD_TIME_DIFF',\n",
       "       'EVENT_DEATH_FATHER_COUNT', 'EVENT_DEATH_FATHER_COUNT_PREVIOUS',\n",
       "       'EVENT_DEATH_FATHER_TIME_DIFF', 'EVENT_DEATH_HH_PERSON_COUNT',\n",
       "       'EVENT_DEATH_HH_PERSON_COUNT_PREVIOUS',\n",
       "       'EVENT_DEATH_HH_PERSON_TIME_DIFF', 'EVENT_DEATH_MOTHER_COUNT',\n",
       "       'EVENT_DEATH_MOTHER_COUNT_PREVIOUS', 'EVENT_DEATH_MOTHER_TIME_DIFF',\n",
       "       'EVENT_DEATH_PARTNER_COUNT', 'EVENT_DEATH_PARTNER_COUNT_PREVIOUS',\n",
       "       'EVENT_DEATH_PARTNER_TIME_DIFF', 'EVENT_DIVORCED_COUNT',\n",
       "       'EVENT_DIVORCED_COUNT_PREVIOUS', 'EVENT_DIVORCED_TIME_DIFF',\n",
       "       'EVENT_HH_COMP_CHANGE_COUNT', 'EVENT_HH_COMP_CHANGE_COUNT_PREVIOUS',\n",
       "       'EVENT_HH_COMP_CHANGE_TIME_DIFF', 'EVENT_LAST_JOB_ENDED_COUNT',\n",
       "       'EVENT_LAST_JOB_ENDED_COUNT_PREVIOUS',\n",
       "       'EVENT_LAST_JOB_ENDED_LIMITED_COUNT',\n",
       "       'EVENT_LAST_JOB_ENDED_LIMITED_COUNT_PREVIOUS',\n",
       "       'EVENT_LAST_JOB_ENDED_LIMITED_TIME_DIFF',\n",
       "       'EVENT_LAST_JOB_ENDED_TIME_DIFF',\n",
       "       'EVENT_LEGALLY_HANDICAPPED_PERC_COUNT',\n",
       "       'EVENT_LEGALLY_HANDICAPPED_PERC_COUNT_PREVIOUS',\n",
       "       'EVENT_LEGALLY_HANDICAPPED_PERC_TIME_DIFF',\n",
       "       'EVENT_PREGNANCY_UNPLANNED_COUNT',\n",
       "       'EVENT_PREGNANCY_UNPLANNED_COUNT_PREVIOUS',\n",
       "       'EVENT_PREGNANCY_UNPLANNED_TIME_DIFF', 'EVENT_SEPARATED_COUNT',\n",
       "       'EVENT_SEPARATED_COUNT_PREVIOUS', 'EVENT_SEPARATED_TIME_DIFF', 'GENDER',\n",
       "       'HH_NET_INCOME_YEAR', 'ID', 'ID_HH', 'LEGALLY_HANDICAPPED_PERC_CHANGE',\n",
       "       'MARITAL_STATUS', 'MIGRATION_STATUS', 'YEAR', 'EVENT_CHILD_DISORDER',\n",
       "       'EVENT_DEATH_CHILD', 'EVENT_DEATH_FATHER', 'EVENT_DEATH_HH_PERSON',\n",
       "       'EVENT_DEATH_MOTHER', 'EVENT_DEATH_PARTNER', 'EVENT_DIVORCED',\n",
       "       'EVENT_HH_COMP_CHANGE', 'EVENT_LAST_JOB_ENDED',\n",
       "       'EVENT_LAST_JOB_ENDED_LIMITED', 'EVENT_LEGALLY_HANDICAPPED_PERC',\n",
       "       'EVENT_PREGNANCY_UNPLANNED', 'EVENT_SEPARATED', 'FIRST_FACTOR_DELTA',\n",
       "       'AGE_GROUPS', 'EVENT_CHILD_DISORDER_TIME_DIFF_GROUP',\n",
       "       'EVENT_DEATH_CHILD_TIME_DIFF_GROUP',\n",
       "       'EVENT_DEATH_FATHER_TIME_DIFF_GROUP',\n",
       "       'EVENT_DEATH_HH_PERSON_TIME_DIFF_GROUP',\n",
       "       'EVENT_DEATH_MOTHER_TIME_DIFF_GROUP',\n",
       "       'EVENT_DEATH_PARTNER_TIME_DIFF_GROUP', 'EVENT_DIVORCED_TIME_DIFF_GROUP',\n",
       "       'EVENT_HH_COMP_CHANGE_TIME_DIFF_GROUP',\n",
       "       'EVENT_LAST_JOB_ENDED_LIMITED_TIME_DIFF_GROUP',\n",
       "       'EVENT_LAST_JOB_ENDED_TIME_DIFF_GROUP',\n",
       "       'EVENT_LEGALLY_HANDICAPPED_PERC_TIME_DIFF_GROUP',\n",
       "       'EVENT_PREGNANCY_UNPLANNED_TIME_DIFF_GROUP',\n",
       "       'EVENT_SEPARATED_TIME_DIFF_GROUP'],\n",
       "      dtype='object')"
      ]
     },
     "execution_count": 3,
     "metadata": {},
     "output_type": "execute_result"
    }
   ],
   "source": [
    "df.columns"
   ]
  },
  {
   "cell_type": "code",
   "execution_count": 13,
   "metadata": {},
   "outputs": [],
   "source": [
    "df[\"EVENT_ANY\"] = df[[\"EVENT_\" + i for i in EVENT_VARIABLES]].any(axis=1)\n",
    "df[\"EVENT_COUNT\"] = df[[\"EVENT_\" + i + \"_COUNT\" for i in EVENT_VARIABLES]].sum(axis=1)"
   ]
  },
  {
   "cell_type": "code",
   "execution_count": 14,
   "metadata": {},
   "outputs": [],
   "source": [
    "model_1 = smf.ols(\"FIRST_FACTOR_DELTA ~ EVENT_ANY\", df)\n",
    "res_1 = model_1.fit(cov_type=\"cluster\", cov_kwds={\"groups\": df[\"ID\"]}, use_t=True)"
   ]
  },
  {
   "cell_type": "code",
   "execution_count": 15,
   "metadata": {},
   "outputs": [
    {
     "data": {
      "text/html": [
       "<table class=\"simpletable\">\n",
       "<caption>OLS Regression Results</caption>\n",
       "<tr>\n",
       "  <th>Dep. Variable:</th>    <td>FIRST_FACTOR_DELTA</td> <th>  R-squared:         </th> <td>   0.000</td> \n",
       "</tr>\n",
       "<tr>\n",
       "  <th>Model:</th>                    <td>OLS</td>        <th>  Adj. R-squared:    </th> <td>   0.000</td> \n",
       "</tr>\n",
       "<tr>\n",
       "  <th>Method:</th>              <td>Least Squares</td>   <th>  F-statistic:       </th> <td>   6.801</td> \n",
       "</tr>\n",
       "<tr>\n",
       "  <th>Date:</th>              <td>Thu, 28 Feb 2019</td>  <th>  Prob (F-statistic):</th>  <td>0.00912</td> \n",
       "</tr>\n",
       "<tr>\n",
       "  <th>Time:</th>                  <td>13:15:29</td>      <th>  Log-Likelihood:    </th> <td> -26902.</td> \n",
       "</tr>\n",
       "<tr>\n",
       "  <th>No. Observations:</th>       <td> 21371</td>       <th>  AIC:               </th> <td>5.381e+04</td>\n",
       "</tr>\n",
       "<tr>\n",
       "  <th>Df Residuals:</th>           <td> 21369</td>       <th>  BIC:               </th> <td>5.382e+04</td>\n",
       "</tr>\n",
       "<tr>\n",
       "  <th>Df Model:</th>               <td>     1</td>       <th>                     </th>     <td> </td>    \n",
       "</tr>\n",
       "<tr>\n",
       "  <th>Covariance Type:</th>        <td>cluster</td>      <th>                     </th>     <td> </td>    \n",
       "</tr>\n",
       "</table>\n",
       "<table class=\"simpletable\">\n",
       "<tr>\n",
       "          <td></td>             <th>coef</th>     <th>std err</th>      <th>t</th>      <th>P>|t|</th>  <th>[0.025</th>    <th>0.975]</th>  \n",
       "</tr>\n",
       "<tr>\n",
       "  <th>Intercept</th>         <td>   -0.0229</td> <td>    0.007</td> <td>   -3.424</td> <td> 0.001</td> <td>   -0.036</td> <td>   -0.010</td>\n",
       "</tr>\n",
       "<tr>\n",
       "  <th>EVENT_ANY[T.True]</th> <td>    0.0307</td> <td>    0.012</td> <td>    2.608</td> <td> 0.009</td> <td>    0.008</td> <td>    0.054</td>\n",
       "</tr>\n",
       "</table>\n",
       "<table class=\"simpletable\">\n",
       "<tr>\n",
       "  <th>Omnibus:</th>       <td>316.472</td> <th>  Durbin-Watson:     </th> <td>   2.240</td> \n",
       "</tr>\n",
       "<tr>\n",
       "  <th>Prob(Omnibus):</th> <td> 0.000</td>  <th>  Jarque-Bera (JB):  </th> <td> 605.990</td> \n",
       "</tr>\n",
       "<tr>\n",
       "  <th>Skew:</th>          <td>-0.027</td>  <th>  Prob(JB):          </th> <td>2.58e-132</td>\n",
       "</tr>\n",
       "<tr>\n",
       "  <th>Kurtosis:</th>      <td> 3.823</td>  <th>  Cond. No.          </th> <td>    2.44</td> \n",
       "</tr>\n",
       "</table><br/><br/>Warnings:<br/>[1] Standard Errors are robust tocluster correlation (cluster)"
      ],
      "text/plain": [
       "<class 'statsmodels.iolib.summary.Summary'>\n",
       "\"\"\"\n",
       "                            OLS Regression Results                            \n",
       "==============================================================================\n",
       "Dep. Variable:     FIRST_FACTOR_DELTA   R-squared:                       0.000\n",
       "Model:                            OLS   Adj. R-squared:                  0.000\n",
       "Method:                 Least Squares   F-statistic:                     6.801\n",
       "Date:                Thu, 28 Feb 2019   Prob (F-statistic):            0.00912\n",
       "Time:                        13:15:29   Log-Likelihood:                -26902.\n",
       "No. Observations:               21371   AIC:                         5.381e+04\n",
       "Df Residuals:                   21369   BIC:                         5.382e+04\n",
       "Df Model:                           1                                         \n",
       "Covariance Type:              cluster                                         \n",
       "=====================================================================================\n",
       "                        coef    std err          t      P>|t|      [0.025      0.975]\n",
       "-------------------------------------------------------------------------------------\n",
       "Intercept            -0.0229      0.007     -3.424      0.001      -0.036      -0.010\n",
       "EVENT_ANY[T.True]     0.0307      0.012      2.608      0.009       0.008       0.054\n",
       "==============================================================================\n",
       "Omnibus:                      316.472   Durbin-Watson:                   2.240\n",
       "Prob(Omnibus):                  0.000   Jarque-Bera (JB):              605.990\n",
       "Skew:                          -0.027   Prob(JB):                    2.58e-132\n",
       "Kurtosis:                       3.823   Cond. No.                         2.44\n",
       "==============================================================================\n",
       "\n",
       "Warnings:\n",
       "[1] Standard Errors are robust tocluster correlation (cluster)\n",
       "\"\"\""
      ]
     },
     "execution_count": 15,
     "metadata": {},
     "output_type": "execute_result"
    }
   ],
   "source": [
    "res_1.summary()"
   ]
  },
  {
   "cell_type": "code",
   "execution_count": 16,
   "metadata": {},
   "outputs": [],
   "source": [
    "model_2 = smf.ols(\"FIRST_FACTOR_DELTA ~ EVENT_COUNT\", df)\n",
    "res_2 = model_2.fit(cov_type=\"cluster\", cov_kwds={\"groups\": df[\"ID\"]}, use_t=True)"
   ]
  },
  {
   "cell_type": "code",
   "execution_count": 17,
   "metadata": {},
   "outputs": [
    {
     "data": {
      "text/html": [
       "<table class=\"simpletable\">\n",
       "<caption>OLS Regression Results</caption>\n",
       "<tr>\n",
       "  <th>Dep. Variable:</th>    <td>FIRST_FACTOR_DELTA</td> <th>  R-squared:         </th> <td>   0.000</td> \n",
       "</tr>\n",
       "<tr>\n",
       "  <th>Model:</th>                    <td>OLS</td>        <th>  Adj. R-squared:    </th> <td>   0.000</td> \n",
       "</tr>\n",
       "<tr>\n",
       "  <th>Method:</th>              <td>Least Squares</td>   <th>  F-statistic:       </th> <td>   5.662</td> \n",
       "</tr>\n",
       "<tr>\n",
       "  <th>Date:</th>              <td>Thu, 28 Feb 2019</td>  <th>  Prob (F-statistic):</th>  <td>0.0174</td>  \n",
       "</tr>\n",
       "<tr>\n",
       "  <th>Time:</th>                  <td>13:15:36</td>      <th>  Log-Likelihood:    </th> <td> -26902.</td> \n",
       "</tr>\n",
       "<tr>\n",
       "  <th>No. Observations:</th>       <td> 21371</td>       <th>  AIC:               </th> <td>5.381e+04</td>\n",
       "</tr>\n",
       "<tr>\n",
       "  <th>Df Residuals:</th>           <td> 21369</td>       <th>  BIC:               </th> <td>5.382e+04</td>\n",
       "</tr>\n",
       "<tr>\n",
       "  <th>Df Model:</th>               <td>     1</td>       <th>                     </th>     <td> </td>    \n",
       "</tr>\n",
       "<tr>\n",
       "  <th>Covariance Type:</th>        <td>cluster</td>      <th>                     </th>     <td> </td>    \n",
       "</tr>\n",
       "</table>\n",
       "<table class=\"simpletable\">\n",
       "<tr>\n",
       "       <td></td>          <th>coef</th>     <th>std err</th>      <th>t</th>      <th>P>|t|</th>  <th>[0.025</th>    <th>0.975]</th>  \n",
       "</tr>\n",
       "<tr>\n",
       "  <th>Intercept</th>   <td>   -0.0199</td> <td>    0.006</td> <td>   -3.232</td> <td> 0.001</td> <td>   -0.032</td> <td>   -0.008</td>\n",
       "</tr>\n",
       "<tr>\n",
       "  <th>EVENT_COUNT</th> <td>    0.0155</td> <td>    0.007</td> <td>    2.379</td> <td> 0.017</td> <td>    0.003</td> <td>    0.028</td>\n",
       "</tr>\n",
       "</table>\n",
       "<table class=\"simpletable\">\n",
       "<tr>\n",
       "  <th>Omnibus:</th>       <td>316.984</td> <th>  Durbin-Watson:     </th> <td>   2.240</td> \n",
       "</tr>\n",
       "<tr>\n",
       "  <th>Prob(Omnibus):</th> <td> 0.000</td>  <th>  Jarque-Bera (JB):  </th> <td> 607.297</td> \n",
       "</tr>\n",
       "<tr>\n",
       "  <th>Skew:</th>          <td>-0.028</td>  <th>  Prob(JB):          </th> <td>1.34e-132</td>\n",
       "</tr>\n",
       "<tr>\n",
       "  <th>Kurtosis:</th>      <td> 3.824</td>  <th>  Cond. No.          </th> <td>    1.86</td> \n",
       "</tr>\n",
       "</table><br/><br/>Warnings:<br/>[1] Standard Errors are robust tocluster correlation (cluster)"
      ],
      "text/plain": [
       "<class 'statsmodels.iolib.summary.Summary'>\n",
       "\"\"\"\n",
       "                            OLS Regression Results                            \n",
       "==============================================================================\n",
       "Dep. Variable:     FIRST_FACTOR_DELTA   R-squared:                       0.000\n",
       "Model:                            OLS   Adj. R-squared:                  0.000\n",
       "Method:                 Least Squares   F-statistic:                     5.662\n",
       "Date:                Thu, 28 Feb 2019   Prob (F-statistic):             0.0174\n",
       "Time:                        13:15:36   Log-Likelihood:                -26902.\n",
       "No. Observations:               21371   AIC:                         5.381e+04\n",
       "Df Residuals:                   21369   BIC:                         5.382e+04\n",
       "Df Model:                           1                                         \n",
       "Covariance Type:              cluster                                         \n",
       "===============================================================================\n",
       "                  coef    std err          t      P>|t|      [0.025      0.975]\n",
       "-------------------------------------------------------------------------------\n",
       "Intercept      -0.0199      0.006     -3.232      0.001      -0.032      -0.008\n",
       "EVENT_COUNT     0.0155      0.007      2.379      0.017       0.003       0.028\n",
       "==============================================================================\n",
       "Omnibus:                      316.984   Durbin-Watson:                   2.240\n",
       "Prob(Omnibus):                  0.000   Jarque-Bera (JB):              607.297\n",
       "Skew:                          -0.028   Prob(JB):                    1.34e-132\n",
       "Kurtosis:                       3.824   Cond. No.                         1.86\n",
       "==============================================================================\n",
       "\n",
       "Warnings:\n",
       "[1] Standard Errors are robust tocluster correlation (cluster)\n",
       "\"\"\""
      ]
     },
     "execution_count": 17,
     "metadata": {},
     "output_type": "execute_result"
    }
   ],
   "source": [
    "res_2.summary()"
   ]
  }
 ],
 "metadata": {
  "kernelspec": {
   "display_name": "Python 3",
   "language": "python",
   "name": "python3"
  },
  "language_info": {
   "codemirror_mode": {
    "name": "ipython",
    "version": 3
   },
   "file_extension": ".py",
   "mimetype": "text/x-python",
   "name": "python",
   "nbconvert_exporter": "python",
   "pygments_lexer": "ipython3",
   "version": "3.7.2"
  },
  "toc": {
   "nav_menu": {},
   "number_sections": true,
   "sideBar": false,
   "skip_h1_title": false,
   "toc_cell": true,
   "toc_position": {},
   "toc_section_display": "block",
   "toc_window_display": false
  }
 },
 "nbformat": 4,
 "nbformat_minor": 2
}
