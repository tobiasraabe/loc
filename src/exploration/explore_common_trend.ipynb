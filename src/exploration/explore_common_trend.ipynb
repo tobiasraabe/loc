{
 "cells": [
  {
   "cell_type": "markdown",
   "metadata": {
    "toc": true
   },
   "source": [
    "<h1>Table of Contents<span class=\"tocSkip\"></span></h1>\n",
    "<div class=\"toc\" style=\"margin-top: 1em;\"><ul class=\"toc-item\"></ul></div>"
   ]
  },
  {
   "cell_type": "code",
   "execution_count": 49,
   "metadata": {
    "ExecuteTime": {
     "end_time": "2018-01-26T08:28:19.674703Z",
     "start_time": "2018-01-26T08:28:19.670699Z"
    },
    "collapsed": true
   },
   "outputs": [],
   "source": [
    "import pandas as pd\n",
    "import statsmodels.formula.api as smf\n",
    "import numpy as np"
   ]
  },
  {
   "cell_type": "code",
   "execution_count": 50,
   "metadata": {
    "ExecuteTime": {
     "end_time": "2018-01-26T08:28:19.882350Z",
     "start_time": "2018-01-26T08:28:19.867342Z"
    },
    "collapsed": true
   },
   "outputs": [],
   "source": [
    "df = pd.read_pickle('../../bld/out/data/panel_common_trend.pkl')"
   ]
  },
  {
   "cell_type": "code",
   "execution_count": 72,
   "metadata": {
    "ExecuteTime": {
     "end_time": "2018-01-26T08:36:17.388741Z",
     "start_time": "2018-01-26T08:36:17.382756Z"
    },
    "collapsed": true
   },
   "outputs": [],
   "source": [
    "leads = ') + C('.join([i for i in df if 'LEADS' in i])\n",
    "leads = 'C(' + leads\n",
    "leads = leads + ')'"
   ]
  },
  {
   "cell_type": "code",
   "execution_count": 74,
   "metadata": {
    "ExecuteTime": {
     "end_time": "2018-01-26T08:36:22.043448Z",
     "start_time": "2018-01-26T08:36:21.857130Z"
    }
   },
   "outputs": [],
   "source": [
    "# Run third specification.\n",
    "model_3 = smf.ols(\n",
    "    'FIRST_FACTOR_DELTA ~ C(EDUCATION_GROUPS_ISCED97) + C('\n",
    "    'EMPLOYMENT_STATUS) + C(MIGRATION_STATUS) + C(AGE_GROUPS) + C('\n",
    "    'GENDER) + np.log(HH_NET_INCOME_YEAR) + C(MARITAL_STATUS) + '\n",
    "    'EVENT_COUNTS_ALL + np.power(EVENT_COUNTS_ALL, 2) + ' + leads,\n",
    "    df)\n",
    "res_3 = model_3.fit(cov_type='cluster', cov_kwds={\n",
    "    'groups': df['ID']}, use_t=True)"
   ]
  },
  {
   "cell_type": "code",
   "execution_count": 82,
   "metadata": {
    "ExecuteTime": {
     "end_time": "2018-01-26T08:39:10.957252Z",
     "start_time": "2018-01-26T08:39:10.919225Z"
    }
   },
   "outputs": [],
   "source": [
    "table = res_3.summary().as_latex()"
   ]
  },
  {
   "cell_type": "code",
   "execution_count": 83,
   "metadata": {
    "ExecuteTime": {
     "end_time": "2018-01-26T08:39:11.148391Z",
     "start_time": "2018-01-26T08:39:11.138384Z"
    },
    "collapsed": true
   },
   "outputs": [],
   "source": [
    "TABLE_CONVERSION_1 = {\n",
    "    'FIRST_FACTOR_DELTA': 'Change in Locus of Control',\n",
    "    'C(EVENT\\\\_CHILD\\\\_DISORDER\\\\_LEADS)[T.True]': 'Child Has Disorders - Lead',\n",
    "    'C(EVENT\\\\_DEATH\\\\_CHILD\\\\_LEADS)[T.True]': 'Death of Child - Lead',\n",
    "    'C(EVENT\\\\_DEATH\\\\_FATHER\\\\_LEADS)[T.True]': 'Death of Father - Lead',\n",
    "    'C(EVENT\\\\_DEATH\\\\_HH\\\\_PERSON\\\\_LEADS)[T.True]': 'Death of HH Person - Lead',\n",
    "    'C(EVENT\\\\_DEATH\\\\_MOTHER\\\\_LEADS)[T.True]': 'Death of Mother - Lead',\n",
    "    'C(EVENT\\\\_DEATH\\\\_PARTNER\\\\_LEADS)[T.True]': 'Death of Partner - Lead',\n",
    "    'C(EVENT\\\\_DIVORCED\\\\_LEADS)[T.True]': 'Divorce - Lead',\n",
    "    'C(EVENT\\\\_HH\\\\_COMP\\\\_CHANGE\\\\_LEADS)[T.True]': 'HH Composition Changed - Lead',\n",
    "    'C(EVENT\\\\_LAST\\\\_JOB\\\\_ENDED\\\\_LEADS)[T.True]': 'Displacement - Lead',\n",
    "    'C(EVENT\\\\_LEGALLY\\\\_HANDICAPPED\\\\_PERC\\\\_LEADS)[T.True]': 'Legally Handicapped - Lead',\n",
    "    'C(EVENT\\\\_PREGNANCY\\\\_UNPLANNED\\\\_LEADS)[T.True]': 'Unplanned Pregnancy - Lead',\n",
    "    'C(EVENT\\\\_SEPARATED\\\\_LEADS)[T.True]': 'Separation - Lead',\n",
    "    'C(EVENT\\\\_LAST\\\\_JOB\\\\_ENDED\\\\_LIMITED\\\\_LEADS)[T.True]': 'Exogenous Displacement - Lead'\n",
    "}"
   ]
  },
  {
   "cell_type": "code",
   "execution_count": 84,
   "metadata": {
    "ExecuteTime": {
     "end_time": "2018-01-26T08:39:11.515806Z",
     "start_time": "2018-01-26T08:39:11.511801Z"
    },
    "collapsed": true
   },
   "outputs": [],
   "source": [
    "for key in TABLE_CONVERSION_1:\n",
    "    table = table.replace(key, TABLE_CONVERSION_1[key])"
   ]
  },
  {
   "cell_type": "code",
   "execution_count": 86,
   "metadata": {
    "ExecuteTime": {
     "end_time": "2018-01-26T08:42:02.991564Z",
     "start_time": "2018-01-26T08:42:02.985561Z"
    }
   },
   "outputs": [
    {
     "name": "stdout",
     "output_type": "stream",
     "text": [
      "\\begin{center}\n",
      "\\begin{tabular}{lclc}\n",
      "\\toprule\n",
      "\\textbf{Dep. Variable:}                                          & Change in Locus of Control & \\textbf{  R-squared:         } &     0.004   \\\\\n",
      "\\textbf{Model:}                                                  &        OLS         & \\textbf{  Adj. R-squared:    } &     0.001   \\\\\n",
      "\\textbf{Method:}                                                 &   Least Squares    & \\textbf{  F-statistic:       } &     1.839   \\\\\n",
      "\\textbf{Date:}                                                   &  Fri, 26 Jan 2018  & \\textbf{  Prob (F-statistic):} &  0.00275    \\\\\n",
      "\\textbf{Time:}                                                   &      09:39:10      & \\textbf{  Log-Likelihood:    } &   -12775.   \\\\\n",
      "\\textbf{No. Observations:}                                       &        10330       & \\textbf{  AIC:               } & 2.562e+04   \\\\\n",
      "\\textbf{Df Residuals:}                                           &        10297       & \\textbf{  BIC:               } & 2.586e+04   \\\\\n",
      "\\textbf{Df Model:}                                               &           32       & \\textbf{                     } &             \\\\\n",
      "\\bottomrule\n",
      "\\end{tabular}\n",
      "\\begin{tabular}{lcccccc}\n",
      "                                                                 & \\textbf{coef} & \\textbf{std err} & \\textbf{t} & \\textbf{P$>$$|$t$|$} & \\textbf{[0.025} & \\textbf{0.975]}  \\\\\n",
      "\\midrule\n",
      "\\textbf{Intercept}                                               &       0.1680  &        0.180     &     0.933  &         0.351        &       -0.185    &        0.521     \\\\\n",
      "\\textbf{C(EDUCATION\\_GROUPS\\_ISCED97)[T.[1] inadequately]}       &       0.0082  &        0.134     &     0.061  &         0.951        &       -0.254    &        0.270     \\\\\n",
      "\\textbf{C(EDUCATION\\_GROUPS\\_ISCED97)[T.[2] general elementary]} &      -0.0296  &        0.113     &    -0.262  &         0.793        &       -0.251    &        0.192     \\\\\n",
      "\\textbf{C(EDUCATION\\_GROUPS\\_ISCED97)[T.[3] middle vocational]}  &      -0.0335  &        0.111     &    -0.302  &         0.763        &       -0.251    &        0.184     \\\\\n",
      "\\textbf{C(EDUCATION\\_GROUPS\\_ISCED97)[T.[4] vocational + Abi]}   &      -0.0590  &        0.113     &    -0.519  &         0.603        &       -0.281    &        0.164     \\\\\n",
      "\\textbf{C(EDUCATION\\_GROUPS\\_ISCED97)[T.[5] higher vocational]}  &      -0.0703  &        0.113     &    -0.623  &         0.533        &       -0.291    &        0.151     \\\\\n",
      "\\textbf{C(EDUCATION\\_GROUPS\\_ISCED97)[T.[6] higher education]}   &      -0.0523  &        0.112     &    -0.467  &         0.641        &       -0.272    &        0.167     \\\\\n",
      "\\textbf{C(EMPLOYMENT\\_STATUS)[T.Not Employed]}                   &      -0.0298  &        0.024     &    -1.239  &         0.216        &       -0.077    &        0.017     \\\\\n",
      "\\textbf{C(EMPLOYMENT\\_STATUS)[T.Other]}                          &       0.0232  &        0.036     &     0.640  &         0.522        &       -0.048    &        0.094     \\\\\n",
      "\\textbf{C(MIGRATION\\_STATUS)[T.True]}                            &      -0.0121  &        0.019     &    -0.636  &         0.525        &       -0.050    &        0.025     \\\\\n",
      "\\textbf{C(AGE\\_GROUPS)[T.Interval(30, 40, closed='right')]}      &      -0.0207  &        0.042     &    -0.495  &         0.621        &       -0.103    &        0.061     \\\\\n",
      "\\textbf{C(AGE\\_GROUPS)[T.Interval(40, 50, closed='right')]}      &      -0.0719  &        0.037     &    -1.947  &         0.052        &       -0.144    &        0.000     \\\\\n",
      "\\textbf{C(AGE\\_GROUPS)[T.Interval(50, 60, closed='right')]}      &      -0.0715  &        0.037     &    -1.931  &         0.054        &       -0.144    &        0.001     \\\\\n",
      "\\textbf{C(AGE\\_GROUPS)[T.Interval(60, 70, closed='right')]}      &      -0.0682  &        0.038     &    -1.791  &         0.073        &       -0.143    &        0.006     \\\\\n",
      "\\textbf{C(AGE\\_GROUPS)[T.Interval(70, 80, closed='right')]}      &      -0.0785  &        0.041     &    -1.914  &         0.056        &       -0.159    &        0.002     \\\\\n",
      "\\textbf{C(AGE\\_GROUPS)[T.Interval(80, 105, closed='right')]}     &      -0.1288  &        0.049     &    -2.612  &         0.009        &       -0.225    &       -0.032     \\\\\n",
      "\\textbf{C(GENDER)[T.Male]}                                       &      -0.0098  &        0.013     &    -0.765  &         0.444        &       -0.035    &        0.015     \\\\\n",
      "\\textbf{C(MARITAL\\_STATUS)[T.Single]}                            &       0.0096  &        0.017     &     0.551  &         0.582        &       -0.025    &        0.044     \\\\\n",
      "\\textbf{Child Has Disorders - Lead}                &       0.0612  &        0.419     &     0.146  &         0.884        &       -0.761    &        0.883     \\\\\n",
      "\\textbf{Death of Child - Lead}                   &       0.3877  &        0.171     &     2.262  &         0.024        &        0.052    &        0.724     \\\\\n",
      "\\textbf{Death of Father - Lead}                  &      -0.0139  &        0.056     &    -0.248  &         0.804        &       -0.124    &        0.096     \\\\\n",
      "\\textbf{Death of HH Person - Lead}              &       0.0036  &        0.188     &     0.019  &         0.985        &       -0.364    &        0.371     \\\\\n",
      "\\textbf{Death of Mother - Lead}                  &      -0.0298  &        0.052     &    -0.573  &         0.566        &       -0.132    &        0.072     \\\\\n",
      "\\textbf{Death of Partner - Lead}                 &      -0.1736  &        0.097     &    -1.795  &         0.073        &       -0.363    &        0.016     \\\\\n",
      "\\textbf{Divorce - Lead}                       &      -0.2436  &        0.144     &    -1.695  &         0.090        &       -0.525    &        0.038     \\\\\n",
      "\\textbf{HH Composition Changed - Lead}               &      -0.0138  &        0.089     &    -0.156  &         0.876        &       -0.188    &        0.160     \\\\\n",
      "\\textbf{Exogenous Displacement - Lead}      &       0.0216  &        0.059     &     0.363  &         0.717        &       -0.095    &        0.138     \\\\\n",
      "\\textbf{Legally Handicapped - Lead}     &       0.2901  &        0.159     &     1.826  &         0.068        &       -0.021    &        0.602     \\\\\n",
      "\\textbf{Unplanned Pregnancy - Lead}           &       0.2112  &        0.147     &     1.441  &         0.150        &       -0.076    &        0.499     \\\\\n",
      "\\textbf{Separation - Lead}                      &       0.1217  &        0.067     &     1.826  &         0.068        &       -0.009    &        0.252     \\\\\n",
      "\\textbf{np.log(HH\\_NET\\_INCOME\\_YEAR)}                           &      -0.0064  &        0.014     &    -0.462  &         0.644        &       -0.034    &        0.021     \\\\\n",
      "\\textbf{EVENT\\_COUNTS\\_ALL}                                      &      -0.0019  &        0.028     &    -0.066  &         0.947        &       -0.057    &        0.053     \\\\\n",
      "\\textbf{np.power(EVENT\\_COUNTS\\_ALL, 2)}                         &       0.0014  &        0.012     &     0.118  &         0.906        &       -0.021    &        0.024     \\\\\n",
      "\\bottomrule\n",
      "\\end{tabular}\n",
      "\\begin{tabular}{lclc}\n",
      "\\textbf{Omnibus:}       & 167.675 & \\textbf{  Durbin-Watson:     } &    1.793  \\\\\n",
      "\\textbf{Prob(Omnibus):} &   0.000 & \\textbf{  Jarque-Bera (JB):  } &  324.051  \\\\\n",
      "\\textbf{Skew:}          &  -0.054 & \\textbf{  Prob(JB):          } & 4.30e-71  \\\\\n",
      "\\textbf{Kurtosis:}      &   3.861 & \\textbf{  Cond. No.          } &     486.  \\\\\n",
      "\\bottomrule\n",
      "\\end{tabular}\n",
      "%\\caption{OLS Regression Results}\n",
      "\\end{center}\n"
     ]
    }
   ],
   "source": [
    "print(table)"
   ]
  },
  {
   "cell_type": "code",
   "execution_count": null,
   "metadata": {
    "collapsed": true
   },
   "outputs": [],
   "source": []
  }
 ],
 "metadata": {
  "kernelspec": {
   "display_name": "Python 3",
   "language": "python",
   "name": "python3"
  },
  "language_info": {
   "codemirror_mode": {
    "name": "ipython",
    "version": 3
   },
   "file_extension": ".py",
   "mimetype": "text/x-python",
   "name": "python",
   "nbconvert_exporter": "python",
   "pygments_lexer": "ipython3",
   "version": "3.6.3"
  },
  "toc": {
   "nav_menu": {},
   "number_sections": true,
   "sideBar": false,
   "skip_h1_title": false,
   "toc_cell": true,
   "toc_position": {},
   "toc_section_display": "block",
   "toc_window_display": false
  }
 },
 "nbformat": 4,
 "nbformat_minor": 2
}
