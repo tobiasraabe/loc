{
 "cells": [
  {
   "cell_type": "markdown",
   "metadata": {
    "toc": true
   },
   "source": [
    "<h1>Table of Contents<span class=\"tocSkip\"></span></h1>\n",
    "<div class=\"toc\" style=\"margin-top: 1em;\"><ul class=\"toc-item\"></ul></div>"
   ]
  },
  {
   "cell_type": "code",
   "execution_count": 17,
   "metadata": {},
   "outputs": [],
   "source": [
    "%matplotlib inline\n",
    "import sys\n",
    "sys.path.append('../data_preparation')\n",
    "import pandas as pd\n",
    "import numpy as np\n",
    "from sklearn.decomposition import FactorAnalysis\n",
    "from sklearn.externals import joblib\n",
    "from sm_factor_analysis.factor_analysis import Factor"
   ]
  },
  {
   "cell_type": "code",
   "execution_count": 11,
   "metadata": {
    "collapsed": true
   },
   "outputs": [],
   "source": [
    "PERCEIVED_CONTROL = ['LOC_LIFES_COURSE', 'LOC_ACHIEVED_DESERVE', 'LOC_LUCK',\n",
    "                     'LOC_OTHERS', 'LOC_DOUBT', 'LOC_POSSIBILITIES',\n",
    "                     'LOC_LITTLE_CONTROL']"
   ]
  },
  {
   "cell_type": "code",
   "execution_count": 12,
   "metadata": {
    "collapsed": true
   },
   "outputs": [],
   "source": [
    "loc_container = joblib.load('../../bld/out/data/loc_container.pkl')"
   ]
  },
  {
   "cell_type": "code",
   "execution_count": 15,
   "metadata": {},
   "outputs": [
    {
     "name": "stdout",
     "output_type": "stream",
     "text": [
      "0.607754531488\n",
      "0.698386707376\n",
      "0.090632175888\n"
     ]
    }
   ],
   "source": [
    "print(loc_container['cronbachs_alpha_ten'])\n",
    "print(loc_container['cronbachs_alpha_seven'])\n",
    "print(loc_container['cronbachs_alpha_seven'] - loc_container['cronbachs_alpha_ten'])"
   ]
  },
  {
   "cell_type": "code",
   "execution_count": 4,
   "metadata": {
    "collapsed": true
   },
   "outputs": [],
   "source": [
    "df = loc_container['data']\n",
    "data = df[PERCEIVED_CONTROL]"
   ]
  },
  {
   "cell_type": "code",
   "execution_count": 5,
   "metadata": {
    "collapsed": true
   },
   "outputs": [],
   "source": [
    "fa = Factor(data, n_factor=2, method='pa')"
   ]
  },
  {
   "cell_type": "code",
   "execution_count": 6,
   "metadata": {},
   "outputs": [],
   "source": [
    "fitted = fa.fit()"
   ]
  },
  {
   "cell_type": "code",
   "execution_count": 21,
   "metadata": {},
   "outputs": [
    {
     "data": {
      "text/html": [
       "<table class=\"simpletable\">\n",
       "<tr>\n",
       "  <td></td> <td>Eigenvalues</td> <td></td> <td></td>\n",
       "</tr>\n",
       "</table>\n",
       "<table class=\"simpletable\">\n",
       "<tr>\n",
       "  <td></td> <th>LOC_LIFES_COURSE</th> <th>LOC_ACHIEVED_DESERVE</th> <th>LOC_LUCK</th> <th>LOC_OTHERS</th> <th>LOC_DOUBT</th> <th>LOC_POSSIBILITIES</th> <th>LOC_LITTLE_CONTROL</th>\n",
       "</tr>\n",
       "<tr>\n",
       "  <th></th>      <td>1.8564</td>             <td>0.2385</td>         <td>0.0870</td>    <td>0.0367</td>    <td>0.0121</td>        <td>-0.0415</td>            <td>-0.0942</td>     \n",
       "</tr>\n",
       "</table>\n",
       "<table class=\"simpletable\">\n",
       "<tr>\n",
       "  <td></td> <td></td> <td></td> <td></td>\n",
       "</tr>\n",
       "</table>\n",
       "<table class=\"simpletable\">\n",
       "<tr>\n",
       "  <td></td> <td>Communality</td> <td></td> <td></td>\n",
       "</tr>\n",
       "</table>\n",
       "<table class=\"simpletable\">\n",
       "<tr>\n",
       "  <td></td> <th>LOC_LIFES_COURSE</th> <th>LOC_ACHIEVED_DESERVE</th> <th>LOC_LUCK</th> <th>LOC_OTHERS</th> <th>LOC_DOUBT</th> <th>LOC_POSSIBILITIES</th> <th>LOC_LITTLE_CONTROL</th>\n",
       "</tr>\n",
       "<tr>\n",
       "  <th></th>      <td>0.2073</td>             <td>0.2834</td>         <td>0.2733</td>    <td>0.3977</td>    <td>0.2589</td>        <td>0.1828</td>             <td>0.4915</td>      \n",
       "</tr>\n",
       "</table>\n",
       "<table class=\"simpletable\">\n",
       "<tr>\n",
       "  <td></td> <td></td> <td></td> <td></td>\n",
       "</tr>\n",
       "</table>\n",
       "<table class=\"simpletable\">\n",
       "<tr>\n",
       "  <td></td> <td>Pre-rotated loadings</td> <td></td> <td></td>\n",
       "</tr>\n",
       "</table>\n",
       "<table class=\"simpletable\">\n",
       "<tr>\n",
       "            <td></td>           <th>factor 0</th> <th>factor 1</th>\n",
       "</tr>\n",
       "<tr>\n",
       "  <th>LOC_LIFES_COURSE</th>      <td>0.3718</td>   <td>0.2629</td> \n",
       "</tr>\n",
       "<tr>\n",
       "  <th>LOC_ACHIEVED_DESERVE</th>  <td>0.5098</td>   <td>-0.1530</td>\n",
       "</tr>\n",
       "<tr>\n",
       "  <th>LOC_LUCK</th>              <td>0.4544</td>   <td>-0.2585</td>\n",
       "</tr>\n",
       "<tr>\n",
       "  <th>LOC_OTHERS</th>            <td>0.6152</td>   <td>0.1386</td> \n",
       "</tr>\n",
       "<tr>\n",
       "  <th>LOC_DOUBT</th>             <td>0.5057</td>   <td>-0.0566</td>\n",
       "</tr>\n",
       "<tr>\n",
       "  <th>LOC_POSSIBILITIES</th>     <td>0.3898</td>   <td>-0.1759</td>\n",
       "</tr>\n",
       "<tr>\n",
       "  <th>LOC_LITTLE_CONTROL</th>    <td>0.6824</td>   <td>0.1607</td> \n",
       "</tr>\n",
       "</table>\n",
       "<table class=\"simpletable\">\n",
       "<tr>\n",
       "  <td></td> <td></td> <td></td> <td></td>\n",
       "</tr>\n",
       "</table>\n",
       "<table class=\"simpletable\">\n",
       "<tr>\n",
       "  <td></td> <td>varimax rotated loadings</td> <td></td> <td></td>\n",
       "</tr>\n",
       "</table>\n",
       "<table class=\"simpletable\">\n",
       "<tr>\n",
       "            <td></td>           <th>factor 0</th> <th>factor 1</th>\n",
       "</tr>\n",
       "<tr>\n",
       "  <th>LOC_LIFES_COURSE</th>      <td>0.4546</td>   <td>0.0262</td> \n",
       "</tr>\n",
       "<tr>\n",
       "  <th>LOC_ACHIEVED_DESERVE</th>  <td>0.3514</td>   <td>-0.3998</td>\n",
       "</tr>\n",
       "<tr>\n",
       "  <th>LOC_LUCK</th>              <td>0.2486</td>   <td>-0.4599</td>\n",
       "</tr>\n",
       "<tr>\n",
       "  <th>LOC_OTHERS</th>            <td>0.5952</td>   <td>-0.2083</td>\n",
       "</tr>\n",
       "<tr>\n",
       "  <th>LOC_DOUBT</th>             <td>0.3989</td>   <td>-0.3158</td>\n",
       "</tr>\n",
       "<tr>\n",
       "  <th>LOC_POSSIBILITIES</th>     <td>0.2375</td>   <td>-0.3556</td>\n",
       "</tr>\n",
       "<tr>\n",
       "  <th>LOC_LITTLE_CONTROL</th>    <td>0.6639</td>   <td>-0.2250</td>\n",
       "</tr>\n",
       "</table>"
      ],
      "text/plain": [
       "<class 'statsmodels.iolib.summary2.Summary'>\n",
       "\"\"\"\n",
       "                                         Factor analysis results\n",
       "=========================================================================================================\n",
       "                                Eigenvalues                                                              \n",
       "---------------------------------------------------------------------------------------------------------\n",
       " LOC_LIFES_COURSE LOC_ACHIEVED_DESERVE LOC_LUCK LOC_OTHERS LOC_DOUBT LOC_POSSIBILITIES LOC_LITTLE_CONTROL\n",
       "---------------------------------------------------------------------------------------------------------\n",
       "           1.8564               0.2385   0.0870     0.0367    0.0121           -0.0415            -0.0942\n",
       "---------------------------------------------------------------------------------------------------------\n",
       "                                                                                                         \n",
       "---------------------------------------------------------------------------------------------------------\n",
       "                                Communality                                                              \n",
       "---------------------------------------------------------------------------------------------------------\n",
       " LOC_LIFES_COURSE LOC_ACHIEVED_DESERVE LOC_LUCK LOC_OTHERS LOC_DOUBT LOC_POSSIBILITIES LOC_LITTLE_CONTROL\n",
       "---------------------------------------------------------------------------------------------------------\n",
       "           0.2073               0.2834   0.2733     0.3977    0.2589            0.1828             0.4915\n",
       "---------------------------------------------------------------------------------------------------------\n",
       "                                                                                                         \n",
       "---------------------------------------------------------------------------------------------------------\n",
       "                             Pre-rotated loadings                                                        \n",
       "----------------------------------------------------------------------------------------------------------------------------------------------------------------------------\n",
       "                                                                                        factor 0                                                                    factor 1\n",
       "----------------------------------------------------------------------------------------------------------------------------------------------------------------------------\n",
       "LOC_LIFES_COURSE                                                                          0.3718                                                                      0.2629\n",
       "LOC_ACHIEVED_DESERVE                                                                      0.5098                                                                     -0.1530\n",
       "LOC_LUCK                                                                                  0.4544                                                                     -0.2585\n",
       "LOC_OTHERS                                                                                0.6152                                                                      0.1386\n",
       "LOC_DOUBT                                                                                 0.5057                                                                     -0.0566\n",
       "LOC_POSSIBILITIES                                                                         0.3898                                                                     -0.1759\n",
       "LOC_LITTLE_CONTROL                                                                        0.6824                                                                      0.1607\n",
       "---------------------------------------------------------------------------------------------------------\n",
       "                                                                                                         \n",
       "---------------------------------------------------------------------------------------------------------\n",
       "                           varimax rotated loadings                                                      \n",
       "----------------------------------------------------------------------------------------------------------------------------------------------------------------------------\n",
       "                                                                                        factor 0                                                                    factor 1\n",
       "----------------------------------------------------------------------------------------------------------------------------------------------------------------------------\n",
       "LOC_LIFES_COURSE                                                                          0.4546                                                                      0.0262\n",
       "LOC_ACHIEVED_DESERVE                                                                      0.3514                                                                     -0.3998\n",
       "LOC_LUCK                                                                                  0.2486                                                                     -0.4599\n",
       "LOC_OTHERS                                                                                0.5952                                                                     -0.2083\n",
       "LOC_DOUBT                                                                                 0.3989                                                                     -0.3158\n",
       "LOC_POSSIBILITIES                                                                         0.2375                                                                     -0.3556\n",
       "LOC_LITTLE_CONTROL                                                                        0.6639                                                                     -0.2250\n",
       "=========================================================================================================\n",
       "\n",
       "\"\"\""
      ]
     },
     "execution_count": 21,
     "metadata": {},
     "output_type": "execute_result"
    }
   ],
   "source": [
    "fitted.summary()"
   ]
  },
  {
   "cell_type": "code",
   "execution_count": 7,
   "metadata": {},
   "outputs": [
    {
     "data": {
      "text/html": [
       "<style  type=\"text/css\" >\n",
       "    #T_172b611e_fdbf_11e7_a3b7_28d2442eae2frow0_col0 {\n",
       "            color:  black;\n",
       "            background-color:  yellow;\n",
       "        }    #T_172b611e_fdbf_11e7_a3b7_28d2442eae2frow0_col1 {\n",
       "            color:  white;\n",
       "            : ;\n",
       "        }    #T_172b611e_fdbf_11e7_a3b7_28d2442eae2frow1_col0 {\n",
       "            color:  black;\n",
       "            background-color:  yellow;\n",
       "        }    #T_172b611e_fdbf_11e7_a3b7_28d2442eae2frow1_col1 {\n",
       "            color:  white;\n",
       "            : ;\n",
       "        }    #T_172b611e_fdbf_11e7_a3b7_28d2442eae2frow2_col0 {\n",
       "            color:  black;\n",
       "            background-color:  yellow;\n",
       "        }    #T_172b611e_fdbf_11e7_a3b7_28d2442eae2frow2_col1 {\n",
       "            color:  white;\n",
       "            : ;\n",
       "        }    #T_172b611e_fdbf_11e7_a3b7_28d2442eae2frow3_col0 {\n",
       "            color:  black;\n",
       "            background-color:  yellow;\n",
       "        }    #T_172b611e_fdbf_11e7_a3b7_28d2442eae2frow3_col1 {\n",
       "            color:  white;\n",
       "            : ;\n",
       "        }    #T_172b611e_fdbf_11e7_a3b7_28d2442eae2frow4_col0 {\n",
       "            color:  black;\n",
       "            background-color:  yellow;\n",
       "        }    #T_172b611e_fdbf_11e7_a3b7_28d2442eae2frow4_col1 {\n",
       "            color:  white;\n",
       "            : ;\n",
       "        }    #T_172b611e_fdbf_11e7_a3b7_28d2442eae2frow5_col0 {\n",
       "            color:  black;\n",
       "            background-color:  yellow;\n",
       "        }    #T_172b611e_fdbf_11e7_a3b7_28d2442eae2frow5_col1 {\n",
       "            color:  white;\n",
       "            : ;\n",
       "        }    #T_172b611e_fdbf_11e7_a3b7_28d2442eae2frow6_col0 {\n",
       "            color:  black;\n",
       "            background-color:  yellow;\n",
       "        }    #T_172b611e_fdbf_11e7_a3b7_28d2442eae2frow6_col1 {\n",
       "            color:  white;\n",
       "            : ;\n",
       "        }</style>  \n",
       "<table id=\"T_172b611e_fdbf_11e7_a3b7_28d2442eae2f\" > \n",
       "<thead>    <tr> \n",
       "        <th class=\"blank level0\" ></th> \n",
       "        <th class=\"col_heading level0 col0\" >factor 0</th> \n",
       "        <th class=\"col_heading level0 col1\" >factor 1</th> \n",
       "    </tr></thead> \n",
       "<tbody>    <tr> \n",
       "        <th id=\"T_172b611e_fdbf_11e7_a3b7_28d2442eae2flevel0_row0\" class=\"row_heading level0 row0\" >LOC_LITTLE_CONTROL</th> \n",
       "        <td id=\"T_172b611e_fdbf_11e7_a3b7_28d2442eae2frow0_col0\" class=\"data row0 col0\" >0.682371</td> \n",
       "        <td id=\"T_172b611e_fdbf_11e7_a3b7_28d2442eae2frow0_col1\" class=\"data row0 col1\" >0.160703</td> \n",
       "    </tr>    <tr> \n",
       "        <th id=\"T_172b611e_fdbf_11e7_a3b7_28d2442eae2flevel0_row1\" class=\"row_heading level0 row1\" >LOC_OTHERS</th> \n",
       "        <td id=\"T_172b611e_fdbf_11e7_a3b7_28d2442eae2frow1_col0\" class=\"data row1 col0\" >0.615221</td> \n",
       "        <td id=\"T_172b611e_fdbf_11e7_a3b7_28d2442eae2frow1_col1\" class=\"data row1 col1\" >0.138551</td> \n",
       "    </tr>    <tr> \n",
       "        <th id=\"T_172b611e_fdbf_11e7_a3b7_28d2442eae2flevel0_row2\" class=\"row_heading level0 row2\" >LOC_ACHIEVED_DESERVE</th> \n",
       "        <td id=\"T_172b611e_fdbf_11e7_a3b7_28d2442eae2frow2_col0\" class=\"data row2 col0\" >0.509833</td> \n",
       "        <td id=\"T_172b611e_fdbf_11e7_a3b7_28d2442eae2frow2_col1\" class=\"data row2 col1\" >-0.153044</td> \n",
       "    </tr>    <tr> \n",
       "        <th id=\"T_172b611e_fdbf_11e7_a3b7_28d2442eae2flevel0_row3\" class=\"row_heading level0 row3\" >LOC_DOUBT</th> \n",
       "        <td id=\"T_172b611e_fdbf_11e7_a3b7_28d2442eae2frow3_col0\" class=\"data row3 col0\" >0.505665</td> \n",
       "        <td id=\"T_172b611e_fdbf_11e7_a3b7_28d2442eae2frow3_col1\" class=\"data row3 col1\" >-0.056637</td> \n",
       "    </tr>    <tr> \n",
       "        <th id=\"T_172b611e_fdbf_11e7_a3b7_28d2442eae2flevel0_row4\" class=\"row_heading level0 row4\" >LOC_LUCK</th> \n",
       "        <td id=\"T_172b611e_fdbf_11e7_a3b7_28d2442eae2frow4_col0\" class=\"data row4 col0\" >0.454398</td> \n",
       "        <td id=\"T_172b611e_fdbf_11e7_a3b7_28d2442eae2frow4_col1\" class=\"data row4 col1\" >-0.258454</td> \n",
       "    </tr>    <tr> \n",
       "        <th id=\"T_172b611e_fdbf_11e7_a3b7_28d2442eae2flevel0_row5\" class=\"row_heading level0 row5\" >LOC_POSSIBILITIES</th> \n",
       "        <td id=\"T_172b611e_fdbf_11e7_a3b7_28d2442eae2frow5_col0\" class=\"data row5 col0\" >0.389757</td> \n",
       "        <td id=\"T_172b611e_fdbf_11e7_a3b7_28d2442eae2frow5_col1\" class=\"data row5 col1\" >-0.175864</td> \n",
       "    </tr>    <tr> \n",
       "        <th id=\"T_172b611e_fdbf_11e7_a3b7_28d2442eae2flevel0_row6\" class=\"row_heading level0 row6\" >LOC_LIFES_COURSE</th> \n",
       "        <td id=\"T_172b611e_fdbf_11e7_a3b7_28d2442eae2frow6_col0\" class=\"data row6 col0\" >0.371768</td> \n",
       "        <td id=\"T_172b611e_fdbf_11e7_a3b7_28d2442eae2frow6_col1\" class=\"data row6 col1\" >0.262941</td> \n",
       "    </tr></tbody> \n",
       "</table> "
      ],
      "text/plain": [
       "<pandas.io.formats.style.Styler at 0x204bed82ef0>"
      ]
     },
     "execution_count": 7,
     "metadata": {},
     "output_type": "execute_result"
    }
   ],
   "source": [
    "fitted.get_loadings_frame()"
   ]
  },
  {
   "cell_type": "code",
   "execution_count": 8,
   "metadata": {},
   "outputs": [
    {
     "data": {
      "text/html": [
       "<style  type=\"text/css\" >\n",
       "    #T_1733ee36_fdbf_11e7_a3d7_28d2442eae2frow0_col0 {\n",
       "            color:  black;\n",
       "            background-color:  yellow;\n",
       "        }    #T_1733ee36_fdbf_11e7_a3d7_28d2442eae2frow0_col1 {\n",
       "            color:  white;\n",
       "            : ;\n",
       "        }    #T_1733ee36_fdbf_11e7_a3d7_28d2442eae2frow1_col0 {\n",
       "            color:  black;\n",
       "            background-color:  yellow;\n",
       "        }    #T_1733ee36_fdbf_11e7_a3d7_28d2442eae2frow1_col1 {\n",
       "            color:  white;\n",
       "            : ;\n",
       "        }    #T_1733ee36_fdbf_11e7_a3d7_28d2442eae2frow2_col0 {\n",
       "            color:  black;\n",
       "            background-color:  yellow;\n",
       "        }    #T_1733ee36_fdbf_11e7_a3d7_28d2442eae2frow2_col1 {\n",
       "            color:  white;\n",
       "            : ;\n",
       "        }    #T_1733ee36_fdbf_11e7_a3d7_28d2442eae2frow3_col0 {\n",
       "            color:  black;\n",
       "            background-color:  yellow;\n",
       "        }    #T_1733ee36_fdbf_11e7_a3d7_28d2442eae2frow3_col1 {\n",
       "            color:  black;\n",
       "            : ;\n",
       "        }    #T_1733ee36_fdbf_11e7_a3d7_28d2442eae2frow4_col0 {\n",
       "            color:  white;\n",
       "            : ;\n",
       "        }    #T_1733ee36_fdbf_11e7_a3d7_28d2442eae2frow4_col1 {\n",
       "            color:  black;\n",
       "            background-color:  yellow;\n",
       "        }    #T_1733ee36_fdbf_11e7_a3d7_28d2442eae2frow5_col0 {\n",
       "            color:  black;\n",
       "            : ;\n",
       "        }    #T_1733ee36_fdbf_11e7_a3d7_28d2442eae2frow5_col1 {\n",
       "            color:  black;\n",
       "            background-color:  yellow;\n",
       "        }    #T_1733ee36_fdbf_11e7_a3d7_28d2442eae2frow6_col0 {\n",
       "            color:  white;\n",
       "            : ;\n",
       "        }    #T_1733ee36_fdbf_11e7_a3d7_28d2442eae2frow6_col1 {\n",
       "            color:  black;\n",
       "            background-color:  yellow;\n",
       "        }</style>  \n",
       "<table id=\"T_1733ee36_fdbf_11e7_a3d7_28d2442eae2f\" > \n",
       "<thead>    <tr> \n",
       "        <th class=\"blank level0\" ></th> \n",
       "        <th class=\"col_heading level0 col0\" >factor 0</th> \n",
       "        <th class=\"col_heading level0 col1\" >factor 1</th> \n",
       "    </tr></thead> \n",
       "<tbody>    <tr> \n",
       "        <th id=\"T_1733ee36_fdbf_11e7_a3d7_28d2442eae2flevel0_row0\" class=\"row_heading level0 row0\" >LOC_LITTLE_CONTROL</th> \n",
       "        <td id=\"T_1733ee36_fdbf_11e7_a3d7_28d2442eae2frow0_col0\" class=\"data row0 col0\" >0.663938</td> \n",
       "        <td id=\"T_1733ee36_fdbf_11e7_a3d7_28d2442eae2frow0_col1\" class=\"data row0 col1\" >-0.225039</td> \n",
       "    </tr>    <tr> \n",
       "        <th id=\"T_1733ee36_fdbf_11e7_a3d7_28d2442eae2flevel0_row1\" class=\"row_heading level0 row1\" >LOC_OTHERS</th> \n",
       "        <td id=\"T_1733ee36_fdbf_11e7_a3d7_28d2442eae2frow1_col0\" class=\"data row1 col0\" >0.595245</td> \n",
       "        <td id=\"T_1733ee36_fdbf_11e7_a3d7_28d2442eae2frow1_col1\" class=\"data row1 col1\" >-0.208269</td> \n",
       "    </tr>    <tr> \n",
       "        <th id=\"T_1733ee36_fdbf_11e7_a3d7_28d2442eae2flevel0_row2\" class=\"row_heading level0 row2\" >LOC_LIFES_COURSE</th> \n",
       "        <td id=\"T_1733ee36_fdbf_11e7_a3d7_28d2442eae2frow2_col0\" class=\"data row2 col0\" >0.454603</td> \n",
       "        <td id=\"T_1733ee36_fdbf_11e7_a3d7_28d2442eae2frow2_col1\" class=\"data row2 col1\" >0.0261706</td> \n",
       "    </tr>    <tr> \n",
       "        <th id=\"T_1733ee36_fdbf_11e7_a3d7_28d2442eae2flevel0_row3\" class=\"row_heading level0 row3\" >LOC_DOUBT</th> \n",
       "        <td id=\"T_1733ee36_fdbf_11e7_a3d7_28d2442eae2frow3_col0\" class=\"data row3 col0\" >0.398948</td> \n",
       "        <td id=\"T_1733ee36_fdbf_11e7_a3d7_28d2442eae2frow3_col1\" class=\"data row3 col1\" >-0.315825</td> \n",
       "    </tr>    <tr> \n",
       "        <th id=\"T_1733ee36_fdbf_11e7_a3d7_28d2442eae2flevel0_row4\" class=\"row_heading level0 row4\" >LOC_LUCK</th> \n",
       "        <td id=\"T_1733ee36_fdbf_11e7_a3d7_28d2442eae2frow4_col0\" class=\"data row4 col0\" >0.248585</td> \n",
       "        <td id=\"T_1733ee36_fdbf_11e7_a3d7_28d2442eae2frow4_col1\" class=\"data row4 col1\" >-0.459872</td> \n",
       "    </tr>    <tr> \n",
       "        <th id=\"T_1733ee36_fdbf_11e7_a3d7_28d2442eae2flevel0_row5\" class=\"row_heading level0 row5\" >LOC_ACHIEVED_DESERVE</th> \n",
       "        <td id=\"T_1733ee36_fdbf_11e7_a3d7_28d2442eae2frow5_col0\" class=\"data row5 col0\" >0.351431</td> \n",
       "        <td id=\"T_1733ee36_fdbf_11e7_a3d7_28d2442eae2frow5_col1\" class=\"data row5 col1\" >-0.399811</td> \n",
       "    </tr>    <tr> \n",
       "        <th id=\"T_1733ee36_fdbf_11e7_a3d7_28d2442eae2flevel0_row6\" class=\"row_heading level0 row6\" >LOC_POSSIBILITIES</th> \n",
       "        <td id=\"T_1733ee36_fdbf_11e7_a3d7_28d2442eae2frow6_col0\" class=\"data row6 col0\" >0.237489</td> \n",
       "        <td id=\"T_1733ee36_fdbf_11e7_a3d7_28d2442eae2frow6_col1\" class=\"data row6 col1\" >-0.355581</td> \n",
       "    </tr></tbody> \n",
       "</table> "
      ],
      "text/plain": [
       "<pandas.io.formats.style.Styler at 0x204bf489c50>"
      ]
     },
     "execution_count": 8,
     "metadata": {},
     "output_type": "execute_result"
    }
   ],
   "source": [
    "fitted.rotate(method='varimax')\n",
    "fitted.get_loadings_frame()"
   ]
  },
  {
   "cell_type": "code",
   "execution_count": 18,
   "metadata": {},
   "outputs": [
    {
     "data": {
      "text/plain": [
       "[<matplotlib.figure.Figure at 0x204bf6519e8>]"
      ]
     },
     "execution_count": 18,
     "metadata": {},
     "output_type": "execute_result"
    },
    {
     "data": {
      "image/png": "[encoded data removed]",
      "text/plain": [
       "<matplotlib.figure.Figure at 0x204bf6519e8>"
      ]
     },
     "metadata": {},
     "output_type": "display_data"
    }
   ],
   "source": [
    "fitted.plot_loadings()"
   ]
  },
  {
   "cell_type": "code",
   "execution_count": 19,
   "metadata": {},
   "outputs": [
    {
     "data": {
      "image/png": "[encoded data removed]",
      "text/plain": [
       "<matplotlib.figure.Figure at 0x204bf75b518>"
      ]
     },
     "execution_count": 19,
     "metadata": {},
     "output_type": "execute_result"
    },
    {
     "data": {
      "image/png": "[encoded data removed]",
      "text/plain": [
       "<matplotlib.figure.Figure at 0x204bf75b518>"
      ]
     },
     "metadata": {},
     "output_type": "display_data"
    }
   ],
   "source": [
    "fitted.plot_scree()"
   ]
  },
  {
   "cell_type": "code",
   "execution_count": null,
   "metadata": {
    "collapsed": true
   },
   "outputs": [],
   "source": []
  }
 ],
 "metadata": {
  "kernelspec": {
   "display_name": "Python 3",
   "language": "python",
   "name": "python3"
  },
  "language_info": {
   "codemirror_mode": {
    "name": "ipython",
    "version": 3
   },
   "file_extension": ".py",
   "mimetype": "text/x-python",
   "name": "python",
   "nbconvert_exporter": "python",
   "pygments_lexer": "ipython3",
   "version": "3.6.3"
  },
  "toc": {
   "nav_menu": {},
   "number_sections": true,
   "sideBar": false,
   "skip_h1_title": false,
   "toc_cell": true,
   "toc_position": {},
   "toc_section_display": "block",
   "toc_window_display": false
  }
 },
 "nbformat": 4,
 "nbformat_minor": 2
}
