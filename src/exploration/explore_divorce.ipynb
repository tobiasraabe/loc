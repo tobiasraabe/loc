{
 "cells": [
  {
   "cell_type": "markdown",
   "metadata": {
    "toc": true
   },
   "source": [
    "<h1>Table of Contents<span class=\"tocSkip\"></span></h1>\n",
    "<div class=\"toc\" style=\"margin-top: 1em;\"><ul class=\"toc-item\"></ul></div>"
   ]
  },
  {
   "cell_type": "code",
   "execution_count": 1,
   "metadata": {
    "collapsed": true
   },
   "outputs": [],
   "source": [
    "import pandas as pd"
   ]
  },
  {
   "cell_type": "code",
   "execution_count": 3,
   "metadata": {},
   "outputs": [],
   "source": [
    "df = pd.read_pickle('../../bld/out/data/panel.pkl')"
   ]
  },
  {
   "cell_type": "code",
   "execution_count": null,
   "metadata": {
    "collapsed": true
   },
   "outputs": [],
   "source": []
  },
  {
   "cell_type": "code",
   "execution_count": 6,
   "metadata": {},
   "outputs": [
    {
     "data": {
      "text/plain": [
       "Index(['ID_ORIGINAL_HH', 'YEAR', 'ID_HH', 'ID', 'GENDER', 'EMPLOYMENT_STATUS',\n",
       "       'REASON_JOB_TERMINATED', 'MARITAL_STATUS', 'SEPARATED_MONTH_SY',\n",
       "       'SEPARATED_MONTH_PY', 'LEGALLY_HANDICAPPED_PERC', 'INT_MONTH', 'AGE',\n",
       "       'DEATH_CHILD_MONTH', 'DEATH_CHILD_BEFORE_INTERVIEW',\n",
       "       'EVENT_DEATH_CHILD', 'DEATH_FATHER_MONTH',\n",
       "       'DEATH_FATHER_BEFORE_INTERVIEW', 'EVENT_DEATH_FATHER',\n",
       "       'DEATH_HH_PERSON_MONTH', 'DEATH_HH_PERSON_BEFORE_INTERVIEW',\n",
       "       'EVENT_DEATH_HH_PERSON', 'DEATH_MOTHER_MONTH',\n",
       "       'DEATH_MOTHER_BEFORE_INTERVIEW', 'EVENT_DEATH_MOTHER',\n",
       "       'DEATH_PARTNER_MONTH', 'DEATH_PARTNER_BEFORE_INTERVIEW',\n",
       "       'EVENT_DEATH_PARTNER', 'DIVORCED_MONTH', 'DIVORCED_BEFORE_INTERVIEW',\n",
       "       'EVENT_DIVORCED', 'HH_COMP_CHANGE_MONTH',\n",
       "       'HH_COMP_CHANGE_BEFORE_INTERVIEW', 'EVENT_HH_COMP_CHANGE'],\n",
       "      dtype='object')"
      ]
     },
     "execution_count": 6,
     "metadata": {},
     "output_type": "execute_result"
    }
   ],
   "source": [
    "df.columns"
   ]
  },
  {
   "cell_type": "code",
   "execution_count": null,
   "metadata": {
    "collapsed": true
   },
   "outputs": [],
   "source": []
  }
 ],
 "metadata": {
  "kernelspec": {
   "display_name": "Python 3",
   "language": "python",
   "name": "python3"
  },
  "language_info": {
   "codemirror_mode": {
    "name": "ipython",
    "version": 3
   },
   "file_extension": ".py",
   "mimetype": "text/x-python",
   "name": "python",
   "nbconvert_exporter": "python",
   "pygments_lexer": "ipython3",
   "version": "3.6.3"
  },
  "toc": {
   "nav_menu": {},
   "number_sections": true,
   "sideBar": false,
   "skip_h1_title": false,
   "toc_cell": true,
   "toc_position": {},
   "toc_section_display": "block",
   "toc_window_display": false
  }
 },
 "nbformat": 4,
 "nbformat_minor": 2
}
